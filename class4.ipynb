{
 "cells": [
  {
   "cell_type": "code",
   "execution_count": 3,
   "id": "aa989316",
   "metadata": {},
   "outputs": [
    {
     "name": "stdout",
     "output_type": "stream",
     "text": [
      "100\n"
     ]
    }
   ],
   "source": [
    "x=100\n",
    "print(x)"
   ]
  },
  {
   "cell_type": "code",
   "execution_count": 1,
   "id": "80397d8f",
   "metadata": {},
   "outputs": [
    {
     "name": "stdout",
     "output_type": "stream",
     "text": [
      "my family_members names shabana , safiya\n"
     ]
    }
   ],
   "source": [
    "name1=\"shabana\"\n",
    "name2=\"safiya\"\n",
    "print(\"my family_members names\",name1,\",\",name2)"
   ]
  },
  {
   "cell_type": "code",
   "execution_count": 12,
   "id": "f4b737ed",
   "metadata": {},
   "outputs": [
    {
     "name": "stdout",
     "output_type": "stream",
     "text": [
      "my family_members names shabana , safiya , afifa\n"
     ]
    }
   ],
   "source": [
    "name1=\"shabana\"\n",
    "name2=\"safiya\"\n",
    "name3=\"afifa\"\n",
    "print(\"my family_members names\",name1,\",\",name2,\",\",name3)\n"
   ]
  },
  {
   "cell_type": "code",
   "execution_count": 13,
   "id": "fc639be8",
   "metadata": {},
   "outputs": [
    {
     "name": "stdout",
     "output_type": "stream",
     "text": [
      "my family_members names shabana safiya afifa\n"
     ]
    }
   ],
   "source": [
    "print(\"my family_members names\",name1, name2, name3)"
   ]
  },
  {
   "cell_type": "code",
   "execution_count": 4,
   "id": "0fdf41f4",
   "metadata": {},
   "outputs": [
    {
     "name": "stdout",
     "output_type": "stream",
     "text": [
      "400\n"
     ]
    }
   ],
   "source": [
    "x=100\n",
    "y=300\n",
    "print(x+y)\n"
   ]
  },
  {
   "cell_type": "code",
   "execution_count": 15,
   "id": "a3dc1246",
   "metadata": {},
   "outputs": [],
   "source": [
    "name1=\"anushka\"\n",
    "name2=\"madhuri\"\n",
    "name3=\"sushma\"\n",
    "name4=\"sruthi\"\n",
    "name5=\"malli\"\n",
    "name6=\"roshini\"\n",
    "name7=\"chandini\"\n",
    "name8=\"sirisha\"\n",
    "name9=\"pranalika\"\n",
    "name10=\"radhika\"\n"
   ]
  },
  {
   "cell_type": "code",
   "execution_count": 16,
   "id": "25d3bf49",
   "metadata": {},
   "outputs": [
    {
     "name": "stdout",
     "output_type": "stream",
     "text": [
      "my friends names anushka madhuri sushma sruthi malli roshini chandini sirisha pranalika radhika\n"
     ]
    }
   ],
   "source": [
    "print(\"my friends names\",name1,name2,name3,name4,name5,name6,name7,name8,name9,name10)"
   ]
  },
  {
   "cell_type": "code",
   "execution_count": 20,
   "id": "0343fc57",
   "metadata": {},
   "outputs": [
    {
     "name": "stdout",
     "output_type": "stream",
     "text": [
      "these are my family members anu\n",
      "karthi\n",
      "param\n"
     ]
    }
   ],
   "source": [
    "print(\"these are my family members\",family_names)"
   ]
  },
  {
   "cell_type": "code",
   "execution_count": 13,
   "id": "df6dc4e2",
   "metadata": {
    "scrolled": true
   },
   "outputs": [
    {
     "name": "stdout",
     "output_type": "stream",
     "text": [
      "these are my family members safiya afifa subhani ishan roshini sadhikh ayesha feroza azam\n"
     ]
    }
   ],
   "source": [
    "print (\"these are my family members\", name1,name2,name3,name4,name5,name7,name8,name9,name10)"
   ]
  },
  {
   "cell_type": "code",
   "execution_count": 14,
   "id": "0e3e48be",
   "metadata": {},
   "outputs": [],
   "source": [
    "family_names=\"anu\\nkarthi\\nparam\""
   ]
  },
  {
   "cell_type": "code",
   "execution_count": 18,
   "id": "993551ae",
   "metadata": {},
   "outputs": [
    {
     "name": "stdout",
     "output_type": "stream",
     "text": [
      "these are my familymembers anu\n",
      "karthi\n",
      "param\n"
     ]
    }
   ],
   "source": [
    "print(\"these are my familymembers\",family_names)"
   ]
  },
  {
   "cell_type": "code",
   "execution_count": 22,
   "id": "0428ebde",
   "metadata": {},
   "outputs": [],
   "source": [
    "name1=\"nonveg\"\n",
    "name2=\"veg\"\n",
    "name3=\"egg biryani\"\n",
    "name4=\"chicken curry\"\n",
    "name5=\"chicken fry\"\n",
    "name6=\"aalu parota\"\n",
    "name7=\"potato chips\"\n",
    "name8=\"mutton biryani\"\n",
    "name9=\"soup\"\n",
    "name10=\"chapathis\"\n"
   ]
  },
  {
   "cell_type": "code",
   "execution_count": 27,
   "id": "4ecddc5a",
   "metadata": {},
   "outputs": [
    {
     "name": "stdout",
     "output_type": "stream",
     "text": [
      "these are favorite food names nonveg veg egg biryani chicken curry chicken fry aalu parota potato chips mutton biryani soup chapathis\n"
     ]
    }
   ],
   "source": [
    "print(\"these are favorite food names\",name1,name2,name3,name4,name5,name6,name7,name8,name9,name10)"
   ]
  },
  {
   "cell_type": "code",
   "execution_count": 28,
   "id": "1f7f570c",
   "metadata": {},
   "outputs": [],
   "source": [
    "name1=\"red\"\n",
    "name2=\"blue\"\n",
    "name3=\"green\"\n",
    "name4=\"yellow\"\n",
    "name5=\"white\"\n",
    "name6=\"pink\"\n",
    "name7=\"black\"\n",
    "name8=\"orange\"\n",
    "name9=\"grey\"\n",
    "name10=\"lemon yellow\""
   ]
  },
  {
   "cell_type": "code",
   "execution_count": 29,
   "id": "133e51ee",
   "metadata": {},
   "outputs": [
    {
     "name": "stdout",
     "output_type": "stream",
     "text": [
      "color names red blue green yellow white pink black orange grey lemon yellow\n"
     ]
    }
   ],
   "source": [
    "print(\"color names\",name1,name2,name3,name4,name5,name6,name7,name8,name9,name10)"
   ]
  },
  {
   "cell_type": "code",
   "execution_count": 35,
   "id": "7ff4112c",
   "metadata": {},
   "outputs": [],
   "source": [
    "name1=\"january\"\n",
    "name2=\"february\"\n",
    "name3=\"march\"\n",
    "name4=\"april\"\n",
    "name5=\"may\"\n",
    "name6=\"june\"\n",
    "name7=\"july\"\n",
    "name8=\"august\"\n",
    "name9=\"september\"\n",
    "name10=\"october\"\n",
    "name11=\"november\"\n",
    "name12=\"december\""
   ]
  },
  {
   "cell_type": "code",
   "execution_count": 37,
   "id": "bcd7a3da",
   "metadata": {},
   "outputs": [
    {
     "name": "stdout",
     "output_type": "stream",
     "text": [
      "months names,january,february,march,april,may,june,july,august,september,october,november,december\n"
     ]
    }
   ],
   "source": [
    "print(\"months names\",name1,name2,name3,name4,name5,name6,name7,name8,name9,name10,name11,name12, sep=',')"
   ]
  },
  {
   "cell_type": "code",
   "execution_count": 38,
   "id": "a8b538f0",
   "metadata": {},
   "outputs": [],
   "source": [
    "name1=\"football\"\n",
    "name2=\"cricket\"\n",
    "name3=\"bascketball\"\n",
    "name4=\"chess\"\n",
    "name5=\"carroms\"\n",
    "name6=\"tennis\"\n",
    "name7=\"kabaddi\"\n",
    "name8=\"coco\"\n",
    "name9=\"running\"\n",
    "name10=\"skipping\""
   ]
  },
  {
   "cell_type": "code",
   "execution_count": 39,
   "id": "3b1eb7d8",
   "metadata": {},
   "outputs": [
    {
     "name": "stdout",
     "output_type": "stream",
     "text": [
      "football,cricket,bascketball,chess,carroms,tennis,kabaddi,coco,running,skipping\n"
     ]
    }
   ],
   "source": [
    "print(name1,name2,name3,name4,name5,name6,name7,name8,name9,name10,sep=',')"
   ]
  },
  {
   "cell_type": "code",
   "execution_count": 3,
   "id": "b99ef0c8",
   "metadata": {},
   "outputs": [],
   "source": [
    "name1=\"kolkata\"\n",
    "name2=\"jaipur\"\n",
    "name3=\"surat\"\n",
    "name4=\"agra\"\n",
    "name5=\"udaipur\"\n",
    "name6=\"nagpur\"\n",
    "name7=\"mysore\"\n",
    "name8=\"bengalore\"\n",
    "name9=\"jamshedpur\"\n",
    "name10=\"chennai\""
   ]
  },
  {
   "cell_type": "code",
   "execution_count": 4,
   "id": "ec2eee8f",
   "metadata": {},
   "outputs": [
    {
     "name": "stdout",
     "output_type": "stream",
     "text": [
      "kolkata,jaipur,surat,agra,udaipur,nagpur,mysore,bengalore,jamshedpur,chennai\n"
     ]
    }
   ],
   "source": [
    "print(name1,name2,name3,name4,name5,name6,name7,name8,name9,name10,sep=',')"
   ]
  },
  {
   "cell_type": "code",
   "execution_count": 15,
   "id": "542f8917",
   "metadata": {},
   "outputs": [
    {
     "data": {
      "text/plain": [
       "('friends_names',\n",
       " ['sushma',\n",
       "  'akhila',\n",
       "  'anusha',\n",
       "  'parveen',\n",
       "  'keerthi',\n",
       "  'kusuma',\n",
       "  'madhuri',\n",
       "  'kalpana',\n",
       "  'meghana',\n",
       "  'sridevi'])"
      ]
     },
     "execution_count": 15,
     "metadata": {},
     "output_type": "execute_result"
    }
   ],
   "source": [
    "(\"friends_names\"),[\"sushma\",\"akhila\",\"anusha\",\"parveen\",\"keerthi\",\"kusuma\",\"madhuri\",\"kalpana\",\"meghana\",\"sridevi\"]"
   ]
  },
  {
   "cell_type": "code",
   "execution_count": 16,
   "id": "0e50040c",
   "metadata": {},
   "outputs": [
    {
     "data": {
      "text/plain": [
       "('family_members', ['subhani', 'shabana', 'safiya', 'afifa'])"
      ]
     },
     "execution_count": 16,
     "metadata": {},
     "output_type": "execute_result"
    }
   ],
   "source": [
    "(\"family_members\"),[\"subhani\",\"shabana\",\"safiya\",\"afifa\",]"
   ]
  },
  {
   "cell_type": "code",
   "execution_count": 23,
   "id": "60dac41a",
   "metadata": {},
   "outputs": [
    {
     "name": "stdout",
     "output_type": "stream",
     "text": [
      "family_members subhani shabana safiya afifa\n"
     ]
    }
   ],
   "source": [
    "print(\"family_members\",\"subhani\",\"shabana\",\"safiya\",\"afifa\",)\n",
    "      "
   ]
  },
  {
   "cell_type": "code",
   "execution_count": 38,
   "id": "79c1c028",
   "metadata": {},
   "outputs": [],
   "source": [
    "colours_names=\"red\",\"blue\",\"pink\",\"black\","
   ]
  },
  {
   "cell_type": "code",
   "execution_count": 39,
   "id": "7cb20a65",
   "metadata": {},
   "outputs": [
    {
     "data": {
      "text/plain": [
       "('red', 'blue', 'pink', 'black')"
      ]
     },
     "execution_count": 39,
     "metadata": {},
     "output_type": "execute_result"
    }
   ],
   "source": [
    "colours_names"
   ]
  },
  {
   "cell_type": "code",
   "execution_count": 40,
   "id": "7daebbe8",
   "metadata": {},
   "outputs": [],
   "source": [
    "colours_names=\"red\",\"blue\",\"white\",\"yellow\",\"black\",\"orange\",\"pink\",\"lemon yellow\",\"grey\","
   ]
  },
  {
   "cell_type": "code",
   "execution_count": 43,
   "id": "c38251d3",
   "metadata": {},
   "outputs": [
    {
     "data": {
      "text/plain": [
       "('red',\n",
       " 'blue',\n",
       " 'white',\n",
       " 'yellow',\n",
       " 'black',\n",
       " 'orange',\n",
       " 'pink',\n",
       " 'lemon yellow',\n",
       " 'grey')"
      ]
     },
     "execution_count": 43,
     "metadata": {},
     "output_type": "execute_result"
    }
   ],
   "source": [
    "colours_names"
   ]
  },
  {
   "cell_type": "code",
   "execution_count": 15,
   "id": "03d81a0e",
   "metadata": {},
   "outputs": [],
   "source": [
    "month_names=[\"january\",\"september\",\"may\",\"march\",\"february\",\"july\",\"august\",\"june\",\"april\",]"
   ]
  },
  {
   "cell_type": "code",
   "execution_count": 2,
   "id": "23ffbbce",
   "metadata": {},
   "outputs": [],
   "source": [
    "seq_set=set(\"month_nmes\")"
   ]
  },
  {
   "cell_type": "raw",
   "id": "c7a62114",
   "metadata": {},
   "source": [
    "seq_set"
   ]
  },
  {
   "cell_type": "code",
   "execution_count": 5,
   "id": "03550171",
   "metadata": {},
   "outputs": [],
   "source": [
    "month_names={1,9,10,5,3,2,7,8,6,4}"
   ]
  },
  {
   "cell_type": "code",
   "execution_count": 6,
   "id": "7733d7f1",
   "metadata": {},
   "outputs": [
    {
     "data": {
      "text/plain": [
       "{1, 2, 3, 4, 5, 6, 7, 8, 9, 10}"
      ]
     },
     "execution_count": 6,
     "metadata": {},
     "output_type": "execute_result"
    }
   ],
   "source": [
    "month_names"
   ]
  },
  {
   "cell_type": "code",
   "execution_count": 9,
   "id": "ef0d5117",
   "metadata": {},
   "outputs": [],
   "source": [
    "tollywood_heros=[\"chiru\",\"balaya\",\"nag\",\"venkey\",\"powerstar\",\"superstar\",\"ntr\",\"ramcharan\"]"
   ]
  },
  {
   "cell_type": "code",
   "execution_count": 12,
   "id": "a527839b",
   "metadata": {},
   "outputs": [],
   "source": [
    "tollywood_heros[0]=(\"chiranjeevi\")\n",
    "tollywood_heros[1]=(\"balakrishna\")\n",
    "tollywood_heros[2]=(\"nagarjuna\")\n",
    "tollywood_heros[3]=(\"pawan kalyan\")\n",
    "tollywood_heros[4]=(\"mahesh babu\")\n",
    "tollywood_heros[5]=(\"NT rama rao\")\n",
    "tollywood_heros[6]=(\"ramcharan\")"
   ]
  },
  {
   "cell_type": "code",
   "execution_count": 13,
   "id": "e9bf66ae",
   "metadata": {},
   "outputs": [
    {
     "name": "stdout",
     "output_type": "stream",
     "text": [
      "['chiranjeevi', 'balakrishna', 'nagarjuna', 'pawan kalyan', 'mahesh babu', 'NT rama rao', 'ramcharan', 'ramcharan']\n"
     ]
    }
   ],
   "source": [
    "print(tollywood_heros)"
   ]
  },
  {
   "cell_type": "code",
   "execution_count": 11,
   "id": "0e646b10",
   "metadata": {},
   "outputs": [
    {
     "name": "stdout",
     "output_type": "stream",
     "text": [
      "['chiranjeevi', 'balaya', 'nag', 'venkey', 'powerstar', 'superstar', 'ntr', 'ramcharan']\n"
     ]
    }
   ],
   "source": [
    "print(tollywood_heros)"
   ]
  },
  {
   "cell_type": "code",
   "execution_count": 43,
   "id": "0c667f5b",
   "metadata": {},
   "outputs": [],
   "source": [
    "bollywood_heros=[\"sharukkhan\",\"salmankhan\",\"salmankhan\",\"amirkhan\",\"hrithikroshan\",\"amitabh bachchan\",\"amirkhan\"]"
   ]
  },
  {
   "cell_type": "code",
   "execution_count": 44,
   "id": "cc3b2d7c",
   "metadata": {},
   "outputs": [],
   "source": [
    "seq_set=set(bollywood_heros)"
   ]
  },
  {
   "cell_type": "code",
   "execution_count": 46,
   "id": "61f43a3b",
   "metadata": {},
   "outputs": [
    {
     "data": {
      "text/plain": [
       "{'amirkhan', 'amitabh bachchan', 'hrithikroshan', 'salmankhan', 'sharukkhan'}"
      ]
     },
     "execution_count": 46,
     "metadata": {},
     "output_type": "execute_result"
    }
   ],
   "source": [
    "seq_set"
   ]
  },
  {
   "cell_type": "code",
   "execution_count": 5,
   "id": "4f923338",
   "metadata": {},
   "outputs": [],
   "source": [
    "breakfast_items=[\"upma\",\"dosa\",\"idly\",\"puri\",\"punugulu\",\"roti\",\"chapathi\", \"parota\",\"mysoor baji\",\"minapa baji\"]"
   ]
  },
  {
   "cell_type": "code",
   "execution_count": 9,
   "id": "d7d80a04",
   "metadata": {},
   "outputs": [],
   "source": [
    "seq_set=set(breakfast_items)"
   ]
  },
  {
   "cell_type": "code",
   "execution_count": 10,
   "id": "9238ef68",
   "metadata": {},
   "outputs": [
    {
     "data": {
      "text/plain": [
       "{'chapathi',\n",
       " 'dosa',\n",
       " 'idly',\n",
       " 'minapa baji',\n",
       " 'mysoor baji',\n",
       " 'parota',\n",
       " 'punugulu',\n",
       " 'puri',\n",
       " 'roti',\n",
       " 'upma'}"
      ]
     },
     "execution_count": 10,
     "metadata": {},
     "output_type": "execute_result"
    }
   ],
   "source": [
    "seq_set"
   ]
  }
 ],
 "metadata": {
  "kernelspec": {
   "display_name": "Python 3 (ipykernel)",
   "language": "python",
   "name": "python3"
  },
  "language_info": {
   "codemirror_mode": {
    "name": "ipython",
    "version": 3
   },
   "file_extension": ".py",
   "mimetype": "text/x-python",
   "name": "python",
   "nbconvert_exporter": "python",
   "pygments_lexer": "ipython3",
   "version": "3.10.9"
  }
 },
 "nbformat": 4,
 "nbformat_minor": 5
}
