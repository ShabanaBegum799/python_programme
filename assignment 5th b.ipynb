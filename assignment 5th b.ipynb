{
 "cells": [
  {
   "cell_type": "code",
   "execution_count": 2,
   "id": "b070067a",
   "metadata": {},
   "outputs": [],
   "source": [
    "age=20"
   ]
  },
  {
   "cell_type": "code",
   "execution_count": 3,
   "id": "1e77012d",
   "metadata": {},
   "outputs": [
    {
     "name": "stdout",
     "output_type": "stream",
     "text": [
      "20\n"
     ]
    }
   ],
   "source": [
    "print(age)"
   ]
  },
  {
   "cell_type": "code",
   "execution_count": 23,
   "id": "55f905ea",
   "metadata": {
    "scrolled": true
   },
   "outputs": [
    {
     "name": "stdout",
     "output_type": "stream",
     "text": [
      "teen_age\n"
     ]
    }
   ],
   "source": [
    "age=20\n",
    "if age>=20:\n",
    "    print(\"teen_age\")\n",
    "else:\n",
    "    print(\"young_age\")"
   ]
  },
  {
   "cell_type": "code",
   "execution_count": 41,
   "id": "375f8c80",
   "metadata": {},
   "outputs": [
    {
     "name": "stdout",
     "output_type": "stream",
     "text": [
      "young_age\n"
     ]
    }
   ],
   "source": [
    "age=40\n",
    "if age>=30:\n",
    "    print(\"young_age\")\n",
    "else:\n",
    "    print(\"teen_age\")                    "
   ]
  },
  {
   "cell_type": "code",
   "execution_count": 60,
   "id": "381de778",
   "metadata": {},
   "outputs": [
    {
     "name": "stdout",
     "output_type": "stream",
     "text": [
      "today monday\n",
      "weekday\n",
      "today tuesday\n",
      "weekday\n",
      "today wednesday\n",
      "weekday\n",
      "today thursday\n",
      "weekday\n",
      "today friday\n",
      "weekday\n",
      "today saturday\n",
      "weekday\n",
      "today sunday\n",
      "weekday\n"
     ]
    }
   ],
   "source": [
    "today=[\"monday\",\"tuesday\",\"wednesday\",\"thursday\",\"friday\",\"saturday\",\"sunday\"]\n",
    "for i in today:\n",
    "    print(\"today\",i)\n",
    "    if today[0]==\"monday\":\n",
    "        print(\"weekday\")\n",
    "    elif today[1]==\"tuesday\":\n",
    "        print(\"weekday\")\n",
    "    elif today[2]==\"wednesday\":\n",
    "        print(\"weekday\")\n",
    "    elif today[3]==\"thursday\":\n",
    "        print(\"weekday\")\n",
    "    elif today[4]==\"friday\":\n",
    "        print(\"weekday\")\n",
    "    else:\n",
    "        print(\"weekend\")    "
   ]
  },
  {
   "cell_type": "code",
   "execution_count": 14,
   "id": "2b572d9e",
   "metadata": {},
   "outputs": [
    {
     "name": "stdout",
     "output_type": "stream",
     "text": [
      "lost\n"
     ]
    }
   ],
   "source": [
    "income=10\n",
    "if income>10:\n",
    "    print(\"profitable\") \n",
    "else:\n",
    "    print(\"lost\")"
   ]
  },
  {
   "cell_type": "code",
   "execution_count": 15,
   "id": "1c715c51",
   "metadata": {},
   "outputs": [
    {
     "name": "stdout",
     "output_type": "stream",
     "text": [
      "profitable\n"
     ]
    }
   ],
   "source": [
    "income=50\n",
    "if income>10:\n",
    "    print(\"profitable\")\n",
    "else:\n",
    "    print(\"lost\")"
   ]
  },
  {
   "cell_type": "code",
   "execution_count": 38,
   "id": "a972f577",
   "metadata": {},
   "outputs": [
    {
     "name": "stdout",
     "output_type": "stream",
     "text": [
      "i am younger\n"
     ]
    }
   ],
   "source": [
    "sister_age=50\n",
    "my_age=40\n",
    "if sister_age<my_age:\n",
    "    print(\"i am elder\")\n",
    "else:\n",
    "    print(\"i am younger\")\n",
    "    "
   ]
  },
  {
   "cell_type": "code",
   "execution_count": 42,
   "id": "85e8518e",
   "metadata": {},
   "outputs": [
    {
     "name": "stdout",
     "output_type": "stream",
     "text": [
      "20%\n"
     ]
    }
   ],
   "source": [
    "amount=70\n",
    "if amount>100:\n",
    "    print(\"30%\")\n",
    "elif amount<50:\n",
    "    print(\"10%\")\n",
    "else:\n",
    "    print(\"20%\")"
   ]
  },
  {
   "cell_type": "code",
   "execution_count": null,
   "id": "fb7f6ca5",
   "metadata": {},
   "outputs": [],
   "source": []
  },
  {
   "cell_type": "code",
   "execution_count": null,
   "id": "f78d8db9",
   "metadata": {},
   "outputs": [],
   "source": []
  }
 ],
 "metadata": {
  "kernelspec": {
   "display_name": "Python 3 (ipykernel)",
   "language": "python",
   "name": "python3"
  },
  "language_info": {
   "codemirror_mode": {
    "name": "ipython",
    "version": 3
   },
   "file_extension": ".py",
   "mimetype": "text/x-python",
   "name": "python",
   "nbconvert_exporter": "python",
   "pygments_lexer": "ipython3",
   "version": "3.10.9"
  }
 },
 "nbformat": 4,
 "nbformat_minor": 5
}
