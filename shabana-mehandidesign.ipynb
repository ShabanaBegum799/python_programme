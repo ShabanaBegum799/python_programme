{
 "cells": [
  {
   "cell_type": "code",
   "execution_count": null,
   "id": "cb3f9f2a",
   "metadata": {},
   "outputs": [],
   "source": [
    "event={\"typeofmehandi: \"classic\",\n",
    "      \"typesofdesign:\"hd\",\n",
    "      \"typesofcolour\":\"red\",\n",
    "      \"price\":2000}"
   ]
  },
  {
   "cell_type": "code",
   "execution_count": 9,
   "id": "5981b891",
   "metadata": {},
   "outputs": [],
   "source": [
    "def shabanamehandidesigns(event):\n",
    "        \n",
    "        if event[\"typeofmehandi\"]==\"classic\":\n",
    "            if event[\"typeofdesign\"]==\"hd\":\n",
    "                if event[\"typeofcolour\"]==\"red\":\n",
    "                    price=2000\n",
    "                    \n",
    "        return{\"typeofmehandi\":event[\"typeofmehandi\"],\n",
    "               \"typeofdesign\":event[\"typeofdesign\"],\n",
    "               \"typeofcolour\":[\"typeofcolour\"],\n",
    "                \"price\":price}"
   ]
  },
  {
   "cell_type": "code",
   "execution_count": null,
   "id": "4db5a5fe",
   "metadata": {},
   "outputs": [],
   "source": []
  },
  {
   "cell_type": "code",
   "execution_count": 52,
   "id": "c7f8590e",
   "metadata": {},
   "outputs": [],
   "source": [
    "event={\"typesof_mehandi\":\"classic\",\"typesof_design\":\"hd\",\"typesof_colour\":\"red\"}\n",
    "def shabanamehandidesigns(event):\n",
    "        if event[\"typesof_mehandi\"]==\"classic\":\n",
    "            if event[\"typesof_design\"]==\"hd\":\n",
    "                if event[\"typesof_colour\"]==\"red\":\n",
    "                    price=2000\n",
    "                elif event[\"typesof_colour\"]==\"black\":\n",
    "                    price=1500\n",
    "                elif event[\"typesof_colour\"]==\"brown\":\n",
    "                    price=1000\n",
    "                else:\n",
    "                    price=0\n",
    "            elif event[\"typesof_design\"]==\"fd\":\n",
    "                if event[\"typesof_colour\"]==\"red\":\n",
    "                    price=1000\n",
    "                elif event[\"typesof_colour\"]==\"black\":\n",
    "                    price=600\n",
    "                elif event[\"typesof_colour\"]==\"brown\":\n",
    "                    price=500\n",
    "                else:\n",
    "                    price=0\n",
    "            elif event[\"typesof_design\"]==\"bd\":\n",
    "                if event[\"typesof_colour\"]==\"red\":\n",
    "                    price=1000\n",
    "                elif event[\"typesof_colour\"]==\"black\":\n",
    "                    price=600\n",
    "                elif event[\"typesof_colour\"]==\"brown\":\n",
    "                    price=500\n",
    "                else:\n",
    "                    price=0\n",
    "            \n",
    "        elif event[\"typesof_mehandi\"]==\"arabic\":\n",
    "            if event[\"typesof_design\"]==\"hd\":\n",
    "                if event[\"typesof_colour\"]==\"red\":\n",
    "                    price=2500\n",
    "                elif event[\"typesof_colour\"]==\"black\":\n",
    "                    price=1000\n",
    "                elif event[\"typesof_colour\"]==\"brown\":\n",
    "                    price=1500\n",
    "                else:\n",
    "                    price=0\n",
    "            elif event[\"typesof_design\"]==\"fd\":\n",
    "                if event[\"typesof_colour\"]==\"red\":\n",
    "                    price=2000\n",
    "                elif event[\"typesof_colour\"]==\"black\":\n",
    "                    price=1500\n",
    "                elif event[\"typesof_colour\"]==\"brown\":\n",
    "                    price=1000\n",
    "                else:\n",
    "                    price=0\n",
    "            elif event[\"typesof_design\"]==\"bd\":\n",
    "                if event[\"typesof_colour\"]==\"red\":\n",
    "                    price=1500\n",
    "                elif event[\"typesof_colour\"]==\"black\":\n",
    "                    price=1000\n",
    "                elif event[\"typesof_colour\"]==\"brown\":\n",
    "                    price=500\n",
    "                else:\n",
    "                    price=0\n",
    "        elif event[\"typesof_mehandi\"]==\"pakistani\":\n",
    "            if event[\"typesof_design\"]==\"hd\":\n",
    "                if event[\"typesof_colour\"]==\"red\":\n",
    "                    price=2500\n",
    "                elif event[\"typesof_colour\"]==\"black\":\n",
    "                    price=2000\n",
    "                elif event[\"typesof_colour\"]==\"brown\":\n",
    "                    price=1000\n",
    "                else:\n",
    "                    price=0\n",
    "            elif event[\"typesof_design\"]==\"fd\":\n",
    "                if event[\"typesof_colour\"]==\"red\":\n",
    "                    price=2000\n",
    "                elif event[\"typesof_colour\"]==\"black\":\n",
    "                    price=1500\n",
    "                elif event[\"typesof_colour\"]==\"brown\":\n",
    "                    price=800\n",
    "                else:\n",
    "                    price=0\n",
    "            elif event[\"typesof_design\"]==\"bd\":\n",
    "                if event[\"typesof_colour\"]==\"red\":\n",
    "                    price=800\n",
    "                elif event[\"typesof_colour\"]==\"black\":\n",
    "                    price=600\n",
    "                elif event[\"typesof_colour\"]==\"brown\":\n",
    "                    price=400\n",
    "                else:\n",
    "                    price=0\n",
    "                       \n",
    "            \n",
    "            \n",
    "            \n",
    "            \n",
    "            \n",
    "            \n",
    "            \n",
    "            \n",
    "            \n",
    "                    \n",
    "        return{\"typesof_mehandi\":event[\"typesof_mehandi\"],\"typesof_design\":event[\"typesof_design\"],\"typesof_colour\":[\"typesof_colour\"],\"price\":price}        \n",
    "           \n",
    "           \n",
    "    "
   ]
  },
  {
   "cell_type": "code",
   "execution_count": 53,
   "id": "a9a4633a",
   "metadata": {},
   "outputs": [
    {
     "data": {
      "text/plain": [
       "{'typesof_mehandi': 'classic',\n",
       " 'typesof_design': 'hd',\n",
       " 'typesof_colour': ['typesof_colour'],\n",
       " 'price': 2000}"
      ]
     },
     "execution_count": 53,
     "metadata": {},
     "output_type": "execute_result"
    }
   ],
   "source": [
    "shabanamehandidesigns(event)"
   ]
  },
  {
   "cell_type": "code",
   "execution_count": null,
   "id": "af6b8bf6",
   "metadata": {},
   "outputs": [],
   "source": []
  },
  {
   "cell_type": "code",
   "execution_count": null,
   "id": "a56d3ce2",
   "metadata": {},
   "outputs": [],
   "source": []
  },
  {
   "cell_type": "code",
   "execution_count": null,
   "id": "84809c8c",
   "metadata": {},
   "outputs": [],
   "source": []
  },
  {
   "cell_type": "code",
   "execution_count": null,
   "id": "cc5875f0",
   "metadata": {},
   "outputs": [],
   "source": []
  },
  {
   "cell_type": "code",
   "execution_count": null,
   "id": "b5deb978",
   "metadata": {},
   "outputs": [],
   "source": []
  }
 ],
 "metadata": {
  "kernelspec": {
   "display_name": "Python 3 (ipykernel)",
   "language": "python",
   "name": "python3"
  },
  "language_info": {
   "codemirror_mode": {
    "name": "ipython",
    "version": 3
   },
   "file_extension": ".py",
   "mimetype": "text/x-python",
   "name": "python",
   "nbconvert_exporter": "python",
   "pygments_lexer": "ipython3",
   "version": "3.10.9"
  }
 },
 "nbformat": 4,
 "nbformat_minor": 5
}
