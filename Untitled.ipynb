{
 "cells": [
  {
   "cell_type": "code",
   "execution_count": 1,
   "id": "82f48929",
   "metadata": {},
   "outputs": [],
   "source": [
    "bollywood_heros={\"sharukkhan\", \"salmankhan\", \"salmankhan\",\"amirkhan\",\"HrithikRoshan\",\"Amitabh Bachchan\",\"Akshay Kumar\",\"amirkhan\"} "
   ]
  },
  {
   "cell_type": "code",
   "execution_count": 2,
   "id": "65961239",
   "metadata": {},
   "outputs": [
    {
     "data": {
      "text/plain": [
       "{'Akshay Kumar',\n",
       " 'Amitabh Bachchan',\n",
       " 'HrithikRoshan',\n",
       " 'amirkhan',\n",
       " 'salmankhan',\n",
       " 'sharukkhan'}"
      ]
     },
     "execution_count": 2,
     "metadata": {},
     "output_type": "execute_result"
    }
   ],
   "source": [
    "bollywood_heros"
   ]
  },
  {
   "cell_type": "code",
   "execution_count": 3,
   "id": "af934594",
   "metadata": {},
   "outputs": [
    {
     "name": "stdout",
     "output_type": "stream",
     "text": [
      "{'sharukkhan', 'Amitabh Bachchan', 'HrithikRoshan', 'Akshay Kumar', 'amirkhan', 'salmankhan'}\n"
     ]
    }
   ],
   "source": [
    "print(seq_set)"
   ]
  },
  {
   "cell_type": "code",
   "execution_count": null,
   "id": "10457ce3",
   "metadata": {},
   "outputs": [],
   "source": []
  }
 ],
 "metadata": {
  "kernelspec": {
   "display_name": "Python 3 (ipykernel)",
   "language": "python",
   "name": "python3"
  },
  "language_info": {
   "codemirror_mode": {
    "name": "ipython",
    "version": 3
   },
   "file_extension": ".py",
   "mimetype": "text/x-python",
   "name": "python",
   "nbconvert_exporter": "python",
   "pygments_lexer": "ipython3",
   "version": "3.10.9"
  }
 },
 "nbformat": 4,
 "nbformat_minor": 5
}
