{
 "cells": [
  {
   "cell_type": "code",
   "execution_count": 23,
   "id": "c0aab049",
   "metadata": {},
   "outputs": [],
   "source": [
    "def restuarant(item):\n",
    "    if item==\"chicken biryani\":\n",
    "        print(\"non veg\")\n",
    "    elif item==\"mutton biryani\":\n",
    "        print(\"non veg\")\n",
    "    elif item==\"prawns biryani\":\n",
    "        print(\"non veg\")\n",
    "    else:\n",
    "        resturant(\"item\")"
   ]
  },
  {
   "cell_type": "code",
   "execution_count": 24,
   "id": "942fb53c",
   "metadata": {},
   "outputs": [
    {
     "name": "stdout",
     "output_type": "stream",
     "text": [
      "non veg\n"
     ]
    }
   ],
   "source": [
    "restuarant(\"mutton biryani\")"
   ]
  },
  {
   "cell_type": "code",
   "execution_count": 31,
   "id": "309867c8",
   "metadata": {},
   "outputs": [],
   "source": [
    "def restuarant(price,item):\n",
    "    if price>=200:\n",
    "        if item==\"chicken biryani\":\n",
    "            print(\"non veg\")\n",
    "        elif item==\"mutton biryani\":\n",
    "            print(\"non veg\")\n",
    "        elif item==\"prawns biryani\":\n",
    "            print(\"non veg\")\n",
    "    elif price<=200:\n",
    "        print(\"not available\")\n",
    "    return(price,item)    \n",
    "               "
   ]
  },
  {
   "cell_type": "code",
   "execution_count": 32,
   "id": "06061a0b",
   "metadata": {},
   "outputs": [
    {
     "name": "stdout",
     "output_type": "stream",
     "text": [
      "non veg\n"
     ]
    },
    {
     "data": {
      "text/plain": [
       "(209, 'mutton biryani')"
      ]
     },
     "execution_count": 32,
     "metadata": {},
     "output_type": "execute_result"
    }
   ],
   "source": [
    "restuarant(209,\"mutton biryani\")"
   ]
  },
  {
   "cell_type": "code",
   "execution_count": 33,
   "id": "1425e6a1",
   "metadata": {},
   "outputs": [
    {
     "name": "stdout",
     "output_type": "stream",
     "text": [
      "not available\n"
     ]
    },
    {
     "data": {
      "text/plain": [
       "(199, 'chicken biryan')"
      ]
     },
     "execution_count": 33,
     "metadata": {},
     "output_type": "execute_result"
    }
   ],
   "source": [
    "restuarant(199,\"chicken biryan\")"
   ]
  },
  {
   "cell_type": "code",
   "execution_count": null,
   "id": "fc773a40",
   "metadata": {},
   "outputs": [],
   "source": []
  },
  {
   "cell_type": "code",
   "execution_count": 1,
   "id": "e900408d",
   "metadata": {},
   "outputs": [
    {
     "name": "stdout",
     "output_type": "stream",
     "text": [
      "[0, 1, 4, 6, 9]\n"
     ]
    }
   ],
   "source": [
    "list=[1,4,0,6,9]\n",
    "list=[int(i) for i in list]\n",
    "list.sort()\n",
    "print(list)"
   ]
  },
  {
   "cell_type": "code",
   "execution_count": 1,
   "id": "294751fc",
   "metadata": {},
   "outputs": [],
   "source": [
    "list=[\"safiya\",\"afifa\",\"tabassum\"]"
   ]
  },
  {
   "cell_type": "code",
   "execution_count": 2,
   "id": "a7eb9d5d",
   "metadata": {},
   "outputs": [],
   "source": [
    "list.sort()"
   ]
  },
  {
   "cell_type": "code",
   "execution_count": 3,
   "id": "5512d8dd",
   "metadata": {},
   "outputs": [
    {
     "name": "stdout",
     "output_type": "stream",
     "text": [
      "['afifa', 'safiya', 'tabassum']\n"
     ]
    }
   ],
   "source": [
    "print(list)"
   ]
  },
  {
   "cell_type": "code",
   "execution_count": 4,
   "id": "299479a8",
   "metadata": {},
   "outputs": [],
   "source": [
    "list=[1,4,0,6,9]"
   ]
  },
  {
   "cell_type": "code",
   "execution_count": 5,
   "id": "9aa2597e",
   "metadata": {},
   "outputs": [],
   "source": [
    "list.sort()"
   ]
  },
  {
   "cell_type": "code",
   "execution_count": 6,
   "id": "e0eaccf7",
   "metadata": {},
   "outputs": [
    {
     "name": "stdout",
     "output_type": "stream",
     "text": [
      "[0, 1, 4, 6, 9]\n"
     ]
    }
   ],
   "source": [
    "print(list)"
   ]
  },
  {
   "cell_type": "code",
   "execution_count": null,
   "id": "19caf09c",
   "metadata": {},
   "outputs": [],
   "source": []
  },
  {
   "cell_type": "code",
   "execution_count": null,
   "id": "256288e2",
   "metadata": {},
   "outputs": [],
   "source": [
    "------list to tuple---"
   ]
  },
  {
   "cell_type": "code",
   "execution_count": 1,
   "id": "d46e1207",
   "metadata": {},
   "outputs": [],
   "source": [
    "lst=[1,2,5,6,8,9]"
   ]
  },
  {
   "cell_type": "code",
   "execution_count": 6,
   "id": "c23b06d6",
   "metadata": {},
   "outputs": [],
   "source": [
    "lst_tup=tuple(lst)"
   ]
  },
  {
   "cell_type": "code",
   "execution_count": 7,
   "id": "420d4931",
   "metadata": {},
   "outputs": [
    {
     "data": {
      "text/plain": [
       "(1, 2, 5, 6, 8, 9)"
      ]
     },
     "execution_count": 7,
     "metadata": {},
     "output_type": "execute_result"
    }
   ],
   "source": [
    "lst_tup"
   ]
  },
  {
   "cell_type": "code",
   "execution_count": null,
   "id": "33d5412a",
   "metadata": {},
   "outputs": [],
   "source": []
  },
  {
   "cell_type": "code",
   "execution_count": null,
   "id": "7aa93fa3",
   "metadata": {},
   "outputs": [],
   "source": []
  }
 ],
 "metadata": {
  "kernelspec": {
   "display_name": "Python 3 (ipykernel)",
   "language": "python",
   "name": "python3"
  },
  "language_info": {
   "codemirror_mode": {
    "name": "ipython",
    "version": 3
   },
   "file_extension": ".py",
   "mimetype": "text/x-python",
   "name": "python",
   "nbconvert_exporter": "python",
   "pygments_lexer": "ipython3",
   "version": "3.10.9"
  }
 },
 "nbformat": 4,
 "nbformat_minor": 5
}
