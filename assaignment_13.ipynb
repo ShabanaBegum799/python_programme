{
 "cells": [
  {
   "cell_type": "code",
   "execution_count": null,
   "id": "bac88fb1",
   "metadata": {},
   "outputs": [],
   "source": [
    "Create and import file\n",
    "1. Create schoolmets and collegements friends_names.xls file and import file in spyder (atleast 10 names, columns are FriendName,Quality) ,\n",
    "2. Summarize data by quality wise no.of friends .\n",
    "Example: quality | no.of freind\n",
    "\t\t\tfunny | 2\n"
   ]
  },
  {
   "cell_type": "code",
   "execution_count": 37,
   "id": "905a1a91",
   "metadata": {},
   "outputs": [
    {
     "data": {
      "text/html": [
       "<div>\n",
       "<style scoped>\n",
       "    .dataframe tbody tr th:only-of-type {\n",
       "        vertical-align: middle;\n",
       "    }\n",
       "\n",
       "    .dataframe tbody tr th {\n",
       "        vertical-align: top;\n",
       "    }\n",
       "\n",
       "    .dataframe thead th {\n",
       "        text-align: right;\n",
       "    }\n",
       "</style>\n",
       "<table border=\"1\" class=\"dataframe\">\n",
       "  <thead>\n",
       "    <tr style=\"text-align: right;\">\n",
       "      <th></th>\n",
       "      <th>friendsname</th>\n",
       "      <th>Quality</th>\n",
       "    </tr>\n",
       "  </thead>\n",
       "  <tbody>\n",
       "    <tr>\n",
       "      <th>0</th>\n",
       "      <td>Sushma</td>\n",
       "      <td>Topper</td>\n",
       "    </tr>\n",
       "    <tr>\n",
       "      <th>1</th>\n",
       "      <td>Bhanu</td>\n",
       "      <td>Intilligent</td>\n",
       "    </tr>\n",
       "    <tr>\n",
       "      <th>2</th>\n",
       "      <td>Madhuri</td>\n",
       "      <td>Good</td>\n",
       "    </tr>\n",
       "    <tr>\n",
       "      <th>3</th>\n",
       "      <td>Shakeera</td>\n",
       "      <td>Smili</td>\n",
       "    </tr>\n",
       "    <tr>\n",
       "      <th>4</th>\n",
       "      <td>Shamshad</td>\n",
       "      <td>Innocent</td>\n",
       "    </tr>\n",
       "  </tbody>\n",
       "</table>\n",
       "</div>"
      ],
      "text/plain": [
       "  friendsname      Quality\n",
       "0      Sushma       Topper\n",
       "1       Bhanu  Intilligent\n",
       "2     Madhuri         Good\n",
       "3    Shakeera        Smili\n",
       "4    Shamshad     Innocent"
      ]
     },
     "execution_count": 37,
     "metadata": {},
     "output_type": "execute_result"
    }
   ],
   "source": [
    "import pandas as pd\n",
    "df1=pd.read_excel(r\"C:\\Users\\HP\\Documents\\Shabana-pandas\\assignment_13\\schoolmets_names.xlsx\")\n",
    "df1"
   ]
  },
  {
   "cell_type": "code",
   "execution_count": 9,
   "id": "4e1e2848",
   "metadata": {},
   "outputs": [
    {
     "data": {
      "text/html": [
       "<div>\n",
       "<style scoped>\n",
       "    .dataframe tbody tr th:only-of-type {\n",
       "        vertical-align: middle;\n",
       "    }\n",
       "\n",
       "    .dataframe tbody tr th {\n",
       "        vertical-align: top;\n",
       "    }\n",
       "\n",
       "    .dataframe thead th {\n",
       "        text-align: right;\n",
       "    }\n",
       "</style>\n",
       "<table border=\"1\" class=\"dataframe\">\n",
       "  <thead>\n",
       "    <tr style=\"text-align: right;\">\n",
       "      <th></th>\n",
       "      <th>friendsname</th>\n",
       "      <th>Quality</th>\n",
       "    </tr>\n",
       "  </thead>\n",
       "  <tbody>\n",
       "    <tr>\n",
       "      <th>0</th>\n",
       "      <td>Aruna</td>\n",
       "      <td>Innocent</td>\n",
       "    </tr>\n",
       "    <tr>\n",
       "      <th>1</th>\n",
       "      <td>Gayatri</td>\n",
       "      <td>Silent</td>\n",
       "    </tr>\n",
       "    <tr>\n",
       "      <th>2</th>\n",
       "      <td>Anuradha</td>\n",
       "      <td>Commedy</td>\n",
       "    </tr>\n",
       "    <tr>\n",
       "      <th>3</th>\n",
       "      <td>Rupa</td>\n",
       "      <td>Intilligent</td>\n",
       "    </tr>\n",
       "    <tr>\n",
       "      <th>4</th>\n",
       "      <td>Nagamani</td>\n",
       "      <td>Good</td>\n",
       "    </tr>\n",
       "  </tbody>\n",
       "</table>\n",
       "</div>"
      ],
      "text/plain": [
       "  friendsname      Quality\n",
       "0       Aruna     Innocent\n",
       "1     Gayatri       Silent\n",
       "2    Anuradha      Commedy\n",
       "3        Rupa  Intilligent\n",
       "4    Nagamani         Good"
      ]
     },
     "execution_count": 9,
     "metadata": {},
     "output_type": "execute_result"
    }
   ],
   "source": [
    "import pandas as pd\n",
    "df2=pd.read_excel(r\"C:\\Users\\HP\\Documents\\Shabana-pandas\\assignment_13\\collegemets_names.xlsx\")\n",
    "df2                  "
   ]
  },
  {
   "cell_type": "code",
   "execution_count": 11,
   "id": "8eb52f00",
   "metadata": {},
   "outputs": [
    {
     "data": {
      "text/plain": [
       "Quality\n",
       "Good           1\n",
       "Innocent       1\n",
       "Intilligent    1\n",
       "Smili          1\n",
       "Topper         1\n",
       "Name: friendsname, dtype: int64"
      ]
     },
     "execution_count": 11,
     "metadata": {},
     "output_type": "execute_result"
    }
   ],
   "source": [
    "df1.groupby(\"Quality\")[\"friendsname\"].count()"
   ]
  },
  {
   "cell_type": "code",
   "execution_count": 12,
   "id": "a5dbbc3b",
   "metadata": {},
   "outputs": [
    {
     "data": {
      "text/plain": [
       "Quality\n",
       "Commedy        1\n",
       "Good           1\n",
       "Innocent       1\n",
       "Intilligent    1\n",
       "Silent         1\n",
       "Name: friendsname, dtype: int64"
      ]
     },
     "execution_count": 12,
     "metadata": {},
     "output_type": "execute_result"
    }
   ],
   "source": [
    "df2.groupby(\"Quality\")[\"friendsname\"].count()"
   ]
  },
  {
   "cell_type": "code",
   "execution_count": null,
   "id": "2c1a3bc9",
   "metadata": {},
   "outputs": [],
   "source": [
    "Create boys Boysfriend_names.xls file and import file in spyder (atleast 10 names, columns are FriendName,Quality)  \n",
    "2. Summarize data by quality wise no.of friends .\n",
    "3. Create girls Girlsfriend_names.xls file  and import file in spyder (atleast 10 names, columns are FriendName,Quality) \n",
    "4. Summarize data by quality wise no.of friends .\n"
   ]
  },
  {
   "cell_type": "code",
   "execution_count": 16,
   "id": "9318f92c",
   "metadata": {},
   "outputs": [
    {
     "data": {
      "text/html": [
       "<div>\n",
       "<style scoped>\n",
       "    .dataframe tbody tr th:only-of-type {\n",
       "        vertical-align: middle;\n",
       "    }\n",
       "\n",
       "    .dataframe tbody tr th {\n",
       "        vertical-align: top;\n",
       "    }\n",
       "\n",
       "    .dataframe thead th {\n",
       "        text-align: right;\n",
       "    }\n",
       "</style>\n",
       "<table border=\"1\" class=\"dataframe\">\n",
       "  <thead>\n",
       "    <tr style=\"text-align: right;\">\n",
       "      <th></th>\n",
       "      <th>Boysfriendsname</th>\n",
       "      <th>Quality</th>\n",
       "    </tr>\n",
       "  </thead>\n",
       "  <tbody>\n",
       "    <tr>\n",
       "      <th>0</th>\n",
       "      <td>santhosh</td>\n",
       "      <td>topper</td>\n",
       "    </tr>\n",
       "    <tr>\n",
       "      <th>1</th>\n",
       "      <td>khaja</td>\n",
       "      <td>comedy</td>\n",
       "    </tr>\n",
       "    <tr>\n",
       "      <th>2</th>\n",
       "      <td>imran</td>\n",
       "      <td>silent</td>\n",
       "    </tr>\n",
       "    <tr>\n",
       "      <th>3</th>\n",
       "      <td>siraj</td>\n",
       "      <td>intilligent</td>\n",
       "    </tr>\n",
       "    <tr>\n",
       "      <th>4</th>\n",
       "      <td>azam</td>\n",
       "      <td>tallented</td>\n",
       "    </tr>\n",
       "    <tr>\n",
       "      <th>5</th>\n",
       "      <td>sadhiq</td>\n",
       "      <td>intilligent</td>\n",
       "    </tr>\n",
       "    <tr>\n",
       "      <th>6</th>\n",
       "      <td>ishan</td>\n",
       "      <td>anger</td>\n",
       "    </tr>\n",
       "  </tbody>\n",
       "</table>\n",
       "</div>"
      ],
      "text/plain": [
       "  Boysfriendsname      Quality\n",
       "0        santhosh       topper\n",
       "1           khaja       comedy\n",
       "2           imran       silent\n",
       "3           siraj  intilligent\n",
       "4            azam    tallented\n",
       "5          sadhiq  intilligent\n",
       "6           ishan        anger"
      ]
     },
     "execution_count": 16,
     "metadata": {},
     "output_type": "execute_result"
    }
   ],
   "source": [
    "import pandas as pd\n",
    "df=pd.read_excel(r\"C:\\Users\\HP\\Documents\\Shabana-pandas\\assignment_13\\Boysfriendsname_Quality.xlsx\")\n",
    "df"
   ]
  },
  {
   "cell_type": "code",
   "execution_count": 17,
   "id": "2822a061",
   "metadata": {},
   "outputs": [
    {
     "data": {
      "text/html": [
       "<div>\n",
       "<style scoped>\n",
       "    .dataframe tbody tr th:only-of-type {\n",
       "        vertical-align: middle;\n",
       "    }\n",
       "\n",
       "    .dataframe tbody tr th {\n",
       "        vertical-align: top;\n",
       "    }\n",
       "\n",
       "    .dataframe thead th {\n",
       "        text-align: right;\n",
       "    }\n",
       "</style>\n",
       "<table border=\"1\" class=\"dataframe\">\n",
       "  <thead>\n",
       "    <tr style=\"text-align: right;\">\n",
       "      <th></th>\n",
       "      <th>Girlsfriendsname</th>\n",
       "      <th>Quality</th>\n",
       "    </tr>\n",
       "  </thead>\n",
       "  <tbody>\n",
       "    <tr>\n",
       "      <th>0</th>\n",
       "      <td>anusha</td>\n",
       "      <td>tallented</td>\n",
       "    </tr>\n",
       "    <tr>\n",
       "      <th>1</th>\n",
       "      <td>nasheena</td>\n",
       "      <td>intillegent</td>\n",
       "    </tr>\n",
       "    <tr>\n",
       "      <th>2</th>\n",
       "      <td>parveen</td>\n",
       "      <td>topper</td>\n",
       "    </tr>\n",
       "    <tr>\n",
       "      <th>3</th>\n",
       "      <td>jayasri</td>\n",
       "      <td>intillegent</td>\n",
       "    </tr>\n",
       "    <tr>\n",
       "      <th>4</th>\n",
       "      <td>durga</td>\n",
       "      <td>silent</td>\n",
       "    </tr>\n",
       "    <tr>\n",
       "      <th>5</th>\n",
       "      <td>reshma</td>\n",
       "      <td>commedy</td>\n",
       "    </tr>\n",
       "  </tbody>\n",
       "</table>\n",
       "</div>"
      ],
      "text/plain": [
       "  Girlsfriendsname      Quality\n",
       "0           anusha    tallented\n",
       "1         nasheena  intillegent\n",
       "2          parveen       topper\n",
       "3          jayasri  intillegent\n",
       "4            durga       silent\n",
       "5           reshma      commedy"
      ]
     },
     "execution_count": 17,
     "metadata": {},
     "output_type": "execute_result"
    }
   ],
   "source": [
    "import pandas as pd\n",
    "df1=pd.read_excel(r\"C:\\Users\\HP\\Documents\\Shabana-pandas\\assignment_13\\Girlsfriendsname_Quality.xlsx\")\n",
    "df1"
   ]
  },
  {
   "cell_type": "code",
   "execution_count": 19,
   "id": "3e9e1b80",
   "metadata": {},
   "outputs": [
    {
     "data": {
      "text/plain": [
       "Quality\n",
       "anger          1\n",
       "comedy         1\n",
       "intilligent    2\n",
       "silent         1\n",
       "tallented      1\n",
       "topper         1\n",
       "Name: Boysfriendsname, dtype: int64"
      ]
     },
     "execution_count": 19,
     "metadata": {},
     "output_type": "execute_result"
    }
   ],
   "source": [
    "df.groupby(\"Quality\")[\"Boysfriendsname\"].count()"
   ]
  },
  {
   "cell_type": "code",
   "execution_count": 20,
   "id": "3d9d80a3",
   "metadata": {},
   "outputs": [
    {
     "data": {
      "text/plain": [
       "Quality\n",
       "commedy        1\n",
       "intillegent    2\n",
       "silent         1\n",
       "tallented      1\n",
       "topper         1\n",
       "Name: Girlsfriendsname, dtype: int64"
      ]
     },
     "execution_count": 20,
     "metadata": {},
     "output_type": "execute_result"
    }
   ],
   "source": [
    "df1.groupby(\"Quality\")[\"Girlsfriendsname\"].count()"
   ]
  },
  {
   "cell_type": "code",
   "execution_count": null,
   "id": "714fa6d0",
   "metadata": {},
   "outputs": [],
   "source": [
    ">Create and import file\n",
    "1. Create a father side fatherfamily_members.xls file and import file in spyder  (atleast 5 names, columns are FamilyMemberName*Relation)\n",
    "2. Summarize data by relation wise no.of familymembers .\n",
    "3. Create a mother side montherfamily_members.xls file and import file in spyder  (atleast 5 names, columns are FamilyMemberName*Relation)\n",
    "4. Summarize data by relation wise no.of familymembers .\n"
   ]
  },
  {
   "cell_type": "code",
   "execution_count": 22,
   "id": "d01f3584",
   "metadata": {},
   "outputs": [
    {
     "data": {
      "text/html": [
       "<div>\n",
       "<style scoped>\n",
       "    .dataframe tbody tr th:only-of-type {\n",
       "        vertical-align: middle;\n",
       "    }\n",
       "\n",
       "    .dataframe tbody tr th {\n",
       "        vertical-align: top;\n",
       "    }\n",
       "\n",
       "    .dataframe thead th {\n",
       "        text-align: right;\n",
       "    }\n",
       "</style>\n",
       "<table border=\"1\" class=\"dataframe\">\n",
       "  <thead>\n",
       "    <tr style=\"text-align: right;\">\n",
       "      <th></th>\n",
       "      <th>family_members</th>\n",
       "      <th>relation</th>\n",
       "    </tr>\n",
       "  </thead>\n",
       "  <tbody>\n",
       "    <tr>\n",
       "      <th>0</th>\n",
       "      <td>Basheer</td>\n",
       "      <td>uncle</td>\n",
       "    </tr>\n",
       "    <tr>\n",
       "      <th>1</th>\n",
       "      <td>Sammad</td>\n",
       "      <td>grandfather</td>\n",
       "    </tr>\n",
       "    <tr>\n",
       "      <th>2</th>\n",
       "      <td>Khadeer</td>\n",
       "      <td>uncle</td>\n",
       "    </tr>\n",
       "    <tr>\n",
       "      <th>3</th>\n",
       "      <td>Hafees</td>\n",
       "      <td>pedananna</td>\n",
       "    </tr>\n",
       "    <tr>\n",
       "      <th>4</th>\n",
       "      <td>Ayyub</td>\n",
       "      <td>pedananna</td>\n",
       "    </tr>\n",
       "    <tr>\n",
       "      <th>5</th>\n",
       "      <td>basheer</td>\n",
       "      <td>grandfather</td>\n",
       "    </tr>\n",
       "    <tr>\n",
       "      <th>6</th>\n",
       "      <td>Ayyub</td>\n",
       "      <td>uncle</td>\n",
       "    </tr>\n",
       "  </tbody>\n",
       "</table>\n",
       "</div>"
      ],
      "text/plain": [
       "  family_members     relation\n",
       "0        Basheer        uncle\n",
       "1         Sammad  grandfather\n",
       "2        Khadeer        uncle\n",
       "3         Hafees    pedananna\n",
       "4          Ayyub    pedananna\n",
       "5        basheer  grandfather\n",
       "6          Ayyub        uncle"
      ]
     },
     "execution_count": 22,
     "metadata": {},
     "output_type": "execute_result"
    }
   ],
   "source": [
    "import pandas as pd\n",
    "df2=pd.read_excel(r\"C:\\Users\\HP\\Documents\\Shabana-pandas\\assignment_13\\Father_familymembers.xlsx\")\n",
    "df2                  "
   ]
  },
  {
   "cell_type": "code",
   "execution_count": 26,
   "id": "9f287a04",
   "metadata": {
    "scrolled": false
   },
   "outputs": [
    {
     "data": {
      "text/html": [
       "<div>\n",
       "<style scoped>\n",
       "    .dataframe tbody tr th:only-of-type {\n",
       "        vertical-align: middle;\n",
       "    }\n",
       "\n",
       "    .dataframe tbody tr th {\n",
       "        vertical-align: top;\n",
       "    }\n",
       "\n",
       "    .dataframe thead th {\n",
       "        text-align: right;\n",
       "    }\n",
       "</style>\n",
       "<table border=\"1\" class=\"dataframe\">\n",
       "  <thead>\n",
       "    <tr style=\"text-align: right;\">\n",
       "      <th></th>\n",
       "      <th>family_members</th>\n",
       "      <th>relation</th>\n",
       "    </tr>\n",
       "  </thead>\n",
       "  <tbody>\n",
       "    <tr>\n",
       "      <th>0</th>\n",
       "      <td>shakeera</td>\n",
       "      <td>aunty</td>\n",
       "    </tr>\n",
       "    <tr>\n",
       "      <th>1</th>\n",
       "      <td>ameerunnisa</td>\n",
       "      <td>grandmother</td>\n",
       "    </tr>\n",
       "    <tr>\n",
       "      <th>2</th>\n",
       "      <td>rahamatha</td>\n",
       "      <td>aunty</td>\n",
       "    </tr>\n",
       "    <tr>\n",
       "      <th>3</th>\n",
       "      <td>rahima</td>\n",
       "      <td>sister</td>\n",
       "    </tr>\n",
       "    <tr>\n",
       "      <th>4</th>\n",
       "      <td>farjana</td>\n",
       "      <td>sister</td>\n",
       "    </tr>\n",
       "    <tr>\n",
       "      <th>5</th>\n",
       "      <td>shakeera</td>\n",
       "      <td>sister</td>\n",
       "    </tr>\n",
       "    <tr>\n",
       "      <th>6</th>\n",
       "      <td>rahamatha</td>\n",
       "      <td>aunty</td>\n",
       "    </tr>\n",
       "  </tbody>\n",
       "</table>\n",
       "</div>"
      ],
      "text/plain": [
       "  family_members     relation\n",
       "0       shakeera        aunty\n",
       "1    ameerunnisa  grandmother\n",
       "2      rahamatha        aunty\n",
       "3         rahima       sister\n",
       "4        farjana       sister\n",
       "5       shakeera       sister\n",
       "6      rahamatha        aunty"
      ]
     },
     "execution_count": 26,
     "metadata": {},
     "output_type": "execute_result"
    }
   ],
   "source": [
    "import pandas as pd\n",
    "df3=pd.read_excel(r\"C:\\Users\\HP\\Documents\\Shabana-pandas\\assignment_13\\Mother_familymembers.xlsx\")\n",
    "df3"
   ]
  },
  {
   "cell_type": "code",
   "execution_count": 25,
   "id": "c62c2ce7",
   "metadata": {},
   "outputs": [
    {
     "data": {
      "text/plain": [
       "relation\n",
       "grandfather    2\n",
       "pedananna      2\n",
       "uncle          3\n",
       "Name: family_members, dtype: int64"
      ]
     },
     "execution_count": 25,
     "metadata": {},
     "output_type": "execute_result"
    }
   ],
   "source": [
    "df2.groupby(\"relation\")[\"family_members\"].count()"
   ]
  },
  {
   "cell_type": "code",
   "execution_count": 28,
   "id": "e30761c0",
   "metadata": {},
   "outputs": [
    {
     "data": {
      "text/plain": [
       "relation\n",
       "aunty          3\n",
       "grandmother    1\n",
       "sister         3\n",
       "Name: family_members, dtype: int64"
      ]
     },
     "execution_count": 28,
     "metadata": {},
     "output_type": "execute_result"
    }
   ],
   "source": [
    "df3.groupby(\"relation\")[\"family_members\"].count()"
   ]
  },
  {
   "cell_type": "code",
   "execution_count": null,
   "id": "eee46331",
   "metadata": {},
   "outputs": [],
   "source": [
    "Create and import file\n",
    "1. Create a Dal related  dal_items.xlsx file and import file in spyder (atleast 5 names, columns are VegFoodName*Taste)\n",
    "2. Summarize data by taste wise no.of fooditems.\n",
    "3. Create a vegitable related  vegitable_items.xlsx file and import file in spyder (atleast 5 names, columns are VegFoodName*Taste)\n",
    "4. Summarize data by taste wise no.of fooditems.\n"
   ]
  },
  {
   "cell_type": "code",
   "execution_count": 32,
   "id": "e6a298e6",
   "metadata": {},
   "outputs": [
    {
     "data": {
      "text/html": [
       "<div>\n",
       "<style scoped>\n",
       "    .dataframe tbody tr th:only-of-type {\n",
       "        vertical-align: middle;\n",
       "    }\n",
       "\n",
       "    .dataframe tbody tr th {\n",
       "        vertical-align: top;\n",
       "    }\n",
       "\n",
       "    .dataframe thead th {\n",
       "        text-align: right;\n",
       "    }\n",
       "</style>\n",
       "<table border=\"1\" class=\"dataframe\">\n",
       "  <thead>\n",
       "    <tr style=\"text-align: right;\">\n",
       "      <th></th>\n",
       "      <th>daal_items</th>\n",
       "      <th>taste</th>\n",
       "    </tr>\n",
       "  </thead>\n",
       "  <tbody>\n",
       "    <tr>\n",
       "      <th>0</th>\n",
       "      <td>tomatodaal</td>\n",
       "      <td>good</td>\n",
       "    </tr>\n",
       "    <tr>\n",
       "      <th>1</th>\n",
       "      <td>mangodaal</td>\n",
       "      <td>verygood</td>\n",
       "    </tr>\n",
       "    <tr>\n",
       "      <th>2</th>\n",
       "      <td>moongdaal</td>\n",
       "      <td>spicy</td>\n",
       "    </tr>\n",
       "    <tr>\n",
       "      <th>3</th>\n",
       "      <td>daal</td>\n",
       "      <td>good</td>\n",
       "    </tr>\n",
       "    <tr>\n",
       "      <th>4</th>\n",
       "      <td>daalsoup</td>\n",
       "      <td>salty</td>\n",
       "    </tr>\n",
       "  </tbody>\n",
       "</table>\n",
       "</div>"
      ],
      "text/plain": [
       "   daal_items     taste\n",
       "0  tomatodaal      good\n",
       "1   mangodaal  verygood\n",
       "2   moongdaal     spicy\n",
       "3        daal      good\n",
       "4    daalsoup     salty"
      ]
     },
     "execution_count": 32,
     "metadata": {},
     "output_type": "execute_result"
    }
   ],
   "source": [
    "import pandas as pd\n",
    "df4=pd.read_excel(r\"C:\\Users\\HP\\Documents\\Shabana-pandas\\assignment_13\\daal_items.xlsx\")\n",
    "df4"
   ]
  },
  {
   "cell_type": "code",
   "execution_count": 33,
   "id": "3ded11a5",
   "metadata": {},
   "outputs": [
    {
     "data": {
      "text/html": [
       "<div>\n",
       "<style scoped>\n",
       "    .dataframe tbody tr th:only-of-type {\n",
       "        vertical-align: middle;\n",
       "    }\n",
       "\n",
       "    .dataframe tbody tr th {\n",
       "        vertical-align: top;\n",
       "    }\n",
       "\n",
       "    .dataframe thead th {\n",
       "        text-align: right;\n",
       "    }\n",
       "</style>\n",
       "<table border=\"1\" class=\"dataframe\">\n",
       "  <thead>\n",
       "    <tr style=\"text-align: right;\">\n",
       "      <th></th>\n",
       "      <th>veg_items</th>\n",
       "      <th>taste</th>\n",
       "    </tr>\n",
       "  </thead>\n",
       "  <tbody>\n",
       "    <tr>\n",
       "      <th>0</th>\n",
       "      <td>potatochips</td>\n",
       "      <td>sality</td>\n",
       "    </tr>\n",
       "    <tr>\n",
       "      <th>1</th>\n",
       "      <td>panneer biryani</td>\n",
       "      <td>spicy</td>\n",
       "    </tr>\n",
       "    <tr>\n",
       "      <th>2</th>\n",
       "      <td>mashroom biryani</td>\n",
       "      <td>sality</td>\n",
       "    </tr>\n",
       "    <tr>\n",
       "      <th>3</th>\n",
       "      <td>babycorn</td>\n",
       "      <td>crispy</td>\n",
       "    </tr>\n",
       "    <tr>\n",
       "      <th>4</th>\n",
       "      <td>ladysfinger</td>\n",
       "      <td>curry</td>\n",
       "    </tr>\n",
       "    <tr>\n",
       "      <th>5</th>\n",
       "      <td>potato</td>\n",
       "      <td>fry</td>\n",
       "    </tr>\n",
       "    <tr>\n",
       "      <th>6</th>\n",
       "      <td>brinjal</td>\n",
       "      <td>fry</td>\n",
       "    </tr>\n",
       "    <tr>\n",
       "      <th>7</th>\n",
       "      <td>brinjal</td>\n",
       "      <td>soup</td>\n",
       "    </tr>\n",
       "  </tbody>\n",
       "</table>\n",
       "</div>"
      ],
      "text/plain": [
       "          veg_items   taste\n",
       "0       potatochips  sality\n",
       "1   panneer biryani   spicy\n",
       "2  mashroom biryani  sality\n",
       "3          babycorn  crispy\n",
       "4       ladysfinger   curry\n",
       "5            potato     fry\n",
       "6           brinjal     fry\n",
       "7           brinjal    soup"
      ]
     },
     "execution_count": 33,
     "metadata": {},
     "output_type": "execute_result"
    }
   ],
   "source": [
    "import pandas as pd\n",
    "df5=pd.read_excel(r\"C:\\Users\\HP\\Documents\\Shabana-pandas\\assignment_13\\vegfood_item.xlsx\")\n",
    "df5"
   ]
  },
  {
   "cell_type": "code",
   "execution_count": 35,
   "id": "00d178e0",
   "metadata": {},
   "outputs": [
    {
     "data": {
      "text/plain": [
       "taste\n",
       "good        2\n",
       "salty       1\n",
       "spicy       1\n",
       "verygood    1\n",
       "Name: daal_items, dtype: int64"
      ]
     },
     "execution_count": 35,
     "metadata": {},
     "output_type": "execute_result"
    }
   ],
   "source": [
    "df4.groupby(\"taste\")[\"daal_items\"].count()"
   ]
  },
  {
   "cell_type": "code",
   "execution_count": 36,
   "id": "abc37075",
   "metadata": {},
   "outputs": [
    {
     "data": {
      "text/plain": [
       "taste\n",
       "crispy    1\n",
       "curry     1\n",
       "fry       2\n",
       "sality    2\n",
       "soup      1\n",
       "spicy     1\n",
       "Name: veg_items, dtype: int64"
      ]
     },
     "execution_count": 36,
     "metadata": {},
     "output_type": "execute_result"
    }
   ],
   "source": [
    "df5.groupby(\"taste\")[\"veg_items\"].count()"
   ]
  },
  {
   "cell_type": "code",
   "execution_count": null,
   "id": "7ad7eea2",
   "metadata": {},
   "outputs": [],
   "source": [
    "Create and import file\n",
    "1. Create a soups related  soups_items.xlsx file and import file in spyder (atleast 5 names, columns are soups*Taste)\n",
    "2. Summarize data by taste wise no.of fooditems.\n",
    "3. Create a fry related  fry_items.xlsx file and import file in spyder (atleast 5 names, columns are fry*Taste)\n",
    "4. Summarize data by taste wise no.of fooditems.\n",
    "\n"
   ]
  },
  {
   "cell_type": "code",
   "execution_count": 38,
   "id": "abce1f10",
   "metadata": {},
   "outputs": [
    {
     "data": {
      "text/html": [
       "<div>\n",
       "<style scoped>\n",
       "    .dataframe tbody tr th:only-of-type {\n",
       "        vertical-align: middle;\n",
       "    }\n",
       "\n",
       "    .dataframe tbody tr th {\n",
       "        vertical-align: top;\n",
       "    }\n",
       "\n",
       "    .dataframe thead th {\n",
       "        text-align: right;\n",
       "    }\n",
       "</style>\n",
       "<table border=\"1\" class=\"dataframe\">\n",
       "  <thead>\n",
       "    <tr style=\"text-align: right;\">\n",
       "      <th></th>\n",
       "      <th>soups</th>\n",
       "      <th>Taste</th>\n",
       "    </tr>\n",
       "  </thead>\n",
       "  <tbody>\n",
       "    <tr>\n",
       "      <th>0</th>\n",
       "      <td>tomato soup</td>\n",
       "      <td>awesome</td>\n",
       "    </tr>\n",
       "    <tr>\n",
       "      <th>1</th>\n",
       "      <td>veg soup</td>\n",
       "      <td>average</td>\n",
       "    </tr>\n",
       "    <tr>\n",
       "      <th>2</th>\n",
       "      <td>chicken soup</td>\n",
       "      <td>nice</td>\n",
       "    </tr>\n",
       "    <tr>\n",
       "      <th>3</th>\n",
       "      <td>mutton soup</td>\n",
       "      <td>delicios</td>\n",
       "    </tr>\n",
       "    <tr>\n",
       "      <th>4</th>\n",
       "      <td>mushroom soup</td>\n",
       "      <td>tasty</td>\n",
       "    </tr>\n",
       "  </tbody>\n",
       "</table>\n",
       "</div>"
      ],
      "text/plain": [
       "           soups     Taste\n",
       "0    tomato soup   awesome\n",
       "1       veg soup   average\n",
       "2   chicken soup      nice\n",
       "3    mutton soup  delicios\n",
       "4  mushroom soup     tasty"
      ]
     },
     "execution_count": 38,
     "metadata": {},
     "output_type": "execute_result"
    }
   ],
   "source": [
    "import pandas as pd\n",
    "df=pd.read_excel(r\"C:\\Users\\HP\\Documents\\Shabana-pandas\\assignment_13\\soup_items.xlsx\")\n",
    "df"
   ]
  },
  {
   "cell_type": "code",
   "execution_count": 39,
   "id": "d080abe5",
   "metadata": {},
   "outputs": [
    {
     "data": {
      "text/html": [
       "<div>\n",
       "<style scoped>\n",
       "    .dataframe tbody tr th:only-of-type {\n",
       "        vertical-align: middle;\n",
       "    }\n",
       "\n",
       "    .dataframe tbody tr th {\n",
       "        vertical-align: top;\n",
       "    }\n",
       "\n",
       "    .dataframe thead th {\n",
       "        text-align: right;\n",
       "    }\n",
       "</style>\n",
       "<table border=\"1\" class=\"dataframe\">\n",
       "  <thead>\n",
       "    <tr style=\"text-align: right;\">\n",
       "      <th></th>\n",
       "      <th>fry_items</th>\n",
       "      <th>Taste</th>\n",
       "    </tr>\n",
       "  </thead>\n",
       "  <tbody>\n",
       "    <tr>\n",
       "      <th>0</th>\n",
       "      <td>chicken fry</td>\n",
       "      <td>delicios</td>\n",
       "    </tr>\n",
       "    <tr>\n",
       "      <th>1</th>\n",
       "      <td>mutton fry</td>\n",
       "      <td>awesome</td>\n",
       "    </tr>\n",
       "    <tr>\n",
       "      <th>2</th>\n",
       "      <td>prawns fry</td>\n",
       "      <td>nice</td>\n",
       "    </tr>\n",
       "    <tr>\n",
       "      <th>3</th>\n",
       "      <td>fish fry</td>\n",
       "      <td>good</td>\n",
       "    </tr>\n",
       "    <tr>\n",
       "      <th>4</th>\n",
       "      <td>veg fry</td>\n",
       "      <td>tasty</td>\n",
       "    </tr>\n",
       "  </tbody>\n",
       "</table>\n",
       "</div>"
      ],
      "text/plain": [
       "     fry_items     Taste\n",
       "0  chicken fry  delicios\n",
       "1   mutton fry   awesome\n",
       "2   prawns fry      nice\n",
       "3     fish fry      good\n",
       "4      veg fry     tasty"
      ]
     },
     "execution_count": 39,
     "metadata": {},
     "output_type": "execute_result"
    }
   ],
   "source": [
    "import pandas as pd\n",
    "df1=pd.read_excel(r\"C:\\Users\\HP\\Documents\\Shabana-pandas\\assignment_13\\fry_items.xlsx\")\n",
    "df1"
   ]
  },
  {
   "cell_type": "code",
   "execution_count": 40,
   "id": "8dbec131",
   "metadata": {},
   "outputs": [
    {
     "data": {
      "text/plain": [
       "Taste\n",
       "average     1\n",
       "awesome     1\n",
       "delicios    1\n",
       "nice        1\n",
       "tasty       1\n",
       "Name: soups, dtype: int64"
      ]
     },
     "execution_count": 40,
     "metadata": {},
     "output_type": "execute_result"
    }
   ],
   "source": [
    "df.groupby(\"Taste\")[\"soups\"].count()"
   ]
  },
  {
   "cell_type": "code",
   "execution_count": 43,
   "id": "4c7caf16",
   "metadata": {},
   "outputs": [
    {
     "data": {
      "text/plain": [
       "Taste\n",
       "awesome     1\n",
       "delicios    1\n",
       "good        1\n",
       "nice        1\n",
       "tasty       1\n",
       "Name: fry_items, dtype: int64"
      ]
     },
     "execution_count": 43,
     "metadata": {},
     "output_type": "execute_result"
    }
   ],
   "source": [
    "df1.groupby(\"Taste\")[\"fry_items\"].count()"
   ]
  },
  {
   "cell_type": "code",
   "execution_count": null,
   "id": "dc86a661",
   "metadata": {},
   "outputs": [],
   "source": [
    "Create and import file\n",
    "1. Create a Chicken related chicken_items.xlsx file and import file in spyder (atleast 5 names, columns are NonVegFoodName*Taste)\n",
    "2. Summarize data by taste wise no.of fooditems.\n",
    "3. Create a mutton related mutton_items.xlsx file and import file in spyder (atleast 5 names, columns are NonVegFoodName*Taste)\n",
    "4. Summarize data by taste wise no.of fooditems.\n"
   ]
  },
  {
   "cell_type": "code",
   "execution_count": 48,
   "id": "4753f432",
   "metadata": {},
   "outputs": [
    {
     "data": {
      "text/html": [
       "<div>\n",
       "<style scoped>\n",
       "    .dataframe tbody tr th:only-of-type {\n",
       "        vertical-align: middle;\n",
       "    }\n",
       "\n",
       "    .dataframe tbody tr th {\n",
       "        vertical-align: top;\n",
       "    }\n",
       "\n",
       "    .dataframe thead th {\n",
       "        text-align: right;\n",
       "    }\n",
       "</style>\n",
       "<table border=\"1\" class=\"dataframe\">\n",
       "  <thead>\n",
       "    <tr style=\"text-align: right;\">\n",
       "      <th></th>\n",
       "      <th>chicken_items</th>\n",
       "      <th>Taste</th>\n",
       "    </tr>\n",
       "  </thead>\n",
       "  <tbody>\n",
       "    <tr>\n",
       "      <th>0</th>\n",
       "      <td>chicken 65</td>\n",
       "      <td>good</td>\n",
       "    </tr>\n",
       "    <tr>\n",
       "      <th>1</th>\n",
       "      <td>chicken biryani</td>\n",
       "      <td>awesome</td>\n",
       "    </tr>\n",
       "    <tr>\n",
       "      <th>2</th>\n",
       "      <td>chicken chillii</td>\n",
       "      <td>tasty</td>\n",
       "    </tr>\n",
       "    <tr>\n",
       "      <th>3</th>\n",
       "      <td>chicken fry</td>\n",
       "      <td>nice</td>\n",
       "    </tr>\n",
       "    <tr>\n",
       "      <th>4</th>\n",
       "      <td>chicken manchurian</td>\n",
       "      <td>delicious</td>\n",
       "    </tr>\n",
       "  </tbody>\n",
       "</table>\n",
       "</div>"
      ],
      "text/plain": [
       "        chicken_items      Taste\n",
       "0          chicken 65       good\n",
       "1     chicken biryani    awesome\n",
       "2     chicken chillii      tasty\n",
       "3         chicken fry       nice\n",
       "4  chicken manchurian  delicious"
      ]
     },
     "execution_count": 48,
     "metadata": {},
     "output_type": "execute_result"
    }
   ],
   "source": [
    "import pandas as pd\n",
    "df_chicken_items=pd.read_excel(r\"C:\\Users\\HP\\Documents\\Shabana-pandas\\assignment_13\\non_vegitems.xlsx\")\n",
    "df_chicken_items"
   ]
  },
  {
   "cell_type": "code",
   "execution_count": 46,
   "id": "e388e3c2",
   "metadata": {},
   "outputs": [
    {
     "data": {
      "text/html": [
       "<div>\n",
       "<style scoped>\n",
       "    .dataframe tbody tr th:only-of-type {\n",
       "        vertical-align: middle;\n",
       "    }\n",
       "\n",
       "    .dataframe tbody tr th {\n",
       "        vertical-align: top;\n",
       "    }\n",
       "\n",
       "    .dataframe thead th {\n",
       "        text-align: right;\n",
       "    }\n",
       "</style>\n",
       "<table border=\"1\" class=\"dataframe\">\n",
       "  <thead>\n",
       "    <tr style=\"text-align: right;\">\n",
       "      <th></th>\n",
       "      <th>mutton_items</th>\n",
       "      <th>Taste</th>\n",
       "    </tr>\n",
       "  </thead>\n",
       "  <tbody>\n",
       "    <tr>\n",
       "      <th>0</th>\n",
       "      <td>muttoncurry</td>\n",
       "      <td>delicious</td>\n",
       "    </tr>\n",
       "    <tr>\n",
       "      <th>1</th>\n",
       "      <td>muttonbiryani</td>\n",
       "      <td>tasty</td>\n",
       "    </tr>\n",
       "    <tr>\n",
       "      <th>2</th>\n",
       "      <td>muttonfry</td>\n",
       "      <td>nice</td>\n",
       "    </tr>\n",
       "    <tr>\n",
       "      <th>3</th>\n",
       "      <td>muttonkeema</td>\n",
       "      <td>good</td>\n",
       "    </tr>\n",
       "  </tbody>\n",
       "</table>\n",
       "</div>"
      ],
      "text/plain": [
       "    mutton_items      Taste\n",
       "0    muttoncurry  delicious\n",
       "1  muttonbiryani      tasty\n",
       "2      muttonfry       nice\n",
       "3    muttonkeema       good"
      ]
     },
     "execution_count": 46,
     "metadata": {},
     "output_type": "execute_result"
    }
   ],
   "source": [
    "import pandas as pd\n",
    "df_mutton_items=pd.read_excel(r\"C:\\Users\\HP\\Documents\\Shabana-pandas\\assignment_13\\non_vegitems.xlsx\",sheet_name=\"Sheet2\")\n",
    "df_mutton_items"
   ]
  },
  {
   "cell_type": "code",
   "execution_count": 50,
   "id": "d65b293a",
   "metadata": {},
   "outputs": [
    {
     "data": {
      "text/plain": [
       "Taste\n",
       "awesome      1\n",
       "delicious    1\n",
       "good         1\n",
       "nice         1\n",
       "tasty        1\n",
       "Name: chicken_items, dtype: int64"
      ]
     },
     "execution_count": 50,
     "metadata": {},
     "output_type": "execute_result"
    }
   ],
   "source": [
    "df_chicken_items.groupby(\"Taste\")[\"chicken_items\"].count()"
   ]
  },
  {
   "cell_type": "code",
   "execution_count": 51,
   "id": "47d4b0c9",
   "metadata": {},
   "outputs": [
    {
     "data": {
      "text/plain": [
       "Taste\n",
       "delicious    1\n",
       "good         1\n",
       "nice         1\n",
       "tasty        1\n",
       "Name: mutton_items, dtype: int64"
      ]
     },
     "execution_count": 51,
     "metadata": {},
     "output_type": "execute_result"
    }
   ],
   "source": [
    "df_mutton_items.groupby(\"Taste\")[\"mutton_items\"].count()"
   ]
  },
  {
   "cell_type": "code",
   "execution_count": null,
   "id": "8e29bb5f",
   "metadata": {},
   "outputs": [],
   "source": [
    "Create a winter season  winterseason_names.xlsx file and import file in spyder  (atleast 2 names, columns are MonthName*Season)\n",
    "2. Summarize data by Season wise no.of months.\n",
    "3. Create a summer season  summerseason_names.xlsx file and import file in spyder  (atleast 2 names, columns are MonthName*Season)\n",
    "4. Summarize data by Season wise no.of months.\n",
    "5. Create a rainy season  rainyseason_names.xlsx file and import file in spyder  (atleast 2 names, columns are MonthName*Season)\n",
    "6. Summarize data by Season wise no.of months.\n"
   ]
  },
  {
   "cell_type": "code",
   "execution_count": 53,
   "id": "5b12c5fc",
   "metadata": {},
   "outputs": [
    {
     "data": {
      "text/html": [
       "<div>\n",
       "<style scoped>\n",
       "    .dataframe tbody tr th:only-of-type {\n",
       "        vertical-align: middle;\n",
       "    }\n",
       "\n",
       "    .dataframe tbody tr th {\n",
       "        vertical-align: top;\n",
       "    }\n",
       "\n",
       "    .dataframe thead th {\n",
       "        text-align: right;\n",
       "    }\n",
       "</style>\n",
       "<table border=\"1\" class=\"dataframe\">\n",
       "  <thead>\n",
       "    <tr style=\"text-align: right;\">\n",
       "      <th></th>\n",
       "      <th>monthnames</th>\n",
       "      <th>seasons</th>\n",
       "    </tr>\n",
       "  </thead>\n",
       "  <tbody>\n",
       "    <tr>\n",
       "      <th>0</th>\n",
       "      <td>november</td>\n",
       "      <td>winter</td>\n",
       "    </tr>\n",
       "    <tr>\n",
       "      <th>1</th>\n",
       "      <td>december</td>\n",
       "      <td>winter</td>\n",
       "    </tr>\n",
       "    <tr>\n",
       "      <th>2</th>\n",
       "      <td>january</td>\n",
       "      <td>winter</td>\n",
       "    </tr>\n",
       "  </tbody>\n",
       "</table>\n",
       "</div>"
      ],
      "text/plain": [
       "  monthnames seasons\n",
       "0   november  winter\n",
       "1   december  winter\n",
       "2    january  winter"
      ]
     },
     "execution_count": 53,
     "metadata": {},
     "output_type": "execute_result"
    }
   ],
   "source": [
    "import pandas as pd\n",
    "df_winterseason_names=pd.read_excel(r\"C:\\Users\\HP\\Documents\\Shabana-pandas\\assignment_13\\monthnames_seasons.xlsx\")\n",
    "df_winterseason_names"
   ]
  },
  {
   "cell_type": "code",
   "execution_count": 55,
   "id": "a3c52a58",
   "metadata": {},
   "outputs": [
    {
     "data": {
      "text/html": [
       "<div>\n",
       "<style scoped>\n",
       "    .dataframe tbody tr th:only-of-type {\n",
       "        vertical-align: middle;\n",
       "    }\n",
       "\n",
       "    .dataframe tbody tr th {\n",
       "        vertical-align: top;\n",
       "    }\n",
       "\n",
       "    .dataframe thead th {\n",
       "        text-align: right;\n",
       "    }\n",
       "</style>\n",
       "<table border=\"1\" class=\"dataframe\">\n",
       "  <thead>\n",
       "    <tr style=\"text-align: right;\">\n",
       "      <th></th>\n",
       "      <th>monthnames</th>\n",
       "      <th>seasons</th>\n",
       "    </tr>\n",
       "  </thead>\n",
       "  <tbody>\n",
       "    <tr>\n",
       "      <th>0</th>\n",
       "      <td>april</td>\n",
       "      <td>summer</td>\n",
       "    </tr>\n",
       "    <tr>\n",
       "      <th>1</th>\n",
       "      <td>may</td>\n",
       "      <td>summer</td>\n",
       "    </tr>\n",
       "  </tbody>\n",
       "</table>\n",
       "</div>"
      ],
      "text/plain": [
       "  monthnames seasons\n",
       "0      april  summer\n",
       "1        may  summer"
      ]
     },
     "execution_count": 55,
     "metadata": {},
     "output_type": "execute_result"
    }
   ],
   "source": [
    "import pandas as pd\n",
    "df_summerseason_names=pd.read_excel(r\"C:\\Users\\HP\\Documents\\Shabana-pandas\\assignment_13\\monthnames_seasons.xlsx\",sheet_name=\"Sheet2\")\n",
    "df_summerseason_names"
   ]
  },
  {
   "cell_type": "code",
   "execution_count": 56,
   "id": "90667354",
   "metadata": {},
   "outputs": [
    {
     "data": {
      "text/html": [
       "<div>\n",
       "<style scoped>\n",
       "    .dataframe tbody tr th:only-of-type {\n",
       "        vertical-align: middle;\n",
       "    }\n",
       "\n",
       "    .dataframe tbody tr th {\n",
       "        vertical-align: top;\n",
       "    }\n",
       "\n",
       "    .dataframe thead th {\n",
       "        text-align: right;\n",
       "    }\n",
       "</style>\n",
       "<table border=\"1\" class=\"dataframe\">\n",
       "  <thead>\n",
       "    <tr style=\"text-align: right;\">\n",
       "      <th></th>\n",
       "      <th>monthnames</th>\n",
       "      <th>seasons</th>\n",
       "    </tr>\n",
       "  </thead>\n",
       "  <tbody>\n",
       "    <tr>\n",
       "      <th>0</th>\n",
       "      <td>july</td>\n",
       "      <td>rainy</td>\n",
       "    </tr>\n",
       "    <tr>\n",
       "      <th>1</th>\n",
       "      <td>august</td>\n",
       "      <td>rainy</td>\n",
       "    </tr>\n",
       "    <tr>\n",
       "      <th>2</th>\n",
       "      <td>september</td>\n",
       "      <td>rainy</td>\n",
       "    </tr>\n",
       "  </tbody>\n",
       "</table>\n",
       "</div>"
      ],
      "text/plain": [
       "  monthnames seasons\n",
       "0       july   rainy\n",
       "1     august   rainy\n",
       "2  september   rainy"
      ]
     },
     "execution_count": 56,
     "metadata": {},
     "output_type": "execute_result"
    }
   ],
   "source": [
    "import pandas as pd\n",
    "df_rainyseason_names=pd.read_excel(r\"C:\\Users\\HP\\Documents\\Shabana-pandas\\assignment_13\\monthnames_seasons.xlsx\",sheet_name=\"Sheet3\")\n",
    "df_rainyseason_names"
   ]
  },
  {
   "cell_type": "code",
   "execution_count": 57,
   "id": "d7f14216",
   "metadata": {},
   "outputs": [
    {
     "data": {
      "text/plain": [
       "seasons\n",
       "winter    3\n",
       "Name: monthnames, dtype: int64"
      ]
     },
     "execution_count": 57,
     "metadata": {},
     "output_type": "execute_result"
    }
   ],
   "source": [
    "df_winterseason_names.groupby(\"seasons\")[\"monthnames\"].count()"
   ]
  },
  {
   "cell_type": "code",
   "execution_count": 58,
   "id": "e08dbd5c",
   "metadata": {},
   "outputs": [
    {
     "data": {
      "text/plain": [
       "seasons\n",
       "summer    2\n",
       "Name: monthnames, dtype: int64"
      ]
     },
     "execution_count": 58,
     "metadata": {},
     "output_type": "execute_result"
    }
   ],
   "source": [
    "df_summerseason_names.groupby(\"seasons\")[\"monthnames\"].count()"
   ]
  },
  {
   "cell_type": "code",
   "execution_count": 59,
   "id": "146da410",
   "metadata": {},
   "outputs": [
    {
     "data": {
      "text/plain": [
       "seasons\n",
       "rainy    3\n",
       "Name: monthnames, dtype: int64"
      ]
     },
     "execution_count": 59,
     "metadata": {},
     "output_type": "execute_result"
    }
   ],
   "source": [
    "df_rainyseason_names.groupby(\"seasons\")[\"monthnames\"].count()"
   ]
  },
  {
   "cell_type": "code",
   "execution_count": null,
   "id": "2ad0c7c6",
   "metadata": {},
   "outputs": [],
   "source": [
    "Create and import file\n",
    "1. Create a red colour flowers redflowers_names.xlsx file and import file in spyder   (atleast 3 names, columns are FlowerName*color)\n",
    "2. Summarize data by color wise no.of flowers.\n",
    "3. Create a white colour flowers whiteflowers_names.xlsx file  and import file in spyder  (atleast 3 names, columns are FlowerName*color)\n",
    "4. Summarize data by color wise no.of flowers.\n",
    "5. Create a pink colour flowers whiteflowers_names.xlsx file and import file in spyder   (atleast 3 names, columns are FlowerName*color)\n",
    "6. Summarize data by color wise no.of flowers.\n",
    "7. Create a yellow colour flowers whiteflowers_names.xlsx file and import file in spyder   (atleast 3 names, columns are FlowerName*color)\n",
    "8. Summarize data by color wise no.of flowers.\n"
   ]
  },
  {
   "cell_type": "code",
   "execution_count": 60,
   "id": "e5bb747e",
   "metadata": {},
   "outputs": [
    {
     "data": {
      "text/html": [
       "<div>\n",
       "<style scoped>\n",
       "    .dataframe tbody tr th:only-of-type {\n",
       "        vertical-align: middle;\n",
       "    }\n",
       "\n",
       "    .dataframe tbody tr th {\n",
       "        vertical-align: top;\n",
       "    }\n",
       "\n",
       "    .dataframe thead th {\n",
       "        text-align: right;\n",
       "    }\n",
       "</style>\n",
       "<table border=\"1\" class=\"dataframe\">\n",
       "  <thead>\n",
       "    <tr style=\"text-align: right;\">\n",
       "      <th></th>\n",
       "      <th>flowernames</th>\n",
       "      <th>colour</th>\n",
       "    </tr>\n",
       "  </thead>\n",
       "  <tbody>\n",
       "    <tr>\n",
       "      <th>0</th>\n",
       "      <td>rose</td>\n",
       "      <td>red</td>\n",
       "    </tr>\n",
       "    <tr>\n",
       "      <th>1</th>\n",
       "      <td>Rose</td>\n",
       "      <td>Red</td>\n",
       "    </tr>\n",
       "    <tr>\n",
       "      <th>2</th>\n",
       "      <td>Cardinal flower</td>\n",
       "      <td>Red</td>\n",
       "    </tr>\n",
       "    <tr>\n",
       "      <th>3</th>\n",
       "      <td>Amaryllis</td>\n",
       "      <td>Red</td>\n",
       "    </tr>\n",
       "  </tbody>\n",
       "</table>\n",
       "</div>"
      ],
      "text/plain": [
       "       flowernames colour\n",
       "0             rose    red\n",
       "1             Rose    Red\n",
       "2  Cardinal flower    Red\n",
       "3        Amaryllis    Red"
      ]
     },
     "execution_count": 60,
     "metadata": {},
     "output_type": "execute_result"
    }
   ],
   "source": [
    "import pandas as pd\n",
    "df_redcolourflower_names=pd.read_excel(r\"C:\\Users\\HP\\Documents\\Shabana-pandas\\assignment_13\\flowersnames_colours.xlsx\")\n",
    "df_redcolourflower_names"
   ]
  },
  {
   "cell_type": "code",
   "execution_count": 61,
   "id": "0b84bd3d",
   "metadata": {},
   "outputs": [
    {
     "data": {
      "text/html": [
       "<div>\n",
       "<style scoped>\n",
       "    .dataframe tbody tr th:only-of-type {\n",
       "        vertical-align: middle;\n",
       "    }\n",
       "\n",
       "    .dataframe tbody tr th {\n",
       "        vertical-align: top;\n",
       "    }\n",
       "\n",
       "    .dataframe thead th {\n",
       "        text-align: right;\n",
       "    }\n",
       "</style>\n",
       "<table border=\"1\" class=\"dataframe\">\n",
       "  <thead>\n",
       "    <tr style=\"text-align: right;\">\n",
       "      <th></th>\n",
       "      <th>flowernames</th>\n",
       "      <th>colour</th>\n",
       "    </tr>\n",
       "  </thead>\n",
       "  <tbody>\n",
       "    <tr>\n",
       "      <th>0</th>\n",
       "      <td>rose</td>\n",
       "      <td>white</td>\n",
       "    </tr>\n",
       "    <tr>\n",
       "      <th>1</th>\n",
       "      <td>lilly</td>\n",
       "      <td>white</td>\n",
       "    </tr>\n",
       "    <tr>\n",
       "      <th>2</th>\n",
       "      <td>jasmine</td>\n",
       "      <td>white</td>\n",
       "    </tr>\n",
       "    <tr>\n",
       "      <th>3</th>\n",
       "      <td>desai</td>\n",
       "      <td>white</td>\n",
       "    </tr>\n",
       "  </tbody>\n",
       "</table>\n",
       "</div>"
      ],
      "text/plain": [
       "  flowernames colour\n",
       "0        rose  white\n",
       "1       lilly  white\n",
       "2     jasmine  white\n",
       "3       desai  white"
      ]
     },
     "execution_count": 61,
     "metadata": {},
     "output_type": "execute_result"
    }
   ],
   "source": [
    "import pandas as pd\n",
    "df_whitecolourflower_names=pd.read_excel(r\"C:\\Users\\HP\\Documents\\Shabana-pandas\\assignment_13\\flowersnames_colours.xlsx\",sheet_name=\"Sheet2\")\n",
    "df_whitecolourflower_names"
   ]
  },
  {
   "cell_type": "code",
   "execution_count": 62,
   "id": "b7c067a6",
   "metadata": {},
   "outputs": [
    {
     "data": {
      "text/html": [
       "<div>\n",
       "<style scoped>\n",
       "    .dataframe tbody tr th:only-of-type {\n",
       "        vertical-align: middle;\n",
       "    }\n",
       "\n",
       "    .dataframe tbody tr th {\n",
       "        vertical-align: top;\n",
       "    }\n",
       "\n",
       "    .dataframe thead th {\n",
       "        text-align: right;\n",
       "    }\n",
       "</style>\n",
       "<table border=\"1\" class=\"dataframe\">\n",
       "  <thead>\n",
       "    <tr style=\"text-align: right;\">\n",
       "      <th></th>\n",
       "      <th>flowernames</th>\n",
       "      <th>colour</th>\n",
       "    </tr>\n",
       "  </thead>\n",
       "  <tbody>\n",
       "    <tr>\n",
       "      <th>0</th>\n",
       "      <td>rose</td>\n",
       "      <td>pink</td>\n",
       "    </tr>\n",
       "    <tr>\n",
       "      <th>1</th>\n",
       "      <td>Carnation</td>\n",
       "      <td>Pink</td>\n",
       "    </tr>\n",
       "    <tr>\n",
       "      <th>2</th>\n",
       "      <td>Dianthus</td>\n",
       "      <td>Pink</td>\n",
       "    </tr>\n",
       "    <tr>\n",
       "      <th>3</th>\n",
       "      <td>Dahlia</td>\n",
       "      <td>Pink</td>\n",
       "    </tr>\n",
       "  </tbody>\n",
       "</table>\n",
       "</div>"
      ],
      "text/plain": [
       "  flowernames colour\n",
       "0        rose   pink\n",
       "1   Carnation   Pink\n",
       "2    Dianthus   Pink\n",
       "3      Dahlia   Pink"
      ]
     },
     "execution_count": 62,
     "metadata": {},
     "output_type": "execute_result"
    }
   ],
   "source": [
    "import pandas as pd\n",
    "df_pinkcolourflower_names=pd.read_excel(r\"C:\\Users\\HP\\Documents\\Shabana-pandas\\assignment_13\\flowersnames_colours.xlsx\",sheet_name=\"Sheet3\")\n",
    "df_pinkcolourflower_names"
   ]
  },
  {
   "cell_type": "code",
   "execution_count": 64,
   "id": "89bb0a89",
   "metadata": {},
   "outputs": [
    {
     "data": {
      "text/html": [
       "<div>\n",
       "<style scoped>\n",
       "    .dataframe tbody tr th:only-of-type {\n",
       "        vertical-align: middle;\n",
       "    }\n",
       "\n",
       "    .dataframe tbody tr th {\n",
       "        vertical-align: top;\n",
       "    }\n",
       "\n",
       "    .dataframe thead th {\n",
       "        text-align: right;\n",
       "    }\n",
       "</style>\n",
       "<table border=\"1\" class=\"dataframe\">\n",
       "  <thead>\n",
       "    <tr style=\"text-align: right;\">\n",
       "      <th></th>\n",
       "      <th>flowernames</th>\n",
       "      <th>colour</th>\n",
       "    </tr>\n",
       "  </thead>\n",
       "  <tbody>\n",
       "    <tr>\n",
       "      <th>0</th>\n",
       "      <td>rose</td>\n",
       "      <td>yellow</td>\n",
       "    </tr>\n",
       "    <tr>\n",
       "      <th>1</th>\n",
       "      <td>Sunflower</td>\n",
       "      <td>yellow</td>\n",
       "    </tr>\n",
       "    <tr>\n",
       "      <th>2</th>\n",
       "      <td>Marigold</td>\n",
       "      <td>yellow</td>\n",
       "    </tr>\n",
       "    <tr>\n",
       "      <th>3</th>\n",
       "      <td>Coneflowers</td>\n",
       "      <td>yellow</td>\n",
       "    </tr>\n",
       "  </tbody>\n",
       "</table>\n",
       "</div>"
      ],
      "text/plain": [
       "   flowernames  colour\n",
       "0         rose  yellow\n",
       "1    Sunflower  yellow\n",
       "2     Marigold  yellow\n",
       "3  Coneflowers  yellow"
      ]
     },
     "execution_count": 64,
     "metadata": {},
     "output_type": "execute_result"
    }
   ],
   "source": [
    "import pandas as pd\n",
    "df_yellowcolourflower_names=pd.read_excel(r\"C:\\Users\\HP\\Documents\\Shabana-pandas\\assignment_13\\flowersnames_colours.xlsx\",sheet_name=\"Sheet4\")\n",
    "df_yellowcolourflower_names"
   ]
  },
  {
   "cell_type": "code",
   "execution_count": 65,
   "id": "ad9eb479",
   "metadata": {},
   "outputs": [
    {
     "data": {
      "text/plain": [
       "colour\n",
       "Red    3\n",
       "red    1\n",
       "Name: flowernames, dtype: int64"
      ]
     },
     "execution_count": 65,
     "metadata": {},
     "output_type": "execute_result"
    }
   ],
   "source": [
    "df_redcolourflower_names.groupby(\"colour\")[\"flowernames\"].count()"
   ]
  },
  {
   "cell_type": "code",
   "execution_count": 66,
   "id": "2cfa4632",
   "metadata": {},
   "outputs": [
    {
     "data": {
      "text/plain": [
       "colour\n",
       "white    4\n",
       "Name: flowernames, dtype: int64"
      ]
     },
     "execution_count": 66,
     "metadata": {},
     "output_type": "execute_result"
    }
   ],
   "source": [
    "df_whitecolourflower_names.groupby(\"colour\")[\"flowernames\"].count()"
   ]
  },
  {
   "cell_type": "code",
   "execution_count": 67,
   "id": "9e6370ef",
   "metadata": {},
   "outputs": [
    {
     "data": {
      "text/plain": [
       "colour\n",
       "Pink    3\n",
       "pink    1\n",
       "Name: flowernames, dtype: int64"
      ]
     },
     "execution_count": 67,
     "metadata": {},
     "output_type": "execute_result"
    }
   ],
   "source": [
    "df_pinkcolourflower_names.groupby(\"colour\")[\"flowernames\"].count()"
   ]
  },
  {
   "cell_type": "code",
   "execution_count": 68,
   "id": "64f798cc",
   "metadata": {},
   "outputs": [
    {
     "data": {
      "text/plain": [
       "colour\n",
       "yellow    4\n",
       "Name: flowernames, dtype: int64"
      ]
     },
     "execution_count": 68,
     "metadata": {},
     "output_type": "execute_result"
    }
   ],
   "source": [
    "df_yellowcolourflower_names.groupby(\"colour\")[\"flowernames\"].count()"
   ]
  },
  {
   "cell_type": "code",
   "execution_count": null,
   "id": "d4089b21",
   "metadata": {},
   "outputs": [],
   "source": []
  },
  {
   "cell_type": "code",
   "execution_count": null,
   "id": "32847ec1",
   "metadata": {},
   "outputs": [],
   "source": []
  },
  {
   "cell_type": "code",
   "execution_count": null,
   "id": "bda5eba8",
   "metadata": {},
   "outputs": [],
   "source": []
  },
  {
   "cell_type": "code",
   "execution_count": null,
   "id": "7bbf14bd",
   "metadata": {},
   "outputs": [],
   "source": []
  }
 ],
 "metadata": {
  "kernelspec": {
   "display_name": "Python 3 (ipykernel)",
   "language": "python",
   "name": "python3"
  },
  "language_info": {
   "codemirror_mode": {
    "name": "ipython",
    "version": 3
   },
   "file_extension": ".py",
   "mimetype": "text/x-python",
   "name": "python",
   "nbconvert_exporter": "python",
   "pygments_lexer": "ipython3",
   "version": "3.10.9"
  }
 },
 "nbformat": 4,
 "nbformat_minor": 5
}
