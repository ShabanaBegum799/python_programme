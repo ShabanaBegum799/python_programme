{
 "cells": [
  {
   "cell_type": "code",
   "execution_count": 1,
   "id": "ffa25045",
   "metadata": {},
   "outputs": [],
   "source": [
    "dict={\"family_memebers\": [\"mazeed\",\"zahurunnisa\",\"safiya\",\"afifa\",\"farjana\",\"mobeena\",\"siraj\",\"saleem\",\"tasleem\",\"zareena\"]}"
   ]
  },
  {
   "cell_type": "code",
   "execution_count": 2,
   "id": "23b7da5e",
   "metadata": {},
   "outputs": [
    {
     "data": {
      "text/plain": [
       "{'family_memebers': ['mazeed',\n",
       "  'zahurunnisa',\n",
       "  'safiya',\n",
       "  'afifa',\n",
       "  'farjana',\n",
       "  'mobeena',\n",
       "  'siraj',\n",
       "  'saleem',\n",
       "  'tasleem',\n",
       "  'zareena']}"
      ]
     },
     "execution_count": 2,
     "metadata": {},
     "output_type": "execute_result"
    }
   ],
   "source": [
    "dict"
   ]
  },
  {
   "cell_type": "code",
   "execution_count": null,
   "id": "51286f5d",
   "metadata": {},
   "outputs": [],
   "source": []
  },
  {
   "cell_type": "code",
   "execution_count": null,
   "id": "873f48c1",
   "metadata": {},
   "outputs": [],
   "source": []
  },
  {
   "cell_type": "code",
   "execution_count": null,
   "id": "8feef456",
   "metadata": {},
   "outputs": [],
   "source": []
  },
  {
   "cell_type": "code",
   "execution_count": null,
   "id": "b387baf8",
   "metadata": {},
   "outputs": [],
   "source": []
  },
  {
   "cell_type": "code",
   "execution_count": null,
   "id": "10abdea6",
   "metadata": {},
   "outputs": [],
   "source": []
  }
 ],
 "metadata": {
  "kernelspec": {
   "display_name": "Python 3 (ipykernel)",
   "language": "python",
   "name": "python3"
  },
  "language_info": {
   "codemirror_mode": {
    "name": "ipython",
    "version": 3
   },
   "file_extension": ".py",
   "mimetype": "text/x-python",
   "name": "python",
   "nbconvert_exporter": "python",
   "pygments_lexer": "ipython3",
   "version": "3.10.9"
  }
 },
 "nbformat": 4,
 "nbformat_minor": 5
}
