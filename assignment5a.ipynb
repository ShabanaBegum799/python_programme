{
 "cells": [
  {
   "cell_type": "code",
   "execution_count": 1,
   "id": "ffa25045",
   "metadata": {},
   "outputs": [],
   "source": [
    "dict={\"family_memebers\": [\"mazeed\",\"zahurunnisa\",\"safiya\",\"afifa\",\"farjana\",\"mobeena\",\"siraj\",\"saleem\",\"tasleem\",\"zareena\"]}"
   ]
  },
  {
   "cell_type": "code",
   "execution_count": 2,
   "id": "23b7da5e",
   "metadata": {},
   "outputs": [
    {
     "data": {
      "text/plain": [
       "{'family_memebers': ['mazeed',\n",
       "  'zahurunnisa',\n",
       "  'safiya',\n",
       "  'afifa',\n",
       "  'farjana',\n",
       "  'mobeena',\n",
       "  'siraj',\n",
       "  'saleem',\n",
       "  'tasleem',\n",
       "  'zareena']}"
      ]
     },
     "execution_count": 2,
     "metadata": {},
     "output_type": "execute_result"
    }
   ],
   "source": [
    "dict"
   ]
  },
  {
   "cell_type": "code",
   "execution_count": null,
   "id": "cdc05c59",
   "metadata": {},
   "outputs": [],
   "source": [
    " Create a dict with your family members(at least 10 names)?\n",
    "expected output : { \"family_members\" : your family member details}\n"
   ]
  },
  {
   "cell_type": "code",
   "execution_count": 9,
   "id": "51286f5d",
   "metadata": {},
   "outputs": [],
   "source": [
    "dict={\"family_memebers\": [\"mazeed\",\"zahurunnisa\",\"safiya\",\"afifa\",\"farjana\",\"mobeena\",\"siraj\",\"saleem\",\"tasleem\",\"zareena\"],\"relation\":[\"father\",\"mother\",\"daughter\",\"daughter\",\"sister\",\"sister\",\"sister\",\"brother\",\"brother\",\"brother\",\"sister\"]}"
   ]
  },
  {
   "cell_type": "code",
   "execution_count": 10,
   "id": "8feef456",
   "metadata": {},
   "outputs": [
    {
     "data": {
      "text/plain": [
       "{'family_memebers': ['mazeed',\n",
       "  'zahurunnisa',\n",
       "  'safiya',\n",
       "  'afifa',\n",
       "  'farjana',\n",
       "  'mobeena',\n",
       "  'siraj',\n",
       "  'saleem',\n",
       "  'tasleem',\n",
       "  'zareena'],\n",
       " 'relation': ['father',\n",
       "  'mother',\n",
       "  'daughter',\n",
       "  'daughter',\n",
       "  'sister',\n",
       "  'sister',\n",
       "  'sister',\n",
       "  'brother',\n",
       "  'brother',\n",
       "  'brother',\n",
       "  'sister']}"
      ]
     },
     "execution_count": 10,
     "metadata": {},
     "output_type": "execute_result"
    }
   ],
   "source": [
    "dict"
   ]
  },
  {
   "cell_type": "code",
   "execution_count": 12,
   "id": "bef299a5",
   "metadata": {},
   "outputs": [
    {
     "data": {
      "text/plain": [
       "('afifa', 'daughter')"
      ]
     },
     "execution_count": 12,
     "metadata": {},
     "output_type": "execute_result"
    }
   ],
   "source": [
    "dict[\"family_memebers\"][3],dict[\"relation\"][3]"
   ]
  },
  {
   "cell_type": "code",
   "execution_count": 13,
   "id": "b387baf8",
   "metadata": {},
   "outputs": [
    {
     "data": {
      "text/plain": [
       "('mazeed', 'father')"
      ]
     },
     "execution_count": 13,
     "metadata": {},
     "output_type": "execute_result"
    }
   ],
   "source": [
    "dict[\"family_memebers\"][0],dict[\"relation\"][0]"
   ]
  },
  {
   "cell_type": "code",
   "execution_count": 14,
   "id": "e875b4bb",
   "metadata": {},
   "outputs": [
    {
     "data": {
      "text/plain": [
       "('safiya', 'daughter')"
      ]
     },
     "execution_count": 14,
     "metadata": {},
     "output_type": "execute_result"
    }
   ],
   "source": [
    "dict[\"family_memebers\"][2],dict[\"relation\"][2]"
   ]
  },
  {
   "cell_type": "code",
   "execution_count": 20,
   "id": "b301f8fa",
   "metadata": {},
   "outputs": [
    {
     "data": {
      "text/plain": [
       "'mazeed'"
      ]
     },
     "execution_count": 20,
     "metadata": {},
     "output_type": "execute_result"
    }
   ],
   "source": [
    "dict[\"family_memebers\"][0]"
   ]
  },
  {
   "cell_type": "code",
   "execution_count": 22,
   "id": "277e8fae",
   "metadata": {},
   "outputs": [
    {
     "data": {
      "text/plain": [
       "'farjana'"
      ]
     },
     "execution_count": 22,
     "metadata": {},
     "output_type": "execute_result"
    }
   ],
   "source": [
    "dict[\"family_memebers\"][4]"
   ]
  },
  {
   "cell_type": "code",
   "execution_count": 23,
   "id": "68999b0e",
   "metadata": {},
   "outputs": [
    {
     "data": {
      "text/plain": [
       "'afifa'"
      ]
     },
     "execution_count": 23,
     "metadata": {},
     "output_type": "execute_result"
    }
   ],
   "source": [
    "dict[\"family_memebers\"][3]"
   ]
  },
  {
   "cell_type": "code",
   "execution_count": 40,
   "id": "3c8f87ff",
   "metadata": {},
   "outputs": [],
   "source": [
    "dict={\"friends_name\":[\"nasheena\",\"parveen\",\"durga\",\"jayasri\",\"anusha\",\"reshma\",\"santhosh\",\"khaja\",\"imran\",\"madhuri\"],\"quality\":[\"intilligent\",\"good\",\"talkactive\",\"anger\",\"funny\",\"intilligent\",\"funny\",\"good\",\"talkactive\",\"funny\"]}"
   ]
  },
  {
   "cell_type": "code",
   "execution_count": 25,
   "id": "c41548db",
   "metadata": {},
   "outputs": [
    {
     "data": {
      "text/plain": [
       "{'friends_name': ['nasheena',\n",
       "  'parveen',\n",
       "  'durga',\n",
       "  'jayasri',\n",
       "  'anusha',\n",
       "  'reshma',\n",
       "  'santhosh',\n",
       "  'khaja',\n",
       "  'imran',\n",
       "  'madhuri'],\n",
       " 'quality': ['intilligent',\n",
       "  'good',\n",
       "  'talkactive',\n",
       "  'anger',\n",
       "  'funny',\n",
       "  'intilligent',\n",
       "  'funny',\n",
       "  'good',\n",
       "  'talkactive',\n",
       "  'funny']}"
      ]
     },
     "execution_count": 25,
     "metadata": {},
     "output_type": "execute_result"
    }
   ],
   "source": [
    "dict"
   ]
  },
  {
   "cell_type": "code",
   "execution_count": 26,
   "id": "003e6253",
   "metadata": {},
   "outputs": [
    {
     "data": {
      "text/plain": [
       "['nasheena',\n",
       " 'parveen',\n",
       " 'durga',\n",
       " 'jayasri',\n",
       " 'anusha',\n",
       " 'reshma',\n",
       " 'santhosh',\n",
       " 'khaja',\n",
       " 'imran',\n",
       " 'madhuri']"
      ]
     },
     "execution_count": 26,
     "metadata": {},
     "output_type": "execute_result"
    }
   ],
   "source": [
    "dict[\"friends_name\"]"
   ]
  },
  {
   "cell_type": "code",
   "execution_count": 29,
   "id": "00abfd22",
   "metadata": {},
   "outputs": [
    {
     "data": {
      "text/plain": [
       "'durga'"
      ]
     },
     "execution_count": 29,
     "metadata": {},
     "output_type": "execute_result"
    }
   ],
   "source": [
    "dict[\"friends_name\"][2]"
   ]
  },
  {
   "cell_type": "code",
   "execution_count": 32,
   "id": "8d411a6a",
   "metadata": {
    "scrolled": true
   },
   "outputs": [
    {
     "data": {
      "text/plain": [
       "('durga', 'talkactive')"
      ]
     },
     "execution_count": 32,
     "metadata": {},
     "output_type": "execute_result"
    }
   ],
   "source": [
    "dict[\"friends_name\"][2],dict[\"quality\"][2]"
   ]
  },
  {
   "cell_type": "code",
   "execution_count": 33,
   "id": "235b10a4",
   "metadata": {},
   "outputs": [
    {
     "data": {
      "text/plain": [
       "('madhuri', 'funny')"
      ]
     },
     "execution_count": 33,
     "metadata": {},
     "output_type": "execute_result"
    }
   ],
   "source": [
    "dict[\"friends_name\"][9],dict[\"quality\"][9]"
   ]
  },
  {
   "cell_type": "code",
   "execution_count": 39,
   "id": "d7e2976c",
   "metadata": {},
   "outputs": [
    {
     "data": {
      "text/plain": [
       "('nasheena', 'intilligent')"
      ]
     },
     "execution_count": 39,
     "metadata": {},
     "output_type": "execute_result"
    }
   ],
   "source": [
    "dict[\"friends_name\"][0],dict[\"quality\"][0]"
   ]
  },
  {
   "cell_type": "code",
   "execution_count": 42,
   "id": "961bdaa0",
   "metadata": {},
   "outputs": [
    {
     "data": {
      "text/plain": [
       "'madhuri'"
      ]
     },
     "execution_count": 42,
     "metadata": {},
     "output_type": "execute_result"
    }
   ],
   "source": [
    "dict[\"friends_name\"][9]"
   ]
  },
  {
   "cell_type": "code",
   "execution_count": 43,
   "id": "4885c992",
   "metadata": {},
   "outputs": [],
   "source": [
    "dict={\"veg_items\":[\"potatochips\",\"brinjal\",\"ladysfinger\",\"carrot\",\"beatroot\"],\"rating\":[1,3,5,4,2]}"
   ]
  },
  {
   "cell_type": "code",
   "execution_count": 45,
   "id": "9b25a6d9",
   "metadata": {},
   "outputs": [
    {
     "data": {
      "text/plain": [
       "('potatochips', 1)"
      ]
     },
     "execution_count": 45,
     "metadata": {},
     "output_type": "execute_result"
    }
   ],
   "source": [
    "dict[\"veg_items\"][0],dict[\"rating\"][0]"
   ]
  },
  {
   "cell_type": "code",
   "execution_count": 47,
   "id": "6e968aa6",
   "metadata": {},
   "outputs": [],
   "source": [
    "dict={\"non_veg\":[\"chikenbiryani\",\"muttonbiryani\",\"fish\",],\"rating\":[\"150\",\"250\",\"100\"]}"
   ]
  },
  {
   "cell_type": "code",
   "execution_count": 48,
   "id": "10abdea6",
   "metadata": {},
   "outputs": [
    {
     "data": {
      "text/plain": [
       "('fish', '100')"
      ]
     },
     "execution_count": 48,
     "metadata": {},
     "output_type": "execute_result"
    }
   ],
   "source": [
    "dict[\"non_veg\"][2],dict[\"rating\"][2]"
   ]
  },
  {
   "cell_type": "code",
   "execution_count": 52,
   "id": "64e2f64d",
   "metadata": {},
   "outputs": [],
   "source": [
    "dict={\"cities\":[\"chennai\",\"nagpiur\",\"surath\",\"jaipur\"],\"rating\":[1,2,3,4,]}"
   ]
  },
  {
   "cell_type": "code",
   "execution_count": 53,
   "id": "571aaecb",
   "metadata": {},
   "outputs": [
    {
     "data": {
      "text/plain": [
       "('jaipur', 4)"
      ]
     },
     "execution_count": 53,
     "metadata": {},
     "output_type": "execute_result"
    }
   ],
   "source": [
    "dict[\"cities\"][3],dict[\"rating\"][3]"
   ]
  },
  {
   "cell_type": "code",
   "execution_count": 13,
   "id": "2de2fa97",
   "metadata": {},
   "outputs": [],
   "source": [
    "dict={\"non_veg\":[\"chikenbiryani\",\"muttonbiryani\",\"fish\",],\"rating\":[\"150\",\"250\",\"100\"]}\n"
   ]
  },
  {
   "cell_type": "code",
   "execution_count": 3,
   "id": "acab39fc",
   "metadata": {},
   "outputs": [
    {
     "data": {
      "text/plain": [
       "('fish', '100')"
      ]
     },
     "execution_count": 3,
     "metadata": {},
     "output_type": "execute_result"
    }
   ],
   "source": [
    "dict[\"non_veg\"][2],dict[\"rating\"][2]"
   ]
  },
  {
   "cell_type": "code",
   "execution_count": 14,
   "id": "345f71af",
   "metadata": {},
   "outputs": [
    {
     "data": {
      "text/plain": [
       "['chikenbiryani', 'muttonbiryani', 'fish']"
      ]
     },
     "execution_count": 14,
     "metadata": {},
     "output_type": "execute_result"
    }
   ],
   "source": [
    "dict[\"non_veg\"]"
   ]
  }
 ],
 "metadata": {
  "kernelspec": {
   "display_name": "Python 3 (ipykernel)",
   "language": "python",
   "name": "python3"
  },
  "language_info": {
   "codemirror_mode": {
    "name": "ipython",
    "version": 3
   },
   "file_extension": ".py",
   "mimetype": "text/x-python",
   "name": "python",
   "nbconvert_exporter": "python",
   "pygments_lexer": "ipython3",
   "version": "3.10.9"
  }
 },
 "nbformat": 4,
 "nbformat_minor": 5
}
