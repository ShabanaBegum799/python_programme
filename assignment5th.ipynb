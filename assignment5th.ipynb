{
 "cells": [
  {
   "cell_type": "code",
   "execution_count": 7,
   "id": "ffa25045",
   "metadata": {},
   "outputs": [],
   "source": [
    "dict={\"family_memebers\": [\"mazeed\",\"zahurunnisa\",\"safiya\",\"afifa\",\"farjana\",\"mobeena\",\"siraj\",\"saleem\",\"tasleem\",\"zareena\"]}"
   ]
  },
  {
   "cell_type": "code",
   "execution_count": 8,
   "id": "23b7da5e",
   "metadata": {},
   "outputs": [
    {
     "data": {
      "text/plain": [
       "{'family_memebers': ['mazeed',\n",
       "  'zahurunnisa',\n",
       "  'safiya',\n",
       "  'afifa',\n",
       "  'farjana',\n",
       "  'mobeena',\n",
       "  'siraj',\n",
       "  'saleem',\n",
       "  'tasleem',\n",
       "  'zareena']}"
      ]
     },
     "execution_count": 8,
     "metadata": {},
     "output_type": "execute_result"
    }
   ],
   "source": [
    "dict"
   ]
  },
  {
   "cell_type": "code",
   "execution_count": 9,
   "id": "51286f5d",
   "metadata": {},
   "outputs": [],
   "source": [
    "dict={\"family_memebers\": [\"mazeed\",\"zahurunnisa\",\"safiya\",\"afifa\",\"farjana\",\"mobeena\",\"siraj\",\"saleem\",\"tasleem\",\"zareena\"],\"relation\":[\"father\",\"mother\",\"daughter\",\"daughter\",\"sister\",\"sister\",\"sister\",\"brother\",\"brother\",\"brother\",\"sister\"]}"
   ]
  },
  {
   "cell_type": "code",
   "execution_count": 10,
   "id": "8feef456",
   "metadata": {},
   "outputs": [
    {
     "data": {
      "text/plain": [
       "{'family_memebers': ['mazeed',\n",
       "  'zahurunnisa',\n",
       "  'safiya',\n",
       "  'afifa',\n",
       "  'farjana',\n",
       "  'mobeena',\n",
       "  'siraj',\n",
       "  'saleem',\n",
       "  'tasleem',\n",
       "  'zareena'],\n",
       " 'relation': ['father',\n",
       "  'mother',\n",
       "  'daughter',\n",
       "  'daughter',\n",
       "  'sister',\n",
       "  'sister',\n",
       "  'sister',\n",
       "  'brother',\n",
       "  'brother',\n",
       "  'brother',\n",
       "  'sister']}"
      ]
     },
     "execution_count": 10,
     "metadata": {},
     "output_type": "execute_result"
    }
   ],
   "source": [
    "dict"
   ]
  },
  {
   "cell_type": "code",
   "execution_count": 13,
   "id": "b387baf8",
   "metadata": {},
   "outputs": [
    {
     "data": {
      "text/plain": [
       "('mazeed', 'father')"
      ]
     },
     "execution_count": 13,
     "metadata": {},
     "output_type": "execute_result"
    }
   ],
   "source": [
    "dict[\"family_memebers\"][0],dict[\"relation\"][0]"
   ]
  },
  {
   "cell_type": "code",
   "execution_count": 14,
   "id": "8ae88c01",
   "metadata": {},
   "outputs": [
    {
     "data": {
      "text/plain": [
       "('safiya', 'daughter')"
      ]
     },
     "execution_count": 14,
     "metadata": {},
     "output_type": "execute_result"
    }
   ],
   "source": [
    "dict[\"family_memebers\"][2],dict[\"relation\"][2]"
   ]
  },
  {
   "cell_type": "code",
   "execution_count": 20,
   "id": "91fae76b",
   "metadata": {},
   "outputs": [
    {
     "data": {
      "text/plain": [
       "'mazeed'"
      ]
     },
     "execution_count": 20,
     "metadata": {},
     "output_type": "execute_result"
    }
   ],
   "source": [
    "dict[\"family_memebers\"][0]"
   ]
  },
  {
   "cell_type": "code",
   "execution_count": 22,
   "id": "913f0167",
   "metadata": {},
   "outputs": [
    {
     "data": {
      "text/plain": [
       "'farjana'"
      ]
     },
     "execution_count": 22,
     "metadata": {},
     "output_type": "execute_result"
    }
   ],
   "source": [
    "dict[\"family_memebers\"][4]"
   ]
  },
  {
   "cell_type": "code",
   "execution_count": 12,
   "id": "206e5ac4",
   "metadata": {},
   "outputs": [
    {
     "name": "stdout",
     "output_type": "stream",
     "text": [
      "my favorite family_memebers is safiya\n"
     ]
    }
   ],
   "source": [
    "print(\"my favorite family_memebers is\",dict[\"family_memebers\"][2])"
   ]
  },
  {
   "cell_type": "code",
   "execution_count": 23,
   "id": "9516edd3",
   "metadata": {},
   "outputs": [
    {
     "data": {
      "text/plain": [
       "'afifa'"
      ]
     },
     "execution_count": 23,
     "metadata": {},
     "output_type": "execute_result"
    }
   ],
   "source": [
    "dict[\"family_memebers\"][3]"
   ]
  },
  {
   "cell_type": "code",
   "execution_count": 40,
   "id": "8766f5fd",
   "metadata": {},
   "outputs": [],
   "source": [
    "dict={\"friends_name\":[\"nasheena\",\"parveen\",\"durga\",\"jayasri\",\"anusha\",\"reshma\",\"santhosh\",\"khaja\",\"imran\",\"madhuri\"],\"quality\":[\"intilligent\",\"good\",\"talkactive\",\"anger\",\"funny\",\"intilligent\",\"funny\",\"good\",\"talkactive\",\"funny\"]}"
   ]
  },
  {
   "cell_type": "code",
   "execution_count": 25,
   "id": "42e524c8",
   "metadata": {},
   "outputs": [
    {
     "data": {
      "text/plain": [
       "{'friends_name': ['nasheena',\n",
       "  'parveen',\n",
       "  'durga',\n",
       "  'jayasri',\n",
       "  'anusha',\n",
       "  'reshma',\n",
       "  'santhosh',\n",
       "  'khaja',\n",
       "  'imran',\n",
       "  'madhuri'],\n",
       " 'quality': ['intilligent',\n",
       "  'good',\n",
       "  'talkactive',\n",
       "  'anger',\n",
       "  'funny',\n",
       "  'intilligent',\n",
       "  'funny',\n",
       "  'good',\n",
       "  'talkactive',\n",
       "  'funny']}"
      ]
     },
     "execution_count": 25,
     "metadata": {},
     "output_type": "execute_result"
    }
   ],
   "source": [
    "dict"
   ]
  },
  {
   "cell_type": "code",
   "execution_count": 26,
   "id": "97aa1a57",
   "metadata": {},
   "outputs": [
    {
     "data": {
      "text/plain": [
       "['nasheena',\n",
       " 'parveen',\n",
       " 'durga',\n",
       " 'jayasri',\n",
       " 'anusha',\n",
       " 'reshma',\n",
       " 'santhosh',\n",
       " 'khaja',\n",
       " 'imran',\n",
       " 'madhuri']"
      ]
     },
     "execution_count": 26,
     "metadata": {},
     "output_type": "execute_result"
    }
   ],
   "source": [
    "dict[\"friends_name\"]"
   ]
  },
  {
   "cell_type": "code",
   "execution_count": 29,
   "id": "fc5dd687",
   "metadata": {},
   "outputs": [
    {
     "data": {
      "text/plain": [
       "'durga'"
      ]
     },
     "execution_count": 29,
     "metadata": {},
     "output_type": "execute_result"
    }
   ],
   "source": [
    "dict[\"friends_name\"][2]"
   ]
  },
  {
   "cell_type": "code",
   "execution_count": 32,
   "id": "68121989",
   "metadata": {
    "scrolled": true
   },
   "outputs": [
    {
     "data": {
      "text/plain": [
       "('durga', 'talkactive')"
      ]
     },
     "execution_count": 32,
     "metadata": {},
     "output_type": "execute_result"
    }
   ],
   "source": [
    "dict[\"friends_name\"][2],dict[\"quality\"][2]"
   ]
  },
  {
   "cell_type": "code",
   "execution_count": 33,
   "id": "09c135d5",
   "metadata": {},
   "outputs": [
    {
     "data": {
      "text/plain": [
       "('madhuri', 'funny')"
      ]
     },
     "execution_count": 33,
     "metadata": {},
     "output_type": "execute_result"
    }
   ],
   "source": [
    "dict[\"friends_name\"][9],dict[\"quality\"][9]"
   ]
  },
  {
   "cell_type": "code",
   "execution_count": 39,
   "id": "de670ae5",
   "metadata": {},
   "outputs": [
    {
     "data": {
      "text/plain": [
       "('nasheena', 'intilligent')"
      ]
     },
     "execution_count": 39,
     "metadata": {},
     "output_type": "execute_result"
    }
   ],
   "source": [
    "dict[\"friends_name\"][0],dict[\"quality\"][0]"
   ]
  },
  {
   "cell_type": "code",
   "execution_count": 42,
   "id": "b7a91e4c",
   "metadata": {},
   "outputs": [
    {
     "data": {
      "text/plain": [
       "'madhuri'"
      ]
     },
     "execution_count": 42,
     "metadata": {},
     "output_type": "execute_result"
    }
   ],
   "source": [
    "dict[\"friends_name\"][9]"
   ]
  },
  {
   "cell_type": "code",
   "execution_count": 43,
   "id": "5357f61a",
   "metadata": {},
   "outputs": [],
   "source": [
    "dict={\"veg_items\":[\"potatochips\",\"brinjal\",\"ladysfinger\",\"carrot\",\"beatroot\"],\"rating\":[1,3,5,4,2]}"
   ]
  },
  {
   "cell_type": "code",
   "execution_count": 45,
   "id": "b6dec170",
   "metadata": {},
   "outputs": [
    {
     "data": {
      "text/plain": [
       "('potatochips', 1)"
      ]
     },
     "execution_count": 45,
     "metadata": {},
     "output_type": "execute_result"
    }
   ],
   "source": [
    "dict[\"veg_items\"][0],dict[\"rating\"][0]"
   ]
  },
  {
   "cell_type": "code",
   "execution_count": 47,
   "id": "fa6f2674",
   "metadata": {},
   "outputs": [],
   "source": [
    "dict={\"non_veg\":[\"chikenbiryani\",\"muttonbiryani\",\"fish\",],\"rating\":[\"150\",\"250\",\"100\"]}"
   ]
  },
  {
   "cell_type": "code",
   "execution_count": 48,
   "id": "10abdea6",
   "metadata": {},
   "outputs": [
    {
     "data": {
      "text/plain": [
       "('fish', '100')"
      ]
     },
     "execution_count": 48,
     "metadata": {},
     "output_type": "execute_result"
    }
   ],
   "source": [
    "dict[\"non_veg\"][2],dict[\"rating\"][2]"
   ]
  },
  {
   "cell_type": "code",
   "execution_count": 52,
   "id": "edbb5866",
   "metadata": {},
   "outputs": [],
   "source": [
    "dict={\"cities\":[\"chennai\",\"nagpiur\",\"surath\",\"jaipur\"],\"rating\":[1,2,3,4,]}"
   ]
  },
  {
   "cell_type": "code",
   "execution_count": 53,
   "id": "ebe0d5be",
   "metadata": {},
   "outputs": [
    {
     "data": {
      "text/plain": [
       "('jaipur', 4)"
      ]
     },
     "execution_count": 53,
     "metadata": {},
     "output_type": "execute_result"
    }
   ],
   "source": [
    "dict[\"cities\"][3],dict[\"rating\"][3]"
   ]
  },
  {
   "cell_type": "code",
   "execution_count": null,
   "id": "7f598803",
   "metadata": {},
   "outputs": [],
   "source": []
  },
  {
   "cell_type": "code",
   "execution_count": null,
   "id": "b1c4027c",
   "metadata": {},
   "outputs": [],
   "source": []
  },
  {
   "cell_type": "code",
   "execution_count": null,
   "id": "50e2d314",
   "metadata": {},
   "outputs": [],
   "source": []
  }
 ],
 "metadata": {
  "kernelspec": {
   "display_name": "Python 3 (ipykernel)",
   "language": "python",
   "name": "python3"
  },
  "language_info": {
   "codemirror_mode": {
    "name": "ipython",
    "version": 3
   },
   "file_extension": ".py",
   "mimetype": "text/x-python",
   "name": "python",
   "nbconvert_exporter": "python",
   "pygments_lexer": "ipython3",
   "version": "3.10.9"
  }
 },
 "nbformat": 4,
 "nbformat_minor": 5
}
