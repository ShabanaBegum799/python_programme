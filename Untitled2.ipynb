{
 "cells": [
  {
   "cell_type": "code",
   "execution_count": 3,
   "id": "172e4635",
   "metadata": {},
   "outputs": [],
   "source": [
    "names=[\"parveen\",\"nasheena\",\"anusha\",\"santhosh\"]"
   ]
  },
  {
   "cell_type": "code",
   "execution_count": 18,
   "id": "b350e263",
   "metadata": {},
   "outputs": [],
   "source": [
    "age=[35,30,30,26]"
   ]
  },
  {
   "cell_type": "code",
   "execution_count": null,
   "id": "81b0dd60",
   "metadata": {},
   "outputs": [],
   "source": [
    "print(\" hkjlhkjhkjh\")"
   ]
  },
  {
   "cell_type": "code",
   "execution_count": 16,
   "id": "1846355e",
   "metadata": {},
   "outputs": [
    {
     "name": "stdout",
     "output_type": "stream",
     "text": [
      "['parveen', 'nasheena', 'anusha', 'santhosh']\n"
     ]
    }
   ],
   "source": [
    "print(names)"
   ]
  },
  {
   "cell_type": "code",
   "execution_count": 17,
   "id": "707358df",
   "metadata": {},
   "outputs": [
    {
     "name": "stdout",
     "output_type": "stream",
     "text": [
      " my friend name s are ['parveen', 'nasheena', 'anusha', 'santhosh']\n"
     ]
    }
   ],
   "source": [
    "print(\" my friend name s are\",names)"
   ]
  },
  {
   "cell_type": "code",
   "execution_count": 19,
   "id": "d318bc11",
   "metadata": {},
   "outputs": [
    {
     "name": "stdout",
     "output_type": "stream",
     "text": [
      "[35, 30, 30, 26]\n"
     ]
    }
   ],
   "source": [
    "print(age)"
   ]
  },
  {
   "cell_type": "code",
   "execution_count": 25,
   "id": "0d1f28a4",
   "metadata": {},
   "outputs": [
    {
     "name": "stdout",
     "output_type": "stream",
     "text": [
      "my friend ages are,age [35, 30, 30, 26]\n"
     ]
    }
   ],
   "source": [
    "print(\"my friend ages are,age\", age)"
   ]
  },
  {
   "cell_type": "code",
   "execution_count": 4,
   "id": "86b9436d",
   "metadata": {},
   "outputs": [],
   "source": [
    "names=[\"parveen\",\"nasheena\",\"anusha\",\"santhosh\"]"
   ]
  },
  {
   "cell_type": "code",
   "execution_count": 5,
   "id": "2ba53589",
   "metadata": {},
   "outputs": [],
   "source": [
    "gender=[\"female\",\"female\",\"female\",\"male\"]"
   ]
  },
  {
   "cell_type": "code",
   "execution_count": 29,
   "id": "e65adc7a",
   "metadata": {},
   "outputs": [
    {
     "name": "stdout",
     "output_type": "stream",
     "text": [
      "friends name are ['female', 'female', 'female', 'male']\n"
     ]
    }
   ],
   "source": [
    "print(\"friends name are\",gender)"
   ]
  },
  {
   "cell_type": "code",
   "execution_count": 11,
   "id": "83cdac11",
   "metadata": {},
   "outputs": [
    {
     "name": "stdout",
     "output_type": "stream",
     "text": [
      "friends name are ['parveen', 'nasheena', 'anusha', 'santhosh'] ['female', 'female', 'female', 'male']\n"
     ]
    }
   ],
   "source": [
    "print(\"friends name are\",names,gender)"
   ]
  },
  {
   "cell_type": "code",
   "execution_count": 32,
   "id": "e2e16731",
   "metadata": {},
   "outputs": [],
   "source": [
    "relation=[\"friend\",\"relatives\",\"friend\",\"friend\"]"
   ]
  },
  {
   "cell_type": "code",
   "execution_count": 39,
   "id": "84a49d2a",
   "metadata": {},
   "outputs": [
    {
     "name": "stdout",
     "output_type": "stream",
     "text": [
      "names ['friend', 'parveen']\n"
     ]
    }
   ],
   "source": [
    "print(\"names\",relation)"
   ]
  },
  {
   "cell_type": "code",
   "execution_count": 5,
   "id": "0aea5486",
   "metadata": {},
   "outputs": [
    {
     "name": "stdout",
     "output_type": "stream",
     "text": [
      "names parveen gender female\n"
     ]
    }
   ],
   "source": [
    "print(\"names\",\"parveen\",\"gender\",\"female\")"
   ]
  },
  {
   "cell_type": "code",
   "execution_count": 10,
   "id": "4e2a5e2e",
   "metadata": {},
   "outputs": [
    {
     "name": "stdout",
     "output_type": "stream",
     "text": [
      "nasheena gender female\n"
     ]
    }
   ],
   "source": [
    "print(\"nasheena\",\"gender\",\"female\")"
   ]
  },
  {
   "cell_type": "code",
   "execution_count": 14,
   "id": "e3d21f7a",
   "metadata": {},
   "outputs": [
    {
     "name": "stdout",
     "output_type": "stream",
     "text": [
      "nasheena name\n"
     ]
    }
   ],
   "source": [
    "print(\"nasheena\",\"name\")"
   ]
  },
  {
   "cell_type": "code",
   "execution_count": 16,
   "id": "e68af6e7",
   "metadata": {},
   "outputs": [
    {
     "data": {
      "text/plain": [
       "'name:anu'"
      ]
     },
     "execution_count": 16,
     "metadata": {},
     "output_type": "execute_result"
    }
   ],
   "source": [
    "\"name:anu\""
   ]
  },
  {
   "cell_type": "code",
   "execution_count": 17,
   "id": "cdf15d80",
   "metadata": {},
   "outputs": [
    {
     "name": "stdout",
     "output_type": "stream",
     "text": [
      "parveen relatives\n"
     ]
    }
   ],
   "source": [
    "print(\"parveen\",\"relatives\")"
   ]
  },
  {
   "cell_type": "code",
   "execution_count": null,
   "id": "85b5d2e8",
   "metadata": {},
   "outputs": [],
   "source": []
  },
  {
   "cell_type": "code",
   "execution_count": null,
   "id": "6ab525db",
   "metadata": {},
   "outputs": [],
   "source": []
  }
 ],
 "metadata": {
  "kernelspec": {
   "display_name": "Python 3 (ipykernel)",
   "language": "python",
   "name": "python3"
  },
  "language_info": {
   "codemirror_mode": {
    "name": "ipython",
    "version": 3
   },
   "file_extension": ".py",
   "mimetype": "text/x-python",
   "name": "python",
   "nbconvert_exporter": "python",
   "pygments_lexer": "ipython3",
   "version": "3.10.9"
  }
 },
 "nbformat": 4,
 "nbformat_minor": 5
}
