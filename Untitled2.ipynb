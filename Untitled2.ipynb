{
 "cells": [
  {
   "cell_type": "code",
   "execution_count": 1,
   "id": "c86fdeba",
   "metadata": {},
   "outputs": [],
   "source": [
    "def products(purchase_products):\n",
    "    if purchase_products==\"a\":\n",
    "        print(\"20% discount\")\n",
    "    elif purchase_products==\"b\":\n",
    "        print(\"0% discount\")\n",
    "    elif purchase_products==\"a\"and\"b\":\n",
    "        print(\"30% discount\")\n",
    "    elif purchase_products==\"c\":\n",
    "        print(\"0% discount\") \n",
    "    elif purchase_products==\"a\"and\"b\"and\"c\":\n",
    "        print(\"40% discount\")\n",
    "    elif purchase_products==\"d\":\n",
    "        print(\"0% discount\")\n",
    "    elif purchase_products==\"a\"and\"b\"and\"c\"and\"d\":\n",
    "        print(\"50% discount\")       "
   ]
  },
  {
   "cell_type": "code",
   "execution_count": 3,
   "id": "2b32d7a6",
   "metadata": {},
   "outputs": [
    {
     "name": "stdout",
     "output_type": "stream",
     "text": [
      "0% discount\n"
     ]
    }
   ],
   "source": [
    "products(\"a\"and\"b\"and\"c\"and\"d\")"
   ]
  },
  {
   "cell_type": "code",
   "execution_count": null,
   "id": "cda14f54",
   "metadata": {},
   "outputs": [],
   "source": []
  },
  {
   "cell_type": "code",
   "execution_count": 18,
   "id": "5e551c3a",
   "metadata": {},
   "outputs": [],
   "source": [
    "def offer(purchase_product,having_product,condition):\n",
    "    if purchase_product==\"a\" and having_product==\"c\"and condition==\"damazed\":\n",
    "        print(\"discount is10%\")\n",
    "    elif purchase-Product==\"a\"and having_product==\"c\"and condition==\"undamazed\":\n",
    "        print(\"discount is30%\")\n",
    "    elif purchase_product==\"b\"and having_product==\"d\"and condition==\"damazed\":\n",
    "        print(\"discount is10%\")\n",
    "    elif purchase_product==\"b\"and having_product==\"d\"and condition==\"undamazed\":\n",
    "        print(\"discount is30%\")\n",
    "    elif purchase_product==\"c\"and having_product==\"c\"and condition==\"damazed\":\n",
    "        print(\"discount is10%\")\n",
    "    elif purchase_product==\"c\"and having_product==\"a\"and condition==\"undamazed\":\n",
    "        print(\"discount is30%\")\n",
    "    elif purchase_product==\"d\"and having_product==\"b\"and condition==\"damazed\":    \n",
    "        print(\"discount is10%\")\n",
    "    elif purchase_product==\"d\"and having_product==\"b\"and condition==\"undamazed\":\n",
    "        print(\"discount is30%\")\n",
    "    else:\n",
    "        print(\"invalid\")\n",
    "        "
   ]
  },
  {
   "cell_type": "code",
   "execution_count": 19,
   "id": "d8783e8d",
   "metadata": {},
   "outputs": [
    {
     "name": "stdout",
     "output_type": "stream",
     "text": [
      "discount is10%\n"
     ]
    }
   ],
   "source": [
    "offer(\"a\",\"c\",\"damazed\")"
   ]
  },
  {
   "cell_type": "code",
   "execution_count": 8,
   "id": "88a25a3d",
   "metadata": {},
   "outputs": [
    {
     "ename": "IndentationError",
     "evalue": "unindent does not match any outer indentation level (<tokenize>, line 32)",
     "output_type": "error",
     "traceback": [
      "\u001b[1;36m  File \u001b[1;32m<tokenize>:32\u001b[1;36m\u001b[0m\n\u001b[1;33m    else:\u001b[0m\n\u001b[1;37m    ^\u001b[0m\n\u001b[1;31mIndentationError\u001b[0m\u001b[1;31m:\u001b[0m unindent does not match any outer indentation level\n"
     ]
    }
   ],
   "source": [
    "product=a\"\n",
    "exist=[]\n",
    "for existingproduct in exist:\n",
    "    print(\"existingproduct\",existingproduct)\n",
    "    if product==existingproduct:\n",
    "        dis=20%\n",
    "        print(\"existing product discount is 20%\")\n",
    "    else:\n",
    "        print(\"no discount\")\n",
    "        \n",
    "product=\"a\"\n",
    "existing=[\"b\",\"a\"]\n",
    "\n",
    "for existingproduct in exist:\n",
    "    print(\"existingproduct\",existingproduct)\n",
    "    if product==existingproduct:\n",
    "        dis=20%\n",
    "        print(\"existing product discount is 20%\")\n",
    "        \n",
    "    else:\n",
    "        print(\"discount is 20%\"\")\n",
    "              \n",
    "product=\"b\"\n",
    "existing=[]\n",
    "              \n",
    "for existingproduct in exist:\n",
    "    print(\"existingproduct\",existingproduct)\n",
    "    if product==existingproducg:\n",
    "        dis=20%\n",
    "        print(\"existing product discount is 20%\")\n",
    "              \n",
    "   else:\n",
    "       print(\"no discount\")\n",
    "              \n",
    "product=\"c\"\n",
    "existing=[\"c\",\"b\",\"a\"]              \n",
    "for existingproduct in existingproducnt:\n",
    "    print(\"existingproduct\"existingproduct)\n",
    "    if product==existingproduct:\n",
    "        dis=20%\n",
    "        print(\"existing product discount is 20%)\n",
    "    else:\n",
    "        print(\"no discount\")      \n",
    "product=\"d\"\n",
    "existing= [\"a\",\"c\",\"b\",\"a\"]\n",
    "for existingproduct in existingproduct:\n",
    "    print(\"existingproduct\",existingproduct)\n",
    "    if product==existingproduct:\n",
    "        dis=20%      \n",
    "        print(\"existing product discount is20%\")\n",
    "    else:\n",
    "        print(\"no discount\")               "
   ]
  },
  {
   "cell_type": "code",
   "execution_count": null,
   "id": "fce24fe9",
   "metadata": {},
   "outputs": [],
   "source": []
  },
  {
   "cell_type": "code",
   "execution_count": null,
   "id": "34a320c5",
   "metadata": {},
   "outputs": [],
   "source": []
  }
 ],
 "metadata": {
  "kernelspec": {
   "display_name": "Python 3 (ipykernel)",
   "language": "python",
   "name": "python3"
  },
  "language_info": {
   "codemirror_mode": {
    "name": "ipython",
    "version": 3
   },
   "file_extension": ".py",
   "mimetype": "text/x-python",
   "name": "python",
   "nbconvert_exporter": "python",
   "pygments_lexer": "ipython3",
   "version": "3.10.9"
  }
 },
 "nbformat": 4,
 "nbformat_minor": 5
}
