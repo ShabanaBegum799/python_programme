{
 "cells": [
  {
   "cell_type": "code",
   "execution_count": null,
   "id": "0f557346",
   "metadata": {},
   "outputs": [],
   "source": [
    "Create a list (friend_names) with your friend names (10 names)?"
   ]
  },
  {
   "cell_type": "code",
   "execution_count": 10,
   "id": "719dc0e1",
   "metadata": {},
   "outputs": [
    {
     "data": {
      "text/plain": [
       "['parveen',\n",
       " 'jayasri',\n",
       " 'durga',\n",
       " 'sushma',\n",
       " 'madhuri',\n",
       " 'shakeera',\n",
       " 'bhanu',\n",
       " 'nasheena']"
      ]
     },
     "execution_count": 10,
     "metadata": {},
     "output_type": "execute_result"
    }
   ],
   "source": [
    "list=[\"parveen\",\"jayasri\",\"durga\",\"sushma\",\"madhuri\",\"shakeera\",\"bhanu\",\"nasheena\"]\n",
    "list"
   ]
  },
  {
   "cell_type": "code",
   "execution_count": null,
   "id": "164f8c5d",
   "metadata": {},
   "outputs": [],
   "source": [
    "Create a tuple (family_members) with your family members?"
   ]
  },
  {
   "cell_type": "code",
   "execution_count": 6,
   "id": "0af0c969",
   "metadata": {},
   "outputs": [],
   "source": [
    "family_members=(\"mazeed\",\"zahurunnisa\",\"zareena\",\"saleem\",\"tasleem\",\"siraj\",\"farzana\",\"mobeena\")   "
   ]
  },
  {
   "cell_type": "code",
   "execution_count": 7,
   "id": "5daae429",
   "metadata": {},
   "outputs": [
    {
     "data": {
      "text/plain": [
       "('mazeed',\n",
       " 'zahurunnisa',\n",
       " 'zareena',\n",
       " 'saleem',\n",
       " 'tasleem',\n",
       " 'siraj',\n",
       " 'farzana',\n",
       " 'mobeena')"
      ]
     },
     "execution_count": 7,
     "metadata": {},
     "output_type": "execute_result"
    }
   ],
   "source": [
    "family_members"
   ]
  },
  {
   "cell_type": "code",
   "execution_count": null,
   "id": "df9c57e1",
   "metadata": {},
   "outputs": [],
   "source": [
    " Create a set (colours) with colour names(10 names)?"
   ]
  },
  {
   "cell_type": "code",
   "execution_count": 8,
   "id": "ef7331d8",
   "metadata": {},
   "outputs": [],
   "source": [
    "colours={\"red\",\"blace\",\"blue\",\"white\",\"orange\",\"yellow\",\"pink\"}"
   ]
  },
  {
   "cell_type": "code",
   "execution_count": 9,
   "id": "50cc90b4",
   "metadata": {},
   "outputs": [
    {
     "data": {
      "text/plain": [
       "{'blace', 'blue', 'orange', 'pink', 'red', 'white', 'yellow'}"
      ]
     },
     "execution_count": 9,
     "metadata": {},
     "output_type": "execute_result"
    }
   ],
   "source": [
    "colours"
   ]
  },
  {
   "cell_type": "code",
   "execution_count": null,
   "id": "9d26774d",
   "metadata": {},
   "outputs": [],
   "source": [
    "month_names=[1,9,10,5,3,2,7,8,6,4] , sort the list--> write a program?\n",
    "expected output: month_names=[1,2,3,4,5,6,7,8,9,10]"
   ]
  },
  {
   "cell_type": "code",
   "execution_count": 2,
   "id": "62ace4bb",
   "metadata": {},
   "outputs": [],
   "source": [
    "month_names={1,9,10,5,3,2,7,8,6,4}"
   ]
  },
  {
   "cell_type": "code",
   "execution_count": 3,
   "id": "394902f8",
   "metadata": {},
   "outputs": [
    {
     "data": {
      "text/plain": [
       "{1, 2, 3, 4, 5, 6, 7, 8, 9, 10}"
      ]
     },
     "execution_count": 3,
     "metadata": {},
     "output_type": "execute_result"
    }
   ],
   "source": [
    "month_names"
   ]
  },
  {
   "cell_type": "code",
   "execution_count": null,
   "id": "1c2fa369",
   "metadata": {},
   "outputs": [],
   "source": [
    "tollywood_heros=[\"chiru\", \"balaya\", \"nag\",\"venky\",\"powerstar\",\"superstar\",\"ntr\",\"ramcharan\"], write a program?\n",
    "expected output:tollywood_heros=[\"chiranjeevi\", \"balakrishan\", \"nagarjuna\",\"venky\",\"pawan kalyan\",\"maheshbabu\",\"NT rama rao\",\"ramcharan\"]"
   ]
  },
  {
   "cell_type": "code",
   "execution_count": 26,
   "id": "0e8af68f",
   "metadata": {},
   "outputs": [],
   "source": [
    "tollywood_heros={\"chiranjeevi\",\"balakrishna\",\"nagarjuna\",\"venky\",\"pawan kalyan\",\"maheshbabu\",\"NT rama rao\",\"ramcharan\"}"
   ]
  },
  {
   "cell_type": "code",
   "execution_count": 10,
   "id": "ff0fc1f6",
   "metadata": {},
   "outputs": [
    {
     "data": {
      "text/plain": [
       "{'NT rama rao',\n",
       " 'balakrishna',\n",
       " 'chiranjeevi',\n",
       " 'maheshbabu',\n",
       " 'nagarjuna',\n",
       " 'pawan kalyan',\n",
       " 'ramcharan',\n",
       " 'venky'}"
      ]
     },
     "execution_count": 10,
     "metadata": {},
     "output_type": "execute_result"
    }
   ],
   "source": [
    "tollywood_heros"
   ]
  },
  {
   "cell_type": "code",
   "execution_count": 27,
   "id": "0b716fcf",
   "metadata": {},
   "outputs": [],
   "source": [
    "tollywood_heros=[\"chiru\", \"balaya\", \"nag\",\"venky\",\"powerstar\",\"superstar\",\"ntr\",\"ramcharan\"]"
   ]
  },
  {
   "cell_type": "code",
   "execution_count": 18,
   "id": "8ce89edb",
   "metadata": {},
   "outputs": [
    {
     "data": {
      "text/plain": [
       "['chiranjeevi',\n",
       " 'balaya',\n",
       " 'nag',\n",
       " 'venky',\n",
       " 'powerstar',\n",
       " 'superstar',\n",
       " 'ntr',\n",
       " 'ramcharan']"
      ]
     },
     "execution_count": 18,
     "metadata": {},
     "output_type": "execute_result"
    }
   ],
   "source": [
    "tollywood_heros[0]=\"chiranjeevi\"\n",
    "tollywood_heros"
   ]
  },
  {
   "cell_type": "code",
   "execution_count": 19,
   "id": "e52ed3bf",
   "metadata": {},
   "outputs": [
    {
     "data": {
      "text/plain": [
       "['chiranjeevi',\n",
       " 'balakrishna',\n",
       " 'nag',\n",
       " 'venky',\n",
       " 'powerstar',\n",
       " 'superstar',\n",
       " 'ntr',\n",
       " 'ramcharan']"
      ]
     },
     "execution_count": 19,
     "metadata": {},
     "output_type": "execute_result"
    }
   ],
   "source": [
    "tollywood_heros[1]=\"balakrishna\"\n",
    "tollywood_heros"
   ]
  },
  {
   "cell_type": "code",
   "execution_count": 20,
   "id": "5370ccf3",
   "metadata": {},
   "outputs": [
    {
     "data": {
      "text/plain": [
       "['chiranjeevi',\n",
       " 'balakrishna',\n",
       " 'nagarjuna',\n",
       " 'venky',\n",
       " 'powerstar',\n",
       " 'superstar',\n",
       " 'ntr',\n",
       " 'ramcharan']"
      ]
     },
     "execution_count": 20,
     "metadata": {},
     "output_type": "execute_result"
    }
   ],
   "source": [
    "tollywood_heros[2]=\"nagarjuna\"\n",
    "tollywood_heros"
   ]
  },
  {
   "cell_type": "code",
   "execution_count": 23,
   "id": "d7333453",
   "metadata": {},
   "outputs": [
    {
     "data": {
      "text/plain": [
       "['chiranjeevi',\n",
       " 'balakrishna',\n",
       " 'nagarjuna',\n",
       " 'venky',\n",
       " 'powankalyan',\n",
       " 'superstar',\n",
       " 'ntr',\n",
       " 'ramcharan']"
      ]
     },
     "execution_count": 23,
     "metadata": {},
     "output_type": "execute_result"
    }
   ],
   "source": [
    "tollywood_heros[4]=\"powankalyan\"\n",
    "tollywood_heros"
   ]
  },
  {
   "cell_type": "code",
   "execution_count": 24,
   "id": "155a0105",
   "metadata": {},
   "outputs": [
    {
     "data": {
      "text/plain": [
       "['chiranjeevi',\n",
       " 'balakrishna',\n",
       " 'nagarjuna',\n",
       " 'venky',\n",
       " 'powankalyan',\n",
       " 'maheshbabu',\n",
       " 'ntr',\n",
       " 'ramcharan']"
      ]
     },
     "execution_count": 24,
     "metadata": {},
     "output_type": "execute_result"
    }
   ],
   "source": [
    "tollywood_heros[5]=\"maheshbabu\"\n",
    "tollywood_heros"
   ]
  },
  {
   "cell_type": "code",
   "execution_count": 25,
   "id": "042079a2",
   "metadata": {},
   "outputs": [
    {
     "data": {
      "text/plain": [
       "['chiranjeevi',\n",
       " 'balakrishna',\n",
       " 'nagarjuna',\n",
       " 'venky',\n",
       " 'powankalyan',\n",
       " 'maheshbabu',\n",
       " 'NT ramarao',\n",
       " 'ramcharan']"
      ]
     },
     "execution_count": 25,
     "metadata": {},
     "output_type": "execute_result"
    }
   ],
   "source": [
    "tollywood_heros[6]=\"NT ramarao\"\n",
    "tollywood_heros"
   ]
  },
  {
   "cell_type": "code",
   "execution_count": null,
   "id": "fe56f1be",
   "metadata": {},
   "outputs": [],
   "source": [
    "s?bollywood_heros=[\"sharukkhan\", \"salmankhan\", \"salmankhan\",\"amirkhan\",\"HrithikRoshan\",\"Amitabh Bachchan\",\"Akshay Kumar\",\"amirkhan\"], write a program to remove duplicate"
   ]
  },
  {
   "cell_type": "code",
   "execution_count": 2,
   "id": "bbd9bfd1",
   "metadata": {},
   "outputs": [],
   "source": [
    "bollywood_heros={\"sharukkhan\", \"salmankhan\", \"salmankhan\",\"amirkhan\",\"HrithikRoshan\",\"Amitabh Bachchan\",\"Akshay Kumar\",\"amirkhan\"}"
   ]
  },
  {
   "cell_type": "code",
   "execution_count": 3,
   "id": "25857b36",
   "metadata": {},
   "outputs": [
    {
     "data": {
      "text/plain": [
       "{'Akshay Kumar',\n",
       " 'Amitabh Bachchan',\n",
       " 'HrithikRoshan',\n",
       " 'amirkhan',\n",
       " 'salmankhan',\n",
       " 'sharukkhan'}"
      ]
     },
     "execution_count": 3,
     "metadata": {},
     "output_type": "execute_result"
    }
   ],
   "source": [
    "bollywood_heros"
   ]
  },
  {
   "cell_type": "code",
   "execution_count": null,
   "id": "59882e82",
   "metadata": {},
   "outputs": [],
   "source": [
    " breakfast_items=[\"upma\",\"dosa\",\"idly\",\"puri\",\"punugulu\",\"roti\",\"chapathi\", \"parota\",\"mysoor baji\",\"minapa baji\"], print your favorite breakfast itme?\n",
    "example: My Favorite breakfast time is mysoor baji"
   ]
  },
  {
   "cell_type": "code",
   "execution_count": 1,
   "id": "56b08ccd",
   "metadata": {},
   "outputs": [],
   "source": [
    "breakfast_items=[\"upma\",\"dosa\",\"idly\",\"puri\",\"punugulu\",\"roti\",\"chapathi\",\"parota\",\"mysoor baji\",\"minapa baji\"]"
   ]
  },
  {
   "cell_type": "code",
   "execution_count": 8,
   "id": "da89fbba",
   "metadata": {},
   "outputs": [
    {
     "name": "stdout",
     "output_type": "stream",
     "text": [
      "my favorite breakfast item is puri\n"
     ]
    }
   ],
   "source": [
    "print(\"my favorite breakfast item is puri\")"
   ]
  },
  {
   "cell_type": "code",
   "execution_count": 7,
   "id": "39afe07b",
   "metadata": {},
   "outputs": [
    {
     "name": "stdout",
     "output_type": "stream",
     "text": [
      "my favorite breakfast_items is puri\n"
     ]
    }
   ],
   "source": [
    "print(\"my favorite break fast_items is\",breakfast_items[3])"
   ]
  },
  {
   "cell_type": "code",
   "execution_count": null,
   "id": "9850bc7f",
   "metadata": {},
   "outputs": [],
   "source": [
    "1. Create a 10 variables with your friend names?"
   ]
  },
  {
   "cell_type": "code",
   "execution_count": 1,
   "id": "c6127faf",
   "metadata": {},
   "outputs": [],
   "source": [
    "friend_name=[\"parveen\",\"jayasri\",\"durga\",\"sushma\",\"madhuri\",\"shakeera\",\"bhanu\",\"nasheena\"]"
   ]
  },
  {
   "cell_type": "code",
   "execution_count": 2,
   "id": "83b6db84",
   "metadata": {},
   "outputs": [
    {
     "data": {
      "text/plain": [
       "['parveen',\n",
       " 'jayasri',\n",
       " 'durga',\n",
       " 'sushma',\n",
       " 'madhuri',\n",
       " 'shakeera',\n",
       " 'bhanu',\n",
       " 'nasheena']"
      ]
     },
     "execution_count": 2,
     "metadata": {},
     "output_type": "execute_result"
    }
   ],
   "source": [
    "friend_name"
   ]
  },
  {
   "cell_type": "code",
   "execution_count": null,
   "id": "0ffd5579",
   "metadata": {},
   "outputs": [],
   "source": [
    "Create a 10 variables with your family member names?"
   ]
  },
  {
   "cell_type": "code",
   "execution_count": 3,
   "id": "0c2fd354",
   "metadata": {},
   "outputs": [],
   "source": [
    "family_members=[\"mazeed\",\"zahurunnisa\",\"zareena\",\"saleem\",\"tasleem\",\"siraj\",\"farzana\",\"mobeena\"]"
   ]
  },
  {
   "cell_type": "code",
   "execution_count": 4,
   "id": "10dd3d1b",
   "metadata": {},
   "outputs": [
    {
     "data": {
      "text/plain": [
       "['mazeed',\n",
       " 'zahurunnisa',\n",
       " 'zareena',\n",
       " 'saleem',\n",
       " 'tasleem',\n",
       " 'siraj',\n",
       " 'farzana',\n",
       " 'mobeena']"
      ]
     },
     "execution_count": 4,
     "metadata": {},
     "output_type": "execute_result"
    }
   ],
   "source": [
    "family_members"
   ]
  },
  {
   "cell_type": "code",
   "execution_count": null,
   "id": "5d75018e",
   "metadata": {},
   "outputs": [],
   "source": [
    " Create a 10 variables with favorite food names?"
   ]
  },
  {
   "cell_type": "code",
   "execution_count": 5,
   "id": "cc058511",
   "metadata": {},
   "outputs": [],
   "source": [
    "favorite_foods=[\"chickenbiryani\",\"muttonbiryani\",\"friderice\",\"manchuriya\",\"samosa\",\"mirchibajji\"]"
   ]
  },
  {
   "cell_type": "code",
   "execution_count": 6,
   "id": "f4ca88b3",
   "metadata": {},
   "outputs": [
    {
     "data": {
      "text/plain": [
       "['chickenbiryani',\n",
       " 'muttonbiryani',\n",
       " 'friderice',\n",
       " 'manchuriya',\n",
       " 'samosa',\n",
       " 'mirchibajji']"
      ]
     },
     "execution_count": 6,
     "metadata": {},
     "output_type": "execute_result"
    }
   ],
   "source": [
    "favorite_foods"
   ]
  },
  {
   "cell_type": "code",
   "execution_count": null,
   "id": "9dc38602",
   "metadata": {},
   "outputs": [],
   "source": [
    "Create a 10 variables with colour  names?"
   ]
  },
  {
   "cell_type": "code",
   "execution_count": 9,
   "id": "238ae2e1",
   "metadata": {},
   "outputs": [
    {
     "data": {
      "text/plain": [
       "['red', 'blace', 'blue', 'white', 'orange', 'yellow', 'pink']"
      ]
     },
     "execution_count": 9,
     "metadata": {},
     "output_type": "execute_result"
    }
   ],
   "source": [
    "colour_names=[\"red\",\"blace\",\"blue\",\"white\",\"orange\",\"yellow\",\"pink\"]\n",
    "colour_names"
   ]
  },
  {
   "cell_type": "code",
   "execution_count": null,
   "id": "52512e7a",
   "metadata": {},
   "outputs": [],
   "source": [
    "5. Create a 12 variables with month  names?"
   ]
  },
  {
   "cell_type": "code",
   "execution_count": 11,
   "id": "9b897f77",
   "metadata": {},
   "outputs": [
    {
     "data": {
      "text/plain": [
       "['january',\n",
       " 'february',\n",
       " 'march',\n",
       " 'april',\n",
       " 'may',\n",
       " 'june',\n",
       " 'july',\n",
       " 'august',\n",
       " 'september',\n",
       " 'october',\n",
       " 'november',\n",
       " 'december']"
      ]
     },
     "execution_count": 11,
     "metadata": {},
     "output_type": "execute_result"
    }
   ],
   "source": [
    "month_names=[\"january\",\"february\",\"march\",\"april\",\"may\",\"june\",\"july\",\"august\",\"september\",\"october\",\"november\",\"december\"]\n",
    "month_names"
   ]
  },
  {
   "cell_type": "code",
   "execution_count": null,
   "id": "126b6dc3",
   "metadata": {},
   "outputs": [],
   "source": [
    "6. Create a 10 variables with game  names?"
   ]
  },
  {
   "cell_type": "code",
   "execution_count": 14,
   "id": "fb3c2ef6",
   "metadata": {},
   "outputs": [
    {
     "data": {
      "text/plain": [
       "['cricket', 'tennis', 'kabaddi', 'vallyball', 'skipping', 'carroms']"
      ]
     },
     "execution_count": 14,
     "metadata": {},
     "output_type": "execute_result"
    }
   ],
   "source": [
    "game_names=[\"cricket\",\"tennis\",\"kabaddi\",\"vallyball\",\"skipping\",\"carroms\"]\n",
    "game_names"
   ]
  },
  {
   "cell_type": "code",
   "execution_count": null,
   "id": "31a9453d",
   "metadata": {},
   "outputs": [],
   "source": [
    "7. Create a 10 variables with city  names?"
   ]
  },
  {
   "cell_type": "code",
   "execution_count": 16,
   "id": "18069ee6",
   "metadata": {},
   "outputs": [
    {
     "data": {
      "text/plain": [
       "['delhi',\n",
       " 'mumbai',\n",
       " 'kalkata',\n",
       " 'bengaluru',\n",
       " 'hyderabad',\n",
       " 'ahmadabad',\n",
       " 'chennai']"
      ]
     },
     "execution_count": 16,
     "metadata": {},
     "output_type": "execute_result"
    }
   ],
   "source": [
    "city_names=[\"delhi\",\"mumbai\",\"kalkata\",\"bengaluru\",\"hyderabad\",\"ahmadabad\",\"chennai\"]\n",
    "city_names"
   ]
  },
  {
   "cell_type": "code",
   "execution_count": null,
   "id": "2d0714d3",
   "metadata": {},
   "outputs": [],
   "source": []
  },
  {
   "cell_type": "code",
   "execution_count": null,
   "id": "40a71b8a",
   "metadata": {},
   "outputs": [],
   "source": []
  },
  {
   "cell_type": "code",
   "execution_count": null,
   "id": "3ecb3382",
   "metadata": {},
   "outputs": [],
   "source": []
  },
  {
   "cell_type": "code",
   "execution_count": null,
   "id": "62832600",
   "metadata": {},
   "outputs": [],
   "source": []
  }
 ],
 "metadata": {
  "kernelspec": {
   "display_name": "Python 3 (ipykernel)",
   "language": "python",
   "name": "python3"
  },
  "language_info": {
   "codemirror_mode": {
    "name": "ipython",
    "version": 3
   },
   "file_extension": ".py",
   "mimetype": "text/x-python",
   "name": "python",
   "nbconvert_exporter": "python",
   "pygments_lexer": "ipython3",
   "version": "3.10.9"
  }
 },
 "nbformat": 4,
 "nbformat_minor": 5
}
