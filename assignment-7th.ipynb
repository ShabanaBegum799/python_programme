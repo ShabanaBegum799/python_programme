{
 "cells": [
  {
   "cell_type": "code",
   "execution_count": null,
   "id": "e59048cf",
   "metadata": {},
   "outputs": [],
   "source": [
    "credit card offer.\n",
    " if your salary is less than 10000.  credit limit 10 times of your salary. \n",
    " if your salary is 10000 to 30000.  Credit limit is 20 time of your salary.\n",
    " if your salary is more than 30000.  Credit limit is 30 times of your salary.\n",
    " క్రెడిట్ కార్డ్ ఆఫర్. \n",
    " మీ జీతం 10000 కంటే తక్కువ ఉంటే. క్రెడిట్ పరిమితి మీ జీతంకి 10 రెట్లు. \n",
    " మీ జీతం 10000 నుండి 30000 వరకు ఉంటే. క్రెడిట్ పరిమితి మీ జీతంలో 20 రెట్లు .\n",
    " మీ జీతం 30000 కంటే ఎక్కువ ఉంటే క్రెడిట్ పరిమితి మీ జీతం కంటే 30 రెట్లు.\n"
   ]
  },
  {
   "cell_type": "code",
   "execution_count": 16,
   "id": "33c4e069",
   "metadata": {},
   "outputs": [],
   "source": [
    "def creditcard_offer(credit_limit,salary):\n",
    "    if salary<10000:\n",
    "        credit_limit=salary*10\n",
    "    elif salary>=10000 and salary<=30000:\n",
    "        credit_limit=salary*20\n",
    "    elif salary>30000:\n",
    "        credit_limit=salary*30\n",
    "    return credit_limit   "
   ]
  },
  {
   "cell_type": "code",
   "execution_count": null,
   "id": "afb26b32",
   "metadata": {},
   "outputs": [],
   "source": []
  },
  {
   "cell_type": "code",
   "execution_count": 19,
   "id": "d5462103",
   "metadata": {},
   "outputs": [
    {
     "data": {
      "text/plain": [
       "90000"
      ]
     },
     "execution_count": 19,
     "metadata": {},
     "output_type": "execute_result"
    }
   ],
   "source": [
    "creditcard_offer(10,9000)"
   ]
  },
  {
   "cell_type": "code",
   "execution_count": 24,
   "id": "46b7f1e7",
   "metadata": {},
   "outputs": [
    {
     "data": {
      "text/plain": [
       "400000"
      ]
     },
     "execution_count": 24,
     "metadata": {},
     "output_type": "execute_result"
    }
   ],
   "source": [
    "creditcard_offer(30,20000)"
   ]
  },
  {
   "cell_type": "code",
   "execution_count": null,
   "id": "0c965448",
   "metadata": {},
   "outputs": [],
   "source": [
    "DMart discount offer. \n",
    " if your purchase amount is less than 20000. discount is 20%.\n",
    "if your purchase amount is 20000 to 40000. discount is 30%. \n",
    "if your purchase amount is more than 50000. discount is 40%.\n",
    "\n",
    "DMart తగ్గింపు ఆఫర్. మీ కొనుగోలు మొత్తం 20000 కంటే తక్కువ ఉంటే. తగ్గింపు 20%.\n",
    "మీ కొనుగోలు మొత్తం 20000 నుండి 40000 వరకు ఉంటే. తగ్గింపు 30%. \n",
    "మీ కొనుగోలు మొత్తం 50000 కంటే ఎక్కువ ఉంటే. తగ్గింపు 40%.\n"
   ]
  },
  {
   "cell_type": "code",
   "execution_count": 12,
   "id": "8a948dc0",
   "metadata": {},
   "outputs": [],
   "source": [
    "def dmart_discount_offer(purchase_amount,discount):\n",
    "    if purchase_amount<20000:\n",
    "        discount=purchase_amount*.20\n",
    "    elif purchase_amount>=20000 and purchase_amount<=40000:\n",
    "        discount=purchase_amount*.30\n",
    "    else:\n",
    "        purchase_amount>50000\n",
    "        discount=purchase_amount*.40\n",
    "    return discount    "
   ]
  },
  {
   "cell_type": "code",
   "execution_count": 15,
   "id": "d00f463b",
   "metadata": {},
   "outputs": [
    {
     "data": {
      "text/plain": [
       "9000.0"
      ]
     },
     "execution_count": 15,
     "metadata": {},
     "output_type": "execute_result"
    }
   ],
   "source": [
    "dmart_discount_offer(30000,10)"
   ]
  },
  {
   "cell_type": "code",
   "execution_count": null,
   "id": "e61a93a8",
   "metadata": {},
   "outputs": [],
   "source": [
    "Amazom online offer. \n",
    "if product is electoric type then 20% discount. \n",
    "if product is cloth type then 30% discount. \n",
    "if product is footware then 40% discount.\n",
    "Amazom ఆన్‌లైన్ ఆఫర్.\n",
    " ఉత్పత్తి ఎలక్టోరిక్ రకం అయితే 20% తగ్గింపు. \n",
    " ఉత్పత్తి వస్త్రం రకం అయితే 30% తగ్గింపు. \n",
    " ఉత్పత్తి ఫుట్‌వేర్ అయితే 40% తగ్గింపు."
   ]
  },
  {
   "cell_type": "code",
   "execution_count": 1,
   "id": "24aae936",
   "metadata": {},
   "outputs": [],
   "source": [
    "def amazon_online_offer(product_type,discount,amount):\n",
    "    if product_type==\"electronic\":\n",
    "        discount=amount*.20\n",
    "    elif product_type==\"cloth\":\n",
    "        discount=amount*.30\n",
    "    else:\n",
    "        product_type==\"footware\"\n",
    "        discount=amount*.40\n",
    "    return(discount)"
   ]
  },
  {
   "cell_type": "code",
   "execution_count": 2,
   "id": "c8a18e8d",
   "metadata": {},
   "outputs": [
    {
     "data": {
      "text/plain": [
       "2000.0"
      ]
     },
     "execution_count": 2,
     "metadata": {},
     "output_type": "execute_result"
    }
   ],
   "source": [
    "amazon_online_offer(\"electronic\",20,10000)"
   ]
  },
  {
   "cell_type": "code",
   "execution_count": 21,
   "id": "a75c0940",
   "metadata": {},
   "outputs": [
    {
     "data": {
      "text/plain": [
       "1500.0"
      ]
     },
     "execution_count": 21,
     "metadata": {},
     "output_type": "execute_result"
    }
   ],
   "source": [
    "amazon_online_offer(\"cloth\",30,5000)"
   ]
  },
  {
   "cell_type": "code",
   "execution_count": 2,
   "id": "3f4feb23",
   "metadata": {},
   "outputs": [
    {
     "data": {
      "text/plain": [
       "1600.0"
      ]
     },
     "execution_count": 2,
     "metadata": {},
     "output_type": "execute_result"
    }
   ],
   "source": [
    "amazon_online_offer(\"footware\",40,4000)"
   ]
  },
  {
   "cell_type": "code",
   "execution_count": null,
   "id": "ae756d4d",
   "metadata": {},
   "outputs": [],
   "source": []
  },
  {
   "cell_type": "code",
   "execution_count": null,
   "id": "07e6a7da",
   "metadata": {},
   "outputs": [],
   "source": [
    "def creditcard_offer(credit_limit,salary):\n",
    "    if salary<10000:\n",
    "        credit_limit=salary*10\n",
    "    elif salary>=10000 and salary<=30000:\n",
    "        credit_limit=salary*20\n",
    "    elif salary>30000:\n",
    "        credit_limit=salary*30\n",
    "    return credit_limit   "
   ]
  },
  {
   "cell_type": "code",
   "execution_count": null,
   "id": "0b9fcf8e",
   "metadata": {},
   "outputs": [],
   "source": [
    "def items(\"chic\")"
   ]
  },
  {
   "cell_type": "code",
   "execution_count": null,
   "id": "eb540dce",
   "metadata": {},
   "outputs": [],
   "source": []
  },
  {
   "cell_type": "code",
   "execution_count": null,
   "id": "0ae0ab02",
   "metadata": {},
   "outputs": [],
   "source": []
  },
  {
   "cell_type": "code",
   "execution_count": null,
   "id": "9e139935",
   "metadata": {},
   "outputs": [],
   "source": []
  },
  {
   "cell_type": "code",
   "execution_count": null,
   "id": "cfa0ce7c",
   "metadata": {},
   "outputs": [],
   "source": []
  }
 ],
 "metadata": {
  "kernelspec": {
   "display_name": "Python 3 (ipykernel)",
   "language": "python",
   "name": "python3"
  },
  "language_info": {
   "codemirror_mode": {
    "name": "ipython",
    "version": 3
   },
   "file_extension": ".py",
   "mimetype": "text/x-python",
   "name": "python",
   "nbconvert_exporter": "python",
   "pygments_lexer": "ipython3",
   "version": "3.10.9"
  }
 },
 "nbformat": 4,
 "nbformat_minor": 5
}
