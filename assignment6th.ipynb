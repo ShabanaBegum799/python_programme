{
 "cells": [
  {
   "cell_type": "code",
   "execution_count": null,
   "id": "aba024d2",
   "metadata": {},
   "outputs": [],
   "source": [
    "## Create a list(friend_names) with your friends names(atleaste 10 names)?\n",
    "print all names with in loop \n",
    "Expected Output: my friend name is \"ravi\"\n",
    "\t\t     my friend name is \"shanker\"\n"
   ]
  },
  {
   "cell_type": "code",
   "execution_count": 1,
   "id": "891c7fd1",
   "metadata": {},
   "outputs": [
    {
     "name": "stdout",
     "output_type": "stream",
     "text": [
      "my friends name is shakeera\n",
      "my friends name is anusha\n",
      "my friends name is madhuri\n",
      "my friends name is aruna\n",
      "my friends name is nasheena\n",
      "my friends name is jayasri\n",
      "my friends name is sushma\n"
     ]
    }
   ],
   "source": [
    "lst=[\"shakeera\",\"anusha\",\"madhuri\",\"aruna\",\"nasheena\",\"jayasri\",\"sushma\"]\n",
    "for p in lst:\n",
    "    print(\"my friends name is\",p)"
   ]
  },
  {
   "cell_type": "code",
   "execution_count": null,
   "id": "5df7aebe",
   "metadata": {},
   "outputs": [],
   "source": [
    "###Create a list(family_members) with your family members names(atleaste 10 names)?\n",
    "print all names with in loop "
   ]
  },
  {
   "cell_type": "code",
   "execution_count": 1,
   "id": "b7f3faaa",
   "metadata": {},
   "outputs": [
    {
     "name": "stdout",
     "output_type": "stream",
     "text": [
      "my family member is kowser\n",
      "my family member is zareena\n",
      "my family member is subhani\n",
      "my family member is mobeena\n",
      "my family member is siraj\n",
      "my family member is safiya\n",
      "my family member is afifa\n"
     ]
    }
   ],
   "source": [
    "lst=[\"kowser\",\"zareena\",\"subhani\",\"mobeena\",\"siraj\",\"safiya\",\"afifa\"]\n",
    "for p in lst:\n",
    "    print(\"my family member is\",p)"
   ]
  },
  {
   "cell_type": "code",
   "execution_count": null,
   "id": "7929cd23",
   "metadata": {},
   "outputs": [],
   "source": [
    "### Create a list(food_names) with your favorite food names(atleaste 10 names only veg)?\n",
    "print all names with in loop "
   ]
  },
  {
   "cell_type": "code",
   "execution_count": 3,
   "id": "aa6cf7dd",
   "metadata": {},
   "outputs": [
    {
     "name": "stdout",
     "output_type": "stream",
     "text": [
      "my favorate food is chat\n",
      "my favorate food is noodles\n",
      "my favorate food is rasam\n",
      "my favorate food is panipuri\n",
      "my favorate food is mirchi_bajji\n"
     ]
    }
   ],
   "source": [
    "lst=[\"chat\",\"noodles\",\"rasam\",\"panipuri\",\"mirchi_bajji\"]\n",
    "for p in lst:\n",
    "    print(\"my favorate food is\",p)"
   ]
  },
  {
   "cell_type": "code",
   "execution_count": null,
   "id": "f4605d03",
   "metadata": {},
   "outputs": [],
   "source": [
    "###Create a tuple(food_names) with your favorite food names(atleaste 10 names only nonveg)?\n",
    "print all names with in loop "
   ]
  },
  {
   "cell_type": "code",
   "execution_count": 1,
   "id": "ef787a13",
   "metadata": {},
   "outputs": [
    {
     "name": "stdout",
     "output_type": "stream",
     "text": [
      "my favorate food names is mutton\n",
      "my favorate food names is chicken\n",
      "my favorate food names is fish\n",
      "my favorate food names is prawns\n"
     ]
    }
   ],
   "source": [
    "lst=(\"mutton\",\"chicken\",\"fish\",\"prawns\")\n",
    "for p in lst:\n",
    "    print(\"my favorate food names is\",p)"
   ]
  },
  {
   "cell_type": "code",
   "execution_count": null,
   "id": "0e7cb4b3",
   "metadata": {},
   "outputs": [],
   "source": [
    " ###Create a set(colour_names) with your colour names(atleaste 10 names)?\n",
    "print all names with in loop "
   ]
  },
  {
   "cell_type": "code",
   "execution_count": 2,
   "id": "00e60168",
   "metadata": {},
   "outputs": [
    {
     "name": "stdout",
     "output_type": "stream",
     "text": [
      "colours name is red\n",
      "colours name is yellow\n",
      "colours name is orange\n",
      "colours name is black\n",
      "colours name is blue\n",
      "colours name is pink\n",
      "colours name is white\n"
     ]
    }
   ],
   "source": [
    "lst={\"red\",\"blue\",\"black\",\"white\",\"yellow\",\"pink\",\"orange\"}\n",
    "for p in lst:\n",
    "    print(\"colours name is\",p)"
   ]
  },
  {
   "cell_type": "code",
   "execution_count": null,
   "id": "46434ef8",
   "metadata": {},
   "outputs": [],
   "source": [
    "### Create a list(month_names) with your month names(atleaste 10 names)?\n",
    "print all names with in loop "
   ]
  },
  {
   "cell_type": "code",
   "execution_count": 7,
   "id": "9871fc46",
   "metadata": {},
   "outputs": [
    {
     "name": "stdout",
     "output_type": "stream",
     "text": [
      "all month names is january\n",
      "all month names is february\n",
      "all month names is march\n",
      "all month names is april\n",
      "all month names is may\n",
      "all month names is june\n",
      "all month names is july\n",
      "all month names is agust\n",
      "all month names is september\n",
      "all month names is october\n",
      "all month names is november\n",
      "all month names is december\n"
     ]
    }
   ],
   "source": [
    "lst=[\"january\",\"february\",\"march\",\"april\",\"may\",\"june\",\"july\",\"agust\",\"september\",\"october\",\"november\",\"december\"]\n",
    "for p in lst:\n",
    "    print(\"all month names is\",p)"
   ]
  },
  {
   "cell_type": "code",
   "execution_count": null,
   "id": "5cc98bee",
   "metadata": {},
   "outputs": [],
   "source": [
    "###print 9th table (1 rto 90)"
   ]
  },
  {
   "cell_type": "code",
   "execution_count": 10,
   "id": "9442bfc2",
   "metadata": {},
   "outputs": [
    {
     "name": "stdout",
     "output_type": "stream",
     "text": [
      "0\n",
      "9\n",
      "18\n",
      "27\n",
      "36\n",
      "45\n",
      "54\n",
      "63\n",
      "72\n",
      "81\n"
     ]
    }
   ],
   "source": [
    "for p in range(0,90,9):\n",
    "    print(p)"
   ]
  },
  {
   "cell_type": "code",
   "execution_count": null,
   "id": "033c91d6",
   "metadata": {},
   "outputs": [],
   "source": [
    "###print 12th table (1 rto 120)"
   ]
  },
  {
   "cell_type": "code",
   "execution_count": 11,
   "id": "e45e2a36",
   "metadata": {},
   "outputs": [
    {
     "name": "stdout",
     "output_type": "stream",
     "text": [
      "0\n",
      "12\n",
      "24\n",
      "36\n",
      "48\n",
      "60\n",
      "72\n",
      "84\n",
      "96\n",
      "108\n"
     ]
    }
   ],
   "source": [
    "for p in range (0,120,12):\n",
    "    print(p)\n"
   ]
  }
 ],
 "metadata": {
  "kernelspec": {
   "display_name": "Python 3 (ipykernel)",
   "language": "python",
   "name": "python3"
  },
  "language_info": {
   "codemirror_mode": {
    "name": "ipython",
    "version": 3
   },
   "file_extension": ".py",
   "mimetype": "text/x-python",
   "name": "python",
   "nbconvert_exporter": "python",
   "pygments_lexer": "ipython3",
   "version": "3.10.9"
  }
 },
 "nbformat": 4,
 "nbformat_minor": 5
}
