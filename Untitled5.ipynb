{
 "cells": [
  {
   "cell_type": "code",
   "execution_count": 11,
   "id": "1d6cf4b4",
   "metadata": {},
   "outputs": [],
   "source": [
    "def restuarant(item,varaity):\n",
    "    if item==\"chicken\":\n",
    "        if varaity==\"fry\":\n",
    "            print(\"available\")\n",
    "        elif varaity==\"gravy\":\n",
    "            print(\"available\")\n",
    "    elif item ==\"mutton\":\n",
    "        if varaity==\"fry\":\n",
    "            print(\"available\")\n",
    "    elif varaity==\"gravy\":\n",
    "        print(\"available\")\n",
    "    else:\n",
    "        print (\"not available\")"
   ]
  },
  {
   "cell_type": "code",
   "execution_count": 12,
   "id": "ded2995f",
   "metadata": {},
   "outputs": [
    {
     "name": "stdout",
     "output_type": "stream",
     "text": [
      "available\n"
     ]
    }
   ],
   "source": [
    "restuarant(\"chicken\",\"fry\")"
   ]
  },
  {
   "cell_type": "code",
   "execution_count": 13,
   "id": "2061f40e",
   "metadata": {},
   "outputs": [
    {
     "name": "stdout",
     "output_type": "stream",
     "text": [
      "not available\n"
     ]
    }
   ],
   "source": [
    "restuarant(\"cabbage\",\"curry\")"
   ]
  },
  {
   "cell_type": "code",
   "execution_count": 18,
   "id": "58a1935a",
   "metadata": {},
   "outputs": [],
   "source": [
    "def restuarant(item,varaity):\n",
    "    if item==\"ladysfinger\":\n",
    "        if varaity==\"fry\":\n",
    "            print(\"available\")\n",
    "        elif varaity==\"gravy\":\n",
    "            print(\"available\")\n",
    "    elif item ==\"brinjal\":\n",
    "        if varaity==\"fry\":\n",
    "            print(\"available\")\n",
    "    elif varaity==\"gravy\":\n",
    "        print(\"available\")\n",
    "    else:\n",
    "        print (\"not available\")"
   ]
  },
  {
   "cell_type": "code",
   "execution_count": 19,
   "id": "9c8cb656",
   "metadata": {},
   "outputs": [
    {
     "name": "stdout",
     "output_type": "stream",
     "text": [
      "available\n"
     ]
    }
   ],
   "source": [
    "restuarant(\"ladysfinger\",\"fry\")"
   ]
  },
  {
   "cell_type": "code",
   "execution_count": 20,
   "id": "10753a3c",
   "metadata": {},
   "outputs": [
    {
     "name": "stdout",
     "output_type": "stream",
     "text": [
      "not available\n"
     ]
    }
   ],
   "source": [
    "restuarant(\"mutton\",\"fry\")"
   ]
  }
 ],
 "metadata": {
  "kernelspec": {
   "display_name": "Python 3 (ipykernel)",
   "language": "python",
   "name": "python3"
  },
  "language_info": {
   "codemirror_mode": {
    "name": "ipython",
    "version": 3
   },
   "file_extension": ".py",
   "mimetype": "text/x-python",
   "name": "python",
   "nbconvert_exporter": "python",
   "pygments_lexer": "ipython3",
   "version": "3.10.9"
  }
 },
 "nbformat": 4,
 "nbformat_minor": 5
}
