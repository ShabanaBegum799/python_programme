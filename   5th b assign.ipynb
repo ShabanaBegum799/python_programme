{
 "cells": [
  {
   "cell_type": "code",
   "execution_count": null,
   "id": "1ce8ca7d",
   "metadata": {},
   "outputs": [],
   "source": [
    "Write a program,  my age is more than 20 print teen_age other wise print younge_age?\n",
    "\ta.my_age is 20, who am i? Expected output: you are teen_age\n",
    "\tb.my_age is 30, who am i? Expected output: you are younge_age\n",
    "\tc.my_age is 10, who am i? \n",
    "\td.my_age is 40, who am i? "
   ]
  },
  {
   "cell_type": "code",
   "execution_count": 2,
   "id": "eeaa1419",
   "metadata": {},
   "outputs": [
    {
     "name": "stdout",
     "output_type": "stream",
     "text": [
      "you are young_age\n"
     ]
    }
   ],
   "source": [
    "Age=10\n",
    "if Age > 20 :\n",
    "    print(\"you are teen_age\")\n",
    "else:\n",
    "    print(\"you are young_age\")"
   ]
  },
  {
   "cell_type": "code",
   "execution_count": 4,
   "id": "e6d33d03",
   "metadata": {},
   "outputs": [
    {
     "name": "stdout",
     "output_type": "stream",
     "text": [
      "you are teen_age\n"
     ]
    }
   ],
   "source": [
    "age=30\n",
    "if age>20:\n",
    "    print(\"you are teen_age\")\n",
    "else:\n",
    "    print(\"you are young_age\")\n"
   ]
  },
  {
   "cell_type": "code",
   "execution_count": 5,
   "id": "795387d6",
   "metadata": {},
   "outputs": [
    {
     "name": "stdout",
     "output_type": "stream",
     "text": [
      "you are young_age\n"
     ]
    }
   ],
   "source": [
    "age=20\n",
    "if age>20:\n",
    "    print(\"you are teen_age\")\n",
    "else:print(\"you are young_age\")    "
   ]
  },
  {
   "cell_type": "code",
   "execution_count": null,
   "id": "2dbf1f5d",
   "metadata": {},
   "outputs": [],
   "source": [
    "Write a program today is Monday/Tuesday/Wendsday/Thursday/Friday print weekday otherwise print weekend?"
   ]
  },
  {
   "cell_type": "code",
   "execution_count": 5,
   "id": "9902b8ec",
   "metadata": {},
   "outputs": [
    {
     "name": "stdout",
     "output_type": "stream",
     "text": [
      "weekend\n"
     ]
    }
   ],
   "source": [
    "today=\"sunday\"\n",
    "if today==\"monday\":\n",
    "    print(\"weekday\")\n",
    "elif today==\"tuesday\":\n",
    "    print(\"weekday\")\n",
    "elif today==\"wednsday\":\n",
    "    print(\"weekday\")\n",
    "elif today==\"thursday\":\n",
    "    print(\"weekday\")\n",
    "elif today==\"friday\":\n",
    "    print(\"weekday\")\n",
    "elif today==\"saturday\":\n",
    "    print(\"weekday\")\n",
    "else:\n",
    "    print(\"weekend\")"
   ]
  },
  {
   "cell_type": "code",
   "execution_count": null,
   "id": "d672ecae",
   "metadata": {},
   "outputs": [],
   "source": [
    "Scenario1: Today my business income is 10/- if my income is more than 10/- then print \"i am profitable\" otherwise print \"i lost\"\n",
    "ఈ రోజు నా ఆదాయం 10. నా ఆదాయం 10 కంటే ఎక్కువ ఉంటే ప్రింట్ నేను లాభదాయకంగా ఉన్నాను లేకపోతే నేను పోగొట్టుకున్నాను."
   ]
  },
  {
   "cell_type": "code",
   "execution_count": 9,
   "id": "2b7a2151",
   "metadata": {},
   "outputs": [
    {
     "name": "stdout",
     "output_type": "stream",
     "text": [
      "i am profitable\n"
     ]
    }
   ],
   "source": [
    "income=40\n",
    "if income>10:\n",
    "    print(\"i am profitable\")\n",
    "else:\n",
    "    print(\"lost\")"
   ]
  },
  {
   "cell_type": "code",
   "execution_count": null,
   "id": "f1cdb12e",
   "metadata": {},
   "outputs": [],
   "source": [
    "Scenario2: your age is more than your sister age then print \"i am elder\" otherwise print \"i am younger\"\n",
    "మీ వయస్సు మీ సోదరి వయస్సు కంటే ఎక్కువగా ఉంటే, నేను పెద్దవాడిని అని ముద్రించండి లేకపోతే నేను చిన్నవాడిని అని ముద్రించండి"
   ]
  },
  {
   "cell_type": "code",
   "execution_count": 12,
   "id": "962eb81f",
   "metadata": {},
   "outputs": [
    {
     "name": "stdout",
     "output_type": "stream",
     "text": [
      "i am younger\n"
     ]
    }
   ],
   "source": [
    "sister_age=50\n",
    "my_age=40\n",
    "if sister_age<my_age:\n",
    "    print(\"i am elder\")\n",
    "else:\n",
    "    print(\"i am younger\")"
   ]
  },
  {
   "cell_type": "code",
   "execution_count": null,
   "id": "4e3bb60e",
   "metadata": {},
   "outputs": [],
   "source": [
    "Scenario5: my showroom vehicle types. \n",
    "if vehicle type is two wheeler print bike and scooty. \n",
    "if vehicle type is four wheeler print car, loory, van and zeep\n",
    "నా షోరూమ్ వాహనాల రకాలు. వాహనం రకం టూ వీలర్ ప్రింట్ బైక్ మరియు స్కూటీ అయితే. వాహనం రకం ఫోర్ వీలర్ ప్రింట్ కారు అయితే, లూరీ, వ్యాన్ మరియు జీప్\n"
   ]
  },
  {
   "cell_type": "code",
   "execution_count": 1,
   "id": "544b691b",
   "metadata": {},
   "outputs": [
    {
     "name": "stdout",
     "output_type": "stream",
     "text": [
      "two wheeler\n",
      "two wheeler\n",
      "four wheeler\n",
      "four wheeler\n",
      "four wheeler\n"
     ]
    }
   ],
   "source": [
    "vehcle=(\"bike\",\"scooty\",\"car\",\"lorry\",\"zeep\")\n",
    "for l in vehcle:\n",
    "    if l==\"bike\":\n",
    "        print(\"two wheeler\")\n",
    "    elif l==\"scooty\":\n",
    "        print(\"two wheeler\")\n",
    "    elif l==\"car\":\n",
    "        print(\"four wheeler\")\n",
    "    elif l==\"lorry\":\n",
    "        print(\"four wheeler\")      \n",
    "    elif l==\"zeep\":\n",
    "        print(\"four wheeler\")"
   ]
  },
  {
   "cell_type": "code",
   "execution_count": null,
   "id": "45c123c7",
   "metadata": {},
   "outputs": [],
   "source": [
    " Scenario4:my movie theater prices. price is 140 print balcony. price is 50 print chair. price is 100 print bench\n",
    " \n",
    "నా సినిమా థియేటర్ ధరలు. ధర 140 ప్రింట్ బాల్కనీ. ధర 50 ప్రింట్ కుర్చీ. ధర 100 ప్రింట్ బెంచ్\n"
   ]
  },
  {
   "cell_type": "code",
   "execution_count": 12,
   "id": "c3bdab6f",
   "metadata": {},
   "outputs": [
    {
     "name": "stdout",
     "output_type": "stream",
     "text": [
      "No Seats are availiable\n"
     ]
    }
   ],
   "source": [
    "theater_prices=(140,50,100)\n",
    "if theater_prices==140:\n",
    "    print(\"balcony\")\n",
    "elif theater_prices==50:\n",
    "    print(\"chair\")\n",
    "elif theater_prices==100:\n",
    "    print(\"bench\")\n",
    "else:\n",
    "    print(\"No Seats are availiable\")"
   ]
  },
  {
   "cell_type": "code",
   "execution_count": 14,
   "id": "2892a41b",
   "metadata": {},
   "outputs": [
    {
     "name": "stdout",
     "output_type": "stream",
     "text": [
      "balcony\n"
     ]
    }
   ],
   "source": [
    "theater_prices=140\n",
    "if theater_prices==140:\n",
    "    print(\"balcony\")\n",
    "elif theater_prices==50:\n",
    "    print(\"chair\")\n",
    "elif theater_prices==100:\n",
    "    print(\"bench\")\n",
    "else:\n",
    "    print(\"No Seats are availiable\")"
   ]
  },
  {
   "cell_type": "code",
   "execution_count": 15,
   "id": "9eda7f49",
   "metadata": {},
   "outputs": [
    {
     "name": "stdout",
     "output_type": "stream",
     "text": [
      "chair\n"
     ]
    }
   ],
   "source": [
    "theater_prices=50\n",
    "if theater_prices==140:\n",
    "    print(\"balcony\")\n",
    "elif theater_prices==50:\n",
    "    print(\"chair\")\n",
    "elif theater_prices==100:\n",
    "    print(\"bench\")\n",
    "else:\n",
    "    print(\"No Seats are availiable\")"
   ]
  },
  {
   "cell_type": "code",
   "execution_count": 16,
   "id": "88705259",
   "metadata": {},
   "outputs": [
    {
     "name": "stdout",
     "output_type": "stream",
     "text": [
      "bench\n"
     ]
    }
   ],
   "source": [
    "theater_prices=100\n",
    "if theater_prices==140:\n",
    "    print(\"balcony\")\n",
    "elif theater_prices==50:\n",
    "    print(\"chair\")\n",
    "elif theater_prices==100:\n",
    "    print(\"bench\")\n",
    "else:\n",
    "    print(\"No Seats are availiable\")"
   ]
  },
  {
   "cell_type": "code",
   "execution_count": null,
   "id": "e73f8fcb",
   "metadata": {},
   "outputs": [],
   "source": [
    "age=30\n",
    "if age>20:\n",
    "    print(\"you are teen_age\")\n",
    "else:\n",
    "    print(\"you are young_age\")"
   ]
  },
  {
   "cell_type": "code",
   "execution_count": 9,
   "id": "856b5c16",
   "metadata": {},
   "outputs": [
    {
     "name": "stdout",
     "output_type": "stream",
     "text": [
      "non veg\n"
     ]
    }
   ],
   "source": [
    "def restuarant(items)\n",
    "    if item==\"chicken biryani\":\n",
    "        print(\"non veg\")\n",
    "    elif item==\"mutton biryani\":\n",
    "        print(\"non veg\")\n",
    "    elif item==\"prawns biryani\":\n",
    "        print(\"non veg\")\n",
    "    else:\n",
    "        "
   ]
  },
  {
   "cell_type": "code",
   "execution_count": null,
   "id": "deb24195",
   "metadata": {},
   "outputs": [],
   "source": []
  }
 ],
 "metadata": {
  "kernelspec": {
   "display_name": "Python 3 (ipykernel)",
   "language": "python",
   "name": "python3"
  },
  "language_info": {
   "codemirror_mode": {
    "name": "ipython",
    "version": 3
   },
   "file_extension": ".py",
   "mimetype": "text/x-python",
   "name": "python",
   "nbconvert_exporter": "python",
   "pygments_lexer": "ipython3",
   "version": "3.10.9"
  }
 },
 "nbformat": 4,
 "nbformat_minor": 5
}
