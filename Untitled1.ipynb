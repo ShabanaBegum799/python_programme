{
 "cells": [
  {
   "cell_type": "code",
   "execution_count": 1,
   "id": "3f9d4429",
   "metadata": {},
   "outputs": [],
   "source": [
    "name1=\"mazeed\"\n",
    "name2=\"subhani\"\n",
    "name3=\"farjana\"\n",
    "name4=\"mobeena\"\n",
    "name5=\"fathima\"\n",
    "name6=\"saleem\"\n",
    "name7=\"siraj\"\n",
    "name8=\"safiya\"\n",
    "name9=\"afifa\"\n",
    "name10=\"tasleem\""
   ]
  },
  {
   "cell_type": "code",
   "execution_count": 1,
   "id": "d9f5861d",
   "metadata": {},
   "outputs": [],
   "source": [
    "dict1={\"name\" : \"shabana\"}"
   ]
  },
  {
   "cell_type": "code",
   "execution_count": 2,
   "id": "8b9a6081",
   "metadata": {},
   "outputs": [
    {
     "data": {
      "text/plain": [
       "{'name': 'shabana'}"
      ]
     },
     "execution_count": 2,
     "metadata": {},
     "output_type": "execute_result"
    }
   ],
   "source": [
    "dict1"
   ]
  },
  {
   "cell_type": "code",
   "execution_count": null,
   "id": "a7751065",
   "metadata": {},
   "outputs": [],
   "source": []
  },
  {
   "cell_type": "code",
   "execution_count": null,
   "id": "aed63ea8",
   "metadata": {},
   "outputs": [],
   "source": [
    "\n",
    "\n",
    "{\"key\" : \"keyvalue\"}\n",
    "\n",
    "{\"key\" : [\"keyvalue\",\"keyvalue\"]}\n",
    "\n",
    "{\"key1\" : [\"keyvalue\",\"keyvalue\"],\"key2\" : [\"keyvalue\",\"keyvalue\"]}"
   ]
  },
  {
   "cell_type": "code",
   "execution_count": 20,
   "id": "c5d51d01",
   "metadata": {},
   "outputs": [],
   "source": [
    "dict1={\"name\" : \"shabana\"}"
   ]
  },
  {
   "cell_type": "code",
   "execution_count": 6,
   "id": "bde4ffa4",
   "metadata": {},
   "outputs": [
    {
     "data": {
      "text/plain": [
       "{'name': 'shabana'}"
      ]
     },
     "execution_count": 6,
     "metadata": {},
     "output_type": "execute_result"
    }
   ],
   "source": [
    "dict1"
   ]
  },
  {
   "cell_type": "code",
   "execution_count": 19,
   "id": "74505b9c",
   "metadata": {},
   "outputs": [],
   "source": [
    "dict2={\"name\": [\"param\",\"shabana\"]}"
   ]
  },
  {
   "cell_type": "code",
   "execution_count": 8,
   "id": "a22c2e11",
   "metadata": {},
   "outputs": [
    {
     "data": {
      "text/plain": [
       "{'name': ['param', 'shabana']}"
      ]
     },
     "execution_count": 8,
     "metadata": {},
     "output_type": "execute_result"
    }
   ],
   "source": [
    "dict2"
   ]
  },
  {
   "cell_type": "code",
   "execution_count": 2,
   "id": "97ed85a4",
   "metadata": {},
   "outputs": [],
   "source": [
    "dict3={\"name\": [\"param\",\"shabana\",\"khaja\"], \"age\" : [\"23\",\"21\",\"20\"]}"
   ]
  },
  {
   "cell_type": "code",
   "execution_count": 21,
   "id": "04a9cb02",
   "metadata": {},
   "outputs": [
    {
     "ename": "SyntaxError",
     "evalue": "invalid syntax. Perhaps you forgot a comma? (3521376897.py, line 1)",
     "output_type": "error",
     "traceback": [
      "\u001b[1;36m  Cell \u001b[1;32mIn[21], line 1\u001b[1;36m\u001b[0m\n\u001b[1;33m    dict1={\"name\":[\"mazeed\",\"subhani\",\"farjana\",\"mobeena,\"]dict2={\"name\":[]}\u001b[0m\n\u001b[1;37m                  ^\u001b[0m\n\u001b[1;31mSyntaxError\u001b[0m\u001b[1;31m:\u001b[0m invalid syntax. Perhaps you forgot a comma?\n"
     ]
    }
   ],
   "source": [
    "dict1={\"name\":[\"mazeed\",\"subhani\",\"farjana\",\"mobeena,\"]dict2={\"name\":[]}"
   ]
  },
  {
   "cell_type": "code",
   "execution_count": 24,
   "id": "5309ba4b",
   "metadata": {},
   "outputs": [],
   "source": [
    "dict={\"names\":[\"mazed\",\"zahrunnisa\",\"safiya\",\"mobeena\",\"saleem\",\"gouse\",\"salma\"],\"relations\":[\"father\",\"mother\",\"daughter\",\"sister\",\"brother\",\"grandfather\",\"grandmother\"]}"
   ]
  },
  {
   "cell_type": "code",
   "execution_count": 25,
   "id": "15b49599",
   "metadata": {
    "scrolled": true
   },
   "outputs": [
    {
     "data": {
      "text/plain": [
       "{'names': ['mazed',\n",
       "  'zahrunnisa',\n",
       "  'safiya',\n",
       "  'mobeena',\n",
       "  'saleem',\n",
       "  'gouse',\n",
       "  'salma'],\n",
       " 'relations': ['father',\n",
       "  'mother',\n",
       "  'daughter',\n",
       "  'sister',\n",
       "  'brother',\n",
       "  'grandfather',\n",
       "  'grandmother']}"
      ]
     },
     "execution_count": 25,
     "metadata": {},
     "output_type": "execute_result"
    }
   ],
   "source": [
    "dict"
   ]
  },
  {
   "cell_type": "code",
   "execution_count": 28,
   "id": "2f85d196",
   "metadata": {},
   "outputs": [
    {
     "data": {
      "text/plain": [
       "('safiya', 'daughter')"
      ]
     },
     "execution_count": 28,
     "metadata": {},
     "output_type": "execute_result"
    }
   ],
   "source": [
    "dict[\"names\"][2],dict[\"relations\"][2]"
   ]
  },
  {
   "cell_type": "code",
   "execution_count": 26,
   "id": "10393ad1",
   "metadata": {},
   "outputs": [
    {
     "data": {
      "text/plain": [
       "('zahrunnisa', 'mother')"
      ]
     },
     "execution_count": 26,
     "metadata": {},
     "output_type": "execute_result"
    }
   ],
   "source": [
    "dict[\"names\"][1],dict[\"relations\"][1]"
   ]
  },
  {
   "cell_type": "code",
   "execution_count": 27,
   "id": "919d2184",
   "metadata": {},
   "outputs": [
    {
     "name": "stdout",
     "output_type": "stream",
     "text": [
      "zahrunnisa is my mother\n"
     ]
    }
   ],
   "source": [
    "print(dict[\"names\"][1],\"is my\",dict[\"relations\"][1])"
   ]
  },
  {
   "cell_type": "code",
   "execution_count": 29,
   "id": "9abd27f6",
   "metadata": {},
   "outputs": [
    {
     "data": {
      "text/plain": [
       "(['mazed', 'zahrunnisa', 'safiya', 'mobeena', 'saleem', 'gouse', 'salma'],\n",
       " ['father',\n",
       "  'mother',\n",
       "  'daughter',\n",
       "  'sister',\n",
       "  'brother',\n",
       "  'grandfather',\n",
       "  'grandmother'])"
      ]
     },
     "execution_count": 29,
     "metadata": {},
     "output_type": "execute_result"
    }
   ],
   "source": [
    "dict[\"names\"],dict[\"relations\"]"
   ]
  },
  {
   "cell_type": "code",
   "execution_count": 32,
   "id": "f924af0e",
   "metadata": {},
   "outputs": [
    {
     "name": "stdout",
     "output_type": "stream",
     "text": [
      "mazed father\n"
     ]
    }
   ],
   "source": [
    "print(dict[\"names\"][0],dict[\"relations\"][0])"
   ]
  },
  {
   "cell_type": "code",
   "execution_count": 33,
   "id": "ab9befa7",
   "metadata": {},
   "outputs": [
    {
     "name": "stdout",
     "output_type": "stream",
     "text": [
      "safiya favoratefamilymembermame\n"
     ]
    }
   ],
   "source": [
    "print(dict[\"names\"][2],\"favoratefamilymembermame\")"
   ]
  },
  {
   "cell_type": "code",
   "execution_count": 46,
   "id": "d22858d4",
   "metadata": {},
   "outputs": [],
   "source": [
    "dict= {\"names\":[\"sushma\",\"meghana\",\"anusha\",\"parveen\",\"anusha\",\"chandini\"],\"quality\":[\"talk\",\"active\",\"anger\",\"intelligent\",\"funny\",\"sportive\"]}"
   ]
  },
  {
   "cell_type": "code",
   "execution_count": 39,
   "id": "cef6ab4a",
   "metadata": {},
   "outputs": [
    {
     "data": {
      "text/plain": [
       "{'names': ['sushma', 'meghana', 'anusha', 'parveen', 'anusha', 'chandini'],\n",
       " 'quality': ['talk', 'active', 'anger', 'intelligent', 'funny', 'sportive']}"
      ]
     },
     "execution_count": 39,
     "metadata": {},
     "output_type": "execute_result"
    }
   ],
   "source": [
    "dict"
   ]
  },
  {
   "cell_type": "code",
   "execution_count": 44,
   "id": "f251290e",
   "metadata": {},
   "outputs": [],
   "source": [
    "Assgn={\"Mother\":\"Shabana\",\"Father\":\"Subhani\",\"Daughter\":\"Safiya\"}"
   ]
  },
  {
   "cell_type": "code",
   "execution_count": 41,
   "id": "4147c9f0",
   "metadata": {},
   "outputs": [
    {
     "data": {
      "text/plain": [
       "{'Mother': 'Shabana', 'Father': 'Subhani', 'Daughter': 'Safiya'}"
      ]
     },
     "execution_count": 41,
     "metadata": {},
     "output_type": "execute_result"
    }
   ],
   "source": [
    "dict"
   ]
  },
  {
   "cell_type": "code",
   "execution_count": 43,
   "id": "33ee7f64",
   "metadata": {},
   "outputs": [
    {
     "data": {
      "text/plain": [
       "{'names': ['sushma', 'meghana', 'anusha', 'parveen', 'anusha', 'chandini'],\n",
       " 'quality': ['talk', 'active', 'anger', 'intelligent', 'funny', 'sportive']}"
      ]
     },
     "execution_count": 43,
     "metadata": {},
     "output_type": "execute_result"
    }
   ],
   "source": [
    "dict"
   ]
  },
  {
   "cell_type": "code",
   "execution_count": 45,
   "id": "940d4eec",
   "metadata": {},
   "outputs": [
    {
     "data": {
      "text/plain": [
       "{'Mother': 'Shabana', 'Father': 'Subhani', 'Daughter': 'Safiya'}"
      ]
     },
     "execution_count": 45,
     "metadata": {},
     "output_type": "execute_result"
    }
   ],
   "source": [
    "Assgn"
   ]
  },
  {
   "cell_type": "code",
   "execution_count": 47,
   "id": "aa8f8f60",
   "metadata": {},
   "outputs": [
    {
     "data": {
      "text/plain": [
       "{'names': ['sushma', 'meghana', 'anusha', 'parveen', 'anusha', 'chandini'],\n",
       " 'quality': ['talk', 'active', 'anger', 'intelligent', 'funny', 'sportive']}"
      ]
     },
     "execution_count": 47,
     "metadata": {},
     "output_type": "execute_result"
    }
   ],
   "source": [
    "dict"
   ]
  },
  {
   "cell_type": "code",
   "execution_count": 51,
   "id": "df169a95",
   "metadata": {},
   "outputs": [
    {
     "name": "stdout",
     "output_type": "stream",
     "text": [
      "parveen intellegent friendname\n"
     ]
    }
   ],
   "source": [
    "print(dict[\"names\"][3],\"intellegent friendname\")"
   ]
  },
  {
   "cell_type": "code",
   "execution_count": 58,
   "id": "2c83a7bb",
   "metadata": {},
   "outputs": [
    {
     "name": "stdout",
     "output_type": "stream",
     "text": [
      "['sushma', 'meghana', 'anusha', 'parveen', 'anusha', 'chandini']\n"
     ]
    }
   ],
   "source": [
    "print(dict.get(\"names\"))"
   ]
  },
  {
   "cell_type": "code",
   "execution_count": 59,
   "id": "7a71bed6",
   "metadata": {},
   "outputs": [
    {
     "name": "stdout",
     "output_type": "stream",
     "text": [
      "['talk', 'active', 'anger', 'intelligent', 'funny', 'sportive']\n"
     ]
    }
   ],
   "source": [
    "print(dict.get(\"quality\"))"
   ]
  },
  {
   "cell_type": "code",
   "execution_count": 16,
   "id": "fd701e52",
   "metadata": {},
   "outputs": [],
   "source": [
    "dict1={\"food_names\":[\"chiknbiryani\", \"muttonbiryani\", \"fish\", \"chickencurry\", \"binjal\", \"potatochips\",  \"ladysfingerfry\", \"carrot\", \"beatroot\"]\n",
    ",\"rating\":[\"150\",\"250\",\"100\",\"130\",\"110\",\"50\",\"30\",\"60\"]}"
   ]
  },
  {
   "cell_type": "code",
   "execution_count": 17,
   "id": "c1440551",
   "metadata": {},
   "outputs": [
    {
     "data": {
      "text/plain": [
       "('chiknbiryani', '150')"
      ]
     },
     "execution_count": 17,
     "metadata": {},
     "output_type": "execute_result"
    }
   ],
   "source": [
    "dict1[\"food_names\"][0],dict1[\"rating\"][0]"
   ]
  },
  {
   "cell_type": "code",
   "execution_count": 20,
   "id": "c254f116",
   "metadata": {},
   "outputs": [],
   "source": [
    "dict={\"veg_items\":[\"potatochips\",\"brinjal\",\"ladysfinger\",\"carrot\",\"beatroot\"],\"rating\":['130','110','50','30','60']}"
   ]
  },
  {
   "cell_type": "code",
   "execution_count": 21,
   "id": "8f82cb15",
   "metadata": {
    "scrolled": true
   },
   "outputs": [
    {
     "data": {
      "text/plain": [
       "{'veg_items': ['potatochips', 'brinjal', 'ladysfinger', 'carrot', 'beatroot'],\n",
       " 'rating': ['130', '110', '50', '30', '60']}"
      ]
     },
     "execution_count": 21,
     "metadata": {},
     "output_type": "execute_result"
    }
   ],
   "source": [
    "dict"
   ]
  },
  {
   "cell_type": "code",
   "execution_count": 23,
   "id": "280692b1",
   "metadata": {},
   "outputs": [],
   "source": [
    "dict={\"veg_items\":[\"potatochips\",\"brinjal\",\"ladysfinger\",\"carrot\",\"beatroot\"],\"rating\":[\"130\",\"110\",\"50\",\"30\",\"60\"]}"
   ]
  },
  {
   "cell_type": "code",
   "execution_count": 26,
   "id": "0d55de0f",
   "metadata": {},
   "outputs": [
    {
     "data": {
      "text/plain": [
       "{'veg_items': ['potatochips', 'brinjal', 'ladysfinger', 'carrot', 'beatroot'],\n",
       " 'rating': ['130', '110', '50', '30', '60']}"
      ]
     },
     "execution_count": 26,
     "metadata": {},
     "output_type": "execute_result"
    }
   ],
   "source": [
    "dict"
   ]
  },
  {
   "cell_type": "code",
   "execution_count": 27,
   "id": "08e7b0e8",
   "metadata": {},
   "outputs": [
    {
     "data": {
      "text/plain": [
       "('beatroot', '60')"
      ]
     },
     "execution_count": 27,
     "metadata": {},
     "output_type": "execute_result"
    }
   ],
   "source": [
    "dict[\"veg_items\"][4],dict[\"rating\"][4]"
   ]
  },
  {
   "cell_type": "code",
   "execution_count": 6,
   "id": "5ffb2485",
   "metadata": {},
   "outputs": [],
   "source": [
    "dict={\"non_veg\":[\"chikenbiryani\",\"muttonbiryani\",\"fish\",],\"rating\":[\"150\",\"250\",\"100\"]}"
   ]
  },
  {
   "cell_type": "code",
   "execution_count": 7,
   "id": "801d0a91",
   "metadata": {},
   "outputs": [
    {
     "name": "stdout",
     "output_type": "stream",
     "text": [
      "{'non_veg': ['chikenbiryani', 'muttonbiryani', 'fish'], 'rating': ['150', '250', '100']}\n"
     ]
    }
   ],
   "source": [
    "print(dict)"
   ]
  },
  {
   "cell_type": "code",
   "execution_count": 17,
   "id": "e0f4164c",
   "metadata": {},
   "outputs": [
    {
     "data": {
      "text/plain": [
       "('muttonbiryani', '250')"
      ]
     },
     "execution_count": 17,
     "metadata": {},
     "output_type": "execute_result"
    }
   ],
   "source": [
    "dict[\"non_veg\"][1],dict[\"rating\"][1]"
   ]
  },
  {
   "cell_type": "code",
   "execution_count": 32,
   "id": "994156d5",
   "metadata": {},
   "outputs": [
    {
     "data": {
      "text/plain": [
       "{'cities': ['chennai', 'nagpiur', 'surath', 'jaopur'], 'rating': [1, 2, 3, 4]}"
      ]
     },
     "execution_count": 32,
     "metadata": {},
     "output_type": "execute_result"
    }
   ],
   "source": [
    "{\"cities\":[\"chennai\",\"nagpiur\",\"surath\",\"jaopur\"],\"rating\":[1,2,3,4,]}"
   ]
  },
  {
   "cell_type": "code",
   "execution_count": 1,
   "id": "11c8db7e",
   "metadata": {},
   "outputs": [],
   "source": [
    "dict={\"cities\":[\"chennai\",\"nagpiur\",\"surath\",\"jaopur\"],\"rating\":[1,2,3,4,]}"
   ]
  },
  {
   "cell_type": "code",
   "execution_count": 37,
   "id": "ef0d1972",
   "metadata": {},
   "outputs": [
    {
     "data": {
      "text/plain": [
       "('chennai', 1)"
      ]
     },
     "execution_count": 37,
     "metadata": {},
     "output_type": "execute_result"
    }
   ],
   "source": [
    "dict[\"cities\"][0],dict[\"rating\"][0]"
   ]
  },
  {
   "cell_type": "code",
   "execution_count": 7,
   "id": "20c391e4",
   "metadata": {},
   "outputs": [
    {
     "data": {
      "text/plain": [
       "(['chennai', 'nagpiur', 'surath'], [1, 2, 3])"
      ]
     },
     "execution_count": 7,
     "metadata": {},
     "output_type": "execute_result"
    }
   ],
   "source": [
    "dict[\"cities\"][0:3],dict[\"rating\"][0:3]"
   ]
  },
  {
   "cell_type": "code",
   "execution_count": 42,
   "id": "ec627368",
   "metadata": {},
   "outputs": [],
   "source": [
    "dict={'names': ['sushma', 'meghana', 'anusha', 'parveen', 'anusha', 'chandini'],\n",
    " 'quality': ['talk', 'active', 'anger', 'intelligent', 'funny', 'sportive']}"
   ]
  },
  {
   "cell_type": "code",
   "execution_count": 44,
   "id": "3b071d5e",
   "metadata": {},
   "outputs": [
    {
     "data": {
      "text/plain": [
       "('parveen', 'intelligent')"
      ]
     },
     "execution_count": 44,
     "metadata": {},
     "output_type": "execute_result"
    }
   ],
   "source": [
    "dict[\"names\"][3],dict[\"quality\"][3]"
   ]
  },
  {
   "cell_type": "code",
   "execution_count": 20,
   "id": "63df9ad4",
   "metadata": {},
   "outputs": [],
   "source": [
    "event={\"father\":\"mazeed\",\"mother\":\"zahurunnisa\",\"brother\":\"siraj\"}"
   ]
  },
  {
   "cell_type": "code",
   "execution_count": 8,
   "id": "5b68d846",
   "metadata": {},
   "outputs": [
    {
     "data": {
      "text/plain": [
       "'mazeed'"
      ]
     },
     "execution_count": 8,
     "metadata": {},
     "output_type": "execute_result"
    }
   ],
   "source": [
    "event[\"father\"]"
   ]
  },
  {
   "cell_type": "code",
   "execution_count": 21,
   "id": "99da2da7",
   "metadata": {},
   "outputs": [
    {
     "name": "stdout",
     "output_type": "stream",
     "text": [
      "favourate mazeed\n"
     ]
    }
   ],
   "source": [
    "print(\"favourate\",event[\"father\"])"
   ]
  },
  {
   "cell_type": "code",
   "execution_count": null,
   "id": "eec56303",
   "metadata": {},
   "outputs": [],
   "source": []
  }
 ],
 "metadata": {
  "kernelspec": {
   "display_name": "Python 3 (ipykernel)",
   "language": "python",
   "name": "python3"
  },
  "language_info": {
   "codemirror_mode": {
    "name": "ipython",
    "version": 3
   },
   "file_extension": ".py",
   "mimetype": "text/x-python",
   "name": "python",
   "nbconvert_exporter": "python",
   "pygments_lexer": "ipython3",
   "version": "3.10.9"
  }
 },
 "nbformat": 4,
 "nbformat_minor": 5
}
