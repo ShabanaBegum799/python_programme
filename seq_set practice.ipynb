{
 "cells": [
  {
   "cell_type": "code",
   "execution_count": 1,
   "id": "3f7eba48",
   "metadata": {},
   "outputs": [],
   "source": [
    "lst1=[\"a\",\"p\",\"c\",\"d\",\"p\",\"a\",\"d\"]"
   ]
  },
  {
   "cell_type": "code",
   "execution_count": 2,
   "id": "3dc3af6d",
   "metadata": {},
   "outputs": [
    {
     "name": "stdout",
     "output_type": "stream",
     "text": [
      "['a', 'p', 'c', 'd', 'p', 'a', 'd']\n"
     ]
    }
   ],
   "source": [
    "print(lst1)"
   ]
  },
  {
   "cell_type": "code",
   "execution_count": 3,
   "id": "8a0df4e1",
   "metadata": {},
   "outputs": [],
   "source": [
    "seq_set=set(lst1)"
   ]
  },
  {
   "cell_type": "code",
   "execution_count": 4,
   "id": "7f70b50b",
   "metadata": {},
   "outputs": [
    {
     "data": {
      "text/plain": [
       "{'a', 'c', 'd', 'p'}"
      ]
     },
     "execution_count": 4,
     "metadata": {},
     "output_type": "execute_result"
    }
   ],
   "source": [
    "seq_set"
   ]
  },
  {
   "cell_type": "code",
   "execution_count": 5,
   "id": "9f5cd199",
   "metadata": {},
   "outputs": [],
   "source": [
    "lst=[\"shabana\",\"anusha\",\"durga\",\"nasheena\",\"anusha\"]"
   ]
  },
  {
   "cell_type": "code",
   "execution_count": 6,
   "id": "f3028612",
   "metadata": {},
   "outputs": [],
   "source": [
    "seq_set=set(lst)"
   ]
  },
  {
   "cell_type": "code",
   "execution_count": 7,
   "id": "197b351c",
   "metadata": {},
   "outputs": [
    {
     "data": {
      "text/plain": [
       "{'anusha', 'durga', 'nasheena', 'shabana'}"
      ]
     },
     "execution_count": 7,
     "metadata": {},
     "output_type": "execute_result"
    }
   ],
   "source": [
    "seq_set"
   ]
  },
  {
   "cell_type": "code",
   "execution_count": 8,
   "id": "2e2ee064",
   "metadata": {},
   "outputs": [],
   "source": [
    "lst=[\"mobeena\",\"siraj\",\"tasleem\",\"farjana\"]"
   ]
  },
  {
   "cell_type": "code",
   "execution_count": 9,
   "id": "b12fc65e",
   "metadata": {},
   "outputs": [],
   "source": [
    "seq_set=set(lst)"
   ]
  },
  {
   "cell_type": "code",
   "execution_count": 10,
   "id": "a9ce7c68",
   "metadata": {},
   "outputs": [
    {
     "data": {
      "text/plain": [
       "{'farjana', 'mobeena', 'siraj', 'tasleem'}"
      ]
     },
     "execution_count": 10,
     "metadata": {},
     "output_type": "execute_result"
    }
   ],
   "source": [
    "seq_set"
   ]
  },
  {
   "cell_type": "code",
   "execution_count": 11,
   "id": "15b8b6c5",
   "metadata": {},
   "outputs": [],
   "source": [
    "lst=[1,3,4,3,6,7,6,7]"
   ]
  },
  {
   "cell_type": "code",
   "execution_count": 12,
   "id": "ac616a2e",
   "metadata": {},
   "outputs": [],
   "source": [
    "seq_set=set(lst)"
   ]
  },
  {
   "cell_type": "code",
   "execution_count": 13,
   "id": "aab46699",
   "metadata": {},
   "outputs": [
    {
     "data": {
      "text/plain": [
       "{1, 3, 4, 6, 7}"
      ]
     },
     "execution_count": 13,
     "metadata": {},
     "output_type": "execute_result"
    }
   ],
   "source": [
    "seq_set"
   ]
  },
  {
   "cell_type": "code",
   "execution_count": 14,
   "id": "3cd55f62",
   "metadata": {},
   "outputs": [],
   "source": [
    "lst=[\"a\",\"b\",\"c\",\"d\",\"e\",\"f\",\"g\",\"h\",\"i\",\"j\"]"
   ]
  },
  {
   "cell_type": "code",
   "execution_count": 15,
   "id": "7d874946",
   "metadata": {},
   "outputs": [
    {
     "data": {
      "text/plain": [
       "['a', 'b', 'c', 'd', 'e', 'f', 'g', 'h', 'i', 'j']"
      ]
     },
     "execution_count": 15,
     "metadata": {},
     "output_type": "execute_result"
    }
   ],
   "source": [
    "lst[0:]"
   ]
  },
  {
   "cell_type": "code",
   "execution_count": 16,
   "id": "7adccc77",
   "metadata": {},
   "outputs": [
    {
     "data": {
      "text/plain": [
       "['a', 'b', 'c', 'd', 'e', 'f', 'g', 'h', 'i', 'j']"
      ]
     },
     "execution_count": 16,
     "metadata": {},
     "output_type": "execute_result"
    }
   ],
   "source": [
    "lst[0:10]"
   ]
  },
  {
   "cell_type": "code",
   "execution_count": 17,
   "id": "4cb58ae5",
   "metadata": {},
   "outputs": [
    {
     "data": {
      "text/plain": [
       "['a', 'b', 'c', 'd', 'e', 'f']"
      ]
     },
     "execution_count": 17,
     "metadata": {},
     "output_type": "execute_result"
    }
   ],
   "source": [
    "lst[0:6]"
   ]
  },
  {
   "cell_type": "code",
   "execution_count": 18,
   "id": "3a93392c",
   "metadata": {},
   "outputs": [
    {
     "data": {
      "text/plain": [
       "'j'"
      ]
     },
     "execution_count": 18,
     "metadata": {},
     "output_type": "execute_result"
    }
   ],
   "source": [
    "lst[-1]"
   ]
  },
  {
   "cell_type": "code",
   "execution_count": 19,
   "id": "ab388686",
   "metadata": {},
   "outputs": [
    {
     "data": {
      "text/plain": [
       "['a', 'b', 'c']"
      ]
     },
     "execution_count": 19,
     "metadata": {},
     "output_type": "execute_result"
    }
   ],
   "source": [
    "lst[0:3]"
   ]
  },
  {
   "cell_type": "code",
   "execution_count": 20,
   "id": "3990cd8b",
   "metadata": {},
   "outputs": [],
   "source": [
    "tup=(1,2,3,4,5,6,7,8,9,10)"
   ]
  },
  {
   "cell_type": "code",
   "execution_count": 21,
   "id": "2ac6f5e9",
   "metadata": {},
   "outputs": [
    {
     "name": "stdout",
     "output_type": "stream",
     "text": [
      "(1, 2, 3, 4, 5, 6, 7, 8, 9, 10)\n"
     ]
    }
   ],
   "source": [
    "print(tup)"
   ]
  },
  {
   "cell_type": "code",
   "execution_count": 22,
   "id": "33be39f8",
   "metadata": {},
   "outputs": [
    {
     "data": {
      "text/plain": [
       "(1, 2, 3, 4, 5, 6, 7, 8, 9, 10)"
      ]
     },
     "execution_count": 22,
     "metadata": {},
     "output_type": "execute_result"
    }
   ],
   "source": [
    "tup[0:10]"
   ]
  },
  {
   "cell_type": "code",
   "execution_count": 23,
   "id": "ffecc569",
   "metadata": {},
   "outputs": [
    {
     "data": {
      "text/plain": [
       "(1, 2, 3, 4, 5, 6, 7, 8, 9)"
      ]
     },
     "execution_count": 23,
     "metadata": {},
     "output_type": "execute_result"
    }
   ],
   "source": [
    "tup[0:-1]"
   ]
  },
  {
   "cell_type": "code",
   "execution_count": 24,
   "id": "f9a4f037",
   "metadata": {},
   "outputs": [
    {
     "data": {
      "text/plain": [
       "(1, 2, 3, 4, 5, 6, 7, 8, 9, 10)"
      ]
     },
     "execution_count": 24,
     "metadata": {},
     "output_type": "execute_result"
    }
   ],
   "source": [
    "tup[0:]"
   ]
  },
  {
   "cell_type": "code",
   "execution_count": 25,
   "id": "018f30f3",
   "metadata": {},
   "outputs": [],
   "source": [
    "lst={\"shabana\",\"anusha\",\"durga\",\"nasheena\",\"anusha\"}"
   ]
  },
  {
   "cell_type": "code",
   "execution_count": 26,
   "id": "edabb5d1",
   "metadata": {},
   "outputs": [
    {
     "name": "stdout",
     "output_type": "stream",
     "text": [
      "{'durga', 'anusha', 'shabana', 'nasheena'}\n"
     ]
    }
   ],
   "source": [
    "print(lst)"
   ]
  },
  {
   "cell_type": "code",
   "execution_count": 27,
   "id": "a533f220",
   "metadata": {},
   "outputs": [],
   "source": [
    "#----creating alist data------"
   ]
  },
  {
   "cell_type": "code",
   "execution_count": 28,
   "id": "63d09bc2",
   "metadata": {},
   "outputs": [],
   "source": [
    "list=[\"anusha\",\"durga\",\"jayasri\",\"nasheena\"]"
   ]
  },
  {
   "cell_type": "code",
   "execution_count": 29,
   "id": "c8fc9c98",
   "metadata": {},
   "outputs": [
    {
     "data": {
      "text/plain": [
       "['anusha', 'durga', 'jayasri', 'nasheena']"
      ]
     },
     "execution_count": 29,
     "metadata": {},
     "output_type": "execute_result"
    }
   ],
   "source": [
    "list"
   ]
  },
  {
   "cell_type": "code",
   "execution_count": 30,
   "id": "9359f54b",
   "metadata": {},
   "outputs": [],
   "source": [
    "#------replacing positon 4 th value 73"
   ]
  },
  {
   "cell_type": "code",
   "execution_count": 31,
   "id": "08d4b326",
   "metadata": {},
   "outputs": [],
   "source": [
    "list=[1,2,4,5,6,89,72,55,3,1]\n"
   ]
  },
  {
   "cell_type": "code",
   "execution_count": 32,
   "id": "886c48d0",
   "metadata": {},
   "outputs": [],
   "source": [
    "list[4]=73"
   ]
  },
  {
   "cell_type": "code",
   "execution_count": 33,
   "id": "b2f74b55",
   "metadata": {},
   "outputs": [
    {
     "data": {
      "text/plain": [
       "[1, 2, 4, 5, 73, 89, 72, 55, 3, 1]"
      ]
     },
     "execution_count": 33,
     "metadata": {},
     "output_type": "execute_result"
    }
   ],
   "source": [
    "list"
   ]
  },
  {
   "cell_type": "code",
   "execution_count": 34,
   "id": "16dcb308",
   "metadata": {},
   "outputs": [],
   "source": [
    "#-----------converting  list to set--------"
   ]
  },
  {
   "cell_type": "code",
   "execution_count": 35,
   "id": "9a31acdd",
   "metadata": {},
   "outputs": [],
   "source": [
    "seq_set=set(list)"
   ]
  },
  {
   "cell_type": "code",
   "execution_count": 36,
   "id": "45cfdaf0",
   "metadata": {},
   "outputs": [
    {
     "data": {
      "text/plain": [
       "{1, 2, 3, 4, 5, 55, 72, 73, 89}"
      ]
     },
     "execution_count": 36,
     "metadata": {},
     "output_type": "execute_result"
    }
   ],
   "source": [
    "seq_set"
   ]
  },
  {
   "cell_type": "code",
   "execution_count": 37,
   "id": "3a240bff",
   "metadata": {},
   "outputs": [],
   "source": [
    "#--------converting list to tuple-----"
   ]
  },
  {
   "cell_type": "code",
   "execution_count": 47,
   "id": "b76d9a1a",
   "metadata": {},
   "outputs": [],
   "source": [
    "list=[2,4,5,6,1,20,15]"
   ]
  },
  {
   "cell_type": "code",
   "execution_count": 39,
   "id": "16442c53",
   "metadata": {},
   "outputs": [
    {
     "data": {
      "text/plain": [
       "[2, 4, 5, 6, 1, 20, 15]"
      ]
     },
     "execution_count": 39,
     "metadata": {},
     "output_type": "execute_result"
    }
   ],
   "source": [
    "list"
   ]
  },
  {
   "cell_type": "code",
   "execution_count": 40,
   "id": "f355b792",
   "metadata": {},
   "outputs": [],
   "source": [
    "list_tup=tuple(list)"
   ]
  },
  {
   "cell_type": "code",
   "execution_count": 41,
   "id": "25e0c457",
   "metadata": {},
   "outputs": [
    {
     "data": {
      "text/plain": [
       "(2, 4, 5, 6, 1, 20, 15)"
      ]
     },
     "execution_count": 41,
     "metadata": {},
     "output_type": "execute_result"
    }
   ],
   "source": [
    "list_tup"
   ]
  },
  {
   "cell_type": "code",
   "execution_count": 42,
   "id": "e3b326b2",
   "metadata": {},
   "outputs": [],
   "source": [
    "#--------------converting tuple to list----"
   ]
  },
  {
   "cell_type": "code",
   "execution_count": 45,
   "id": "ecfdea22",
   "metadata": {},
   "outputs": [],
   "source": [
    "tup_list=tuple(list)"
   ]
  },
  {
   "cell_type": "code",
   "execution_count": 46,
   "id": "7f7bf178",
   "metadata": {},
   "outputs": [
    {
     "data": {
      "text/plain": [
       "(2, 4, 5, 6, 1, 20, 15)"
      ]
     },
     "execution_count": 46,
     "metadata": {},
     "output_type": "execute_result"
    }
   ],
   "source": [
    "tup_list"
   ]
  },
  {
   "cell_type": "code",
   "execution_count": 48,
   "id": "b76beacc",
   "metadata": {},
   "outputs": [],
   "source": [
    "tup_list=tuple(list)"
   ]
  },
  {
   "cell_type": "code",
   "execution_count": 49,
   "id": "8f781185",
   "metadata": {},
   "outputs": [
    {
     "data": {
      "text/plain": [
       "(2, 4, 5, 6, 1, 20, 15)"
      ]
     },
     "execution_count": 49,
     "metadata": {},
     "output_type": "execute_result"
    }
   ],
   "source": [
    "tup_list"
   ]
  },
  {
   "cell_type": "code",
   "execution_count": null,
   "id": "68067bc4",
   "metadata": {},
   "outputs": [],
   "source": [
    "#-----creating a set------"
   ]
  }
 ],
 "metadata": {
  "kernelspec": {
   "display_name": "Python 3 (ipykernel)",
   "language": "python",
   "name": "python3"
  },
  "language_info": {
   "codemirror_mode": {
    "name": "ipython",
    "version": 3
   },
   "file_extension": ".py",
   "mimetype": "text/x-python",
   "name": "python",
   "nbconvert_exporter": "python",
   "pygments_lexer": "ipython3",
   "version": "3.10.9"
  }
 },
 "nbformat": 4,
 "nbformat_minor": 5
}
